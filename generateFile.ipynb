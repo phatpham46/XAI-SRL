{
 "cells": [
  {
   "cell_type": "markdown",
   "metadata": {},
   "source": [
    "# Make file file .pkl"
   ]
  },
  {
   "cell_type": "code",
   "execution_count": 1,
   "metadata": {},
   "outputs": [
    {
     "name": "stderr",
     "output_type": "stream",
     "text": [
      "/home/tiendat/anaconda3/envs/thesis/lib/python3.9/site-packages/tqdm/auto.py:21: TqdmWarning: IProgress not found. Please update jupyter and ipywidgets. See https://ipywidgets.readthedocs.io/en/stable/user_install.html\n",
      "  from .autonotebook import tqdm as notebook_tqdm\n",
      "/home/tiendat/anaconda3/envs/thesis/lib/python3.9/site-packages/transformers/deepspeed.py:23: FutureWarning: transformers.deepspeed module is deprecated and will be removed in a future version. Please import deepspeed modules directly from transformers.integrations\n",
      "  warnings.warn(\n",
      "/home/tiendat/anaconda3/envs/thesis/lib/python3.9/site-packages/huggingface_hub/file_download.py:1132: FutureWarning: `resume_download` is deprecated and will be removed in version 1.0.0. Downloads always resume when possible. If you want to force a new download, use `force_download=True`.\n",
      "  warnings.warn(\n",
      "loading file vocab.txt from cache at /home/tiendat/.cache/huggingface/hub/models--dmis-lab--biobert-base-cased-v1.2/snapshots/67c9c25b46986521ca33df05d8540da1210b3256/vocab.txt\n",
      "loading file added_tokens.json from cache at None\n",
      "loading file special_tokens_map.json from cache at None\n",
      "loading file tokenizer_config.json from cache at None\n",
      "loading file tokenizer.json from cache at None\n",
      "loading configuration file config.json from cache at /home/tiendat/.cache/huggingface/hub/models--dmis-lab--biobert-base-cased-v1.2/snapshots/67c9c25b46986521ca33df05d8540da1210b3256/config.json\n",
      "Model config BertConfig {\n",
      "  \"_name_or_path\": \"dmis-lab/biobert-base-cased-v1.2\",\n",
      "  \"architectures\": [\n",
      "    \"BertForMaskedLM\"\n",
      "  ],\n",
      "  \"attention_probs_dropout_prob\": 0.1,\n",
      "  \"classifier_dropout\": null,\n",
      "  \"hidden_act\": \"gelu\",\n",
      "  \"hidden_dropout_prob\": 0.1,\n",
      "  \"hidden_size\": 768,\n",
      "  \"initializer_range\": 0.02,\n",
      "  \"intermediate_size\": 3072,\n",
      "  \"layer_norm_eps\": 1e-12,\n",
      "  \"max_position_embeddings\": 512,\n",
      "  \"model_type\": \"bert\",\n",
      "  \"num_attention_heads\": 12,\n",
      "  \"num_hidden_layers\": 12,\n",
      "  \"pad_token_id\": 0,\n",
      "  \"position_embedding_type\": \"absolute\",\n",
      "  \"transformers_version\": \"4.40.1\",\n",
      "  \"type_vocab_size\": 2,\n",
      "  \"use_cache\": true,\n",
      "  \"vocab_size\": 28996\n",
      "}\n",
      "\n"
     ]
    }
   ],
   "source": [
    "from make_data_masked import make_masked_data"
   ]
  },
  {
   "cell_type": "code",
   "execution_count": 2,
   "metadata": {},
   "outputs": [
    {
     "name": "stderr",
     "output_type": "stream",
     "text": [
      "loading file vocab.txt from cache at /home/tiendat/.cache/huggingface/hub/models--bert-base-uncased/snapshots/86b5e0934494bd15c9632b12f734a8a67f723594/vocab.txt\n",
      "loading file added_tokens.json from cache at None\n",
      "loading file special_tokens_map.json from cache at None\n",
      "loading file tokenizer_config.json from cache at /home/tiendat/.cache/huggingface/hub/models--bert-base-uncased/snapshots/86b5e0934494bd15c9632b12f734a8a67f723594/tokenizer_config.json\n",
      "loading configuration file config.json from cache at /home/tiendat/.cache/huggingface/hub/models--bert-base-uncased/snapshots/86b5e0934494bd15c9632b12f734a8a67f723594/config.json\n",
      "Model config BertConfig {\n",
      "  \"_name_or_path\": \"bert-base-uncased\",\n",
      "  \"architectures\": [\n",
      "    \"BertForMaskedLM\"\n",
      "  ],\n",
      "  \"attention_probs_dropout_prob\": 0.1,\n",
      "  \"classifier_dropout\": null,\n",
      "  \"gradient_checkpointing\": false,\n",
      "  \"hidden_act\": \"gelu\",\n",
      "  \"hidden_dropout_prob\": 0.1,\n",
      "  \"hidden_size\": 768,\n",
      "  \"initializer_range\": 0.02,\n",
      "  \"intermediate_size\": 3072,\n",
      "  \"layer_norm_eps\": 1e-12,\n",
      "  \"max_position_embeddings\": 512,\n",
      "  \"model_type\": \"bert\",\n",
      "  \"num_attention_heads\": 12,\n",
      "  \"num_hidden_layers\": 12,\n",
      "  \"pad_token_id\": 0,\n",
      "  \"position_embedding_type\": \"absolute\",\n",
      "  \"transformers_version\": \"4.30.2\",\n",
      "  \"type_vocab_size\": 2,\n",
      "  \"use_cache\": true,\n",
      "  \"vocab_size\": 30522\n",
      "}\n",
      "\n",
      "Truncation was not explicitly activated but `max_length` is provided a specific value, please use `truncation=True` to explicitly truncate examples to max length. Defaulting to 'longest_first' truncation strategy. If you encode pairs of sequences (GLUE-style) with the tokenizer you can select this strategy more precisely by providing a specific strategy to `truncation`.\n"
     ]
    },
    {
     "name": "stdout",
     "output_type": "stream",
     "text": [
      "Processing Started...\n",
      "Data Processing done for conllsrl. File saved at ./dataMeddle/bert-base-uncased_prediction_data/ner_coNLL_testa_abolish_predicate.json\n"
     ]
    },
    {
     "name": "stderr",
     "output_type": "stream",
     "text": [
      "/home/tiendat/anaconda3/envs/thesis/lib/python3.9/site-packages/transformers/tokenization_utils_base.py:2377: FutureWarning: The `pad_to_max_length` argument is deprecated and will be removed in a future version, use `padding=True` or `padding='longest'` to pad to the longest sequence in the batch, or use `padding='max_length'` to pad to a max length. In this case, you can give a specific length with `max_length` (e.g. `max_length=45`) or leave max_length to None to pad to the maximal input size of the model (e.g. 512 for Bert).\n",
      "  warnings.warn(\n",
      "loading configuration file config.json from cache at /home/tiendat/.cache/huggingface/hub/models--bert-base-uncased/snapshots/86b5e0934494bd15c9632b12f734a8a67f723594/config.json\n",
      "Model config BertConfig {\n",
      "  \"architectures\": [\n",
      "    \"BertForMaskedLM\"\n",
      "  ],\n",
      "  \"attention_probs_dropout_prob\": 0.1,\n",
      "  \"classifier_dropout\": null,\n",
      "  \"gradient_checkpointing\": false,\n",
      "  \"hidden_act\": \"gelu\",\n",
      "  \"hidden_dropout_prob\": 0.1,\n",
      "  \"hidden_size\": 768,\n",
      "  \"initializer_range\": 0.02,\n",
      "  \"intermediate_size\": 3072,\n",
      "  \"layer_norm_eps\": 1e-12,\n",
      "  \"max_position_embeddings\": 512,\n",
      "  \"model_type\": \"bert\",\n",
      "  \"num_attention_heads\": 12,\n",
      "  \"num_hidden_layers\": 12,\n",
      "  \"pad_token_id\": 0,\n",
      "  \"position_embedding_type\": \"absolute\",\n",
      "  \"transformers_version\": \"4.30.2\",\n",
      "  \"type_vocab_size\": 2,\n",
      "  \"use_cache\": true,\n",
      "  \"vocab_size\": 30522\n",
      "}\n",
      "\n",
      "loading weights file model.safetensors from cache at /home/tiendat/.cache/huggingface/hub/models--bert-base-uncased/snapshots/86b5e0934494bd15c9632b12f734a8a67f723594/model.safetensors\n",
      "Some weights of the model checkpoint at bert-base-uncased were not used when initializing BertModel: ['cls.seq_relationship.weight', 'cls.predictions.bias', 'cls.predictions.transform.dense.bias', 'cls.predictions.transform.LayerNorm.weight', 'cls.seq_relationship.bias', 'cls.predictions.transform.LayerNorm.bias', 'cls.predictions.transform.dense.weight']\n",
      "- This IS expected if you are initializing BertModel from the checkpoint of a model trained on another task or with another architecture (e.g. initializing a BertForSequenceClassification model from a BertForPreTraining model).\n",
      "- This IS NOT expected if you are initializing BertModel from the checkpoint of a model that you expect to be exactly identical (initializing a BertForSequenceClassification model from a BertForSequenceClassification model).\n",
      "All the weights of BertModel were initialized from the model checkpoint at bert-base-uncased.\n",
      "If your task is similar to the task the model of the checkpoint was trained on, you can already use BertModel for predictions without further training.\n",
      "/home/tiendat/anaconda3/envs/thesis/lib/python3.9/site-packages/transformers/optimization.py:411: FutureWarning: This implementation of AdamW is deprecated and will be removed in a future version. Use the PyTorch implementation torch.optim.AdamW instead, or set `no_deprecation_warning=True` to disable this warning\n",
      "  warnings.warn(\n",
      "Eval: 100%|██████████| 1/1 [00:02<00:00,  2.68s/it]\n"
     ]
    }
   ],
   "source": [
    "allIdsPre, allLabelsPre, allPredictPre, allIndexChangePre, allSequenceOutputPre = make_masked_data(\n",
    "    pred_file_path='./ner_coNLL_testa_abolish_predicate.tsv',\n",
    "    out_dir='./dataMeddle',\n",
    "    has_labels=True,\n",
    "    task_name='conllsrl',\n",
    "    saved_model_path='./SRL_model/conll_ner_pos_bert_base/multi_task_model_3_2828.pt',\n",
    "    type_mask='predicate'\n",
    ")"
   ]
  },
  {
   "cell_type": "code",
   "execution_count": 3,
   "metadata": {},
   "outputs": [
    {
     "name": "stderr",
     "output_type": "stream",
     "text": [
      "loading file vocab.txt from cache at /home/tiendat/.cache/huggingface/hub/models--bert-base-uncased/snapshots/86b5e0934494bd15c9632b12f734a8a67f723594/vocab.txt\n",
      "loading file added_tokens.json from cache at None\n",
      "loading file special_tokens_map.json from cache at None\n",
      "loading file tokenizer_config.json from cache at /home/tiendat/.cache/huggingface/hub/models--bert-base-uncased/snapshots/86b5e0934494bd15c9632b12f734a8a67f723594/tokenizer_config.json\n",
      "loading configuration file config.json from cache at /home/tiendat/.cache/huggingface/hub/models--bert-base-uncased/snapshots/86b5e0934494bd15c9632b12f734a8a67f723594/config.json\n",
      "Model config BertConfig {\n",
      "  \"_name_or_path\": \"bert-base-uncased\",\n",
      "  \"architectures\": [\n",
      "    \"BertForMaskedLM\"\n",
      "  ],\n",
      "  \"attention_probs_dropout_prob\": 0.1,\n",
      "  \"classifier_dropout\": null,\n",
      "  \"gradient_checkpointing\": false,\n",
      "  \"hidden_act\": \"gelu\",\n",
      "  \"hidden_dropout_prob\": 0.1,\n",
      "  \"hidden_size\": 768,\n",
      "  \"initializer_range\": 0.02,\n",
      "  \"intermediate_size\": 3072,\n",
      "  \"layer_norm_eps\": 1e-12,\n",
      "  \"max_position_embeddings\": 512,\n",
      "  \"model_type\": \"bert\",\n",
      "  \"num_attention_heads\": 12,\n",
      "  \"num_hidden_layers\": 12,\n",
      "  \"pad_token_id\": 0,\n",
      "  \"position_embedding_type\": \"absolute\",\n",
      "  \"transformers_version\": \"4.30.2\",\n",
      "  \"type_vocab_size\": 2,\n",
      "  \"use_cache\": true,\n",
      "  \"vocab_size\": 30522\n",
      "}\n",
      "\n",
      "Truncation was not explicitly activated but `max_length` is provided a specific value, please use `truncation=True` to explicitly truncate examples to max length. Defaulting to 'longest_first' truncation strategy. If you encode pairs of sequences (GLUE-style) with the tokenizer you can select this strategy more precisely by providing a specific strategy to `truncation`.\n"
     ]
    },
    {
     "name": "stdout",
     "output_type": "stream",
     "text": [
      "Processing Started...\n",
      "Data Processing done for conllsrl. File saved at ./dataMeddle/bert-base-uncased_prediction_data/ner_coNLL_testa_abolish_depen.json\n"
     ]
    },
    {
     "name": "stderr",
     "output_type": "stream",
     "text": [
      "loading configuration file config.json from cache at /home/tiendat/.cache/huggingface/hub/models--bert-base-uncased/snapshots/86b5e0934494bd15c9632b12f734a8a67f723594/config.json\n",
      "Model config BertConfig {\n",
      "  \"architectures\": [\n",
      "    \"BertForMaskedLM\"\n",
      "  ],\n",
      "  \"attention_probs_dropout_prob\": 0.1,\n",
      "  \"classifier_dropout\": null,\n",
      "  \"gradient_checkpointing\": false,\n",
      "  \"hidden_act\": \"gelu\",\n",
      "  \"hidden_dropout_prob\": 0.1,\n",
      "  \"hidden_size\": 768,\n",
      "  \"initializer_range\": 0.02,\n",
      "  \"intermediate_size\": 3072,\n",
      "  \"layer_norm_eps\": 1e-12,\n",
      "  \"max_position_embeddings\": 512,\n",
      "  \"model_type\": \"bert\",\n",
      "  \"num_attention_heads\": 12,\n",
      "  \"num_hidden_layers\": 12,\n",
      "  \"pad_token_id\": 0,\n",
      "  \"position_embedding_type\": \"absolute\",\n",
      "  \"transformers_version\": \"4.30.2\",\n",
      "  \"type_vocab_size\": 2,\n",
      "  \"use_cache\": true,\n",
      "  \"vocab_size\": 30522\n",
      "}\n",
      "\n",
      "loading weights file model.safetensors from cache at /home/tiendat/.cache/huggingface/hub/models--bert-base-uncased/snapshots/86b5e0934494bd15c9632b12f734a8a67f723594/model.safetensors\n",
      "Some weights of the model checkpoint at bert-base-uncased were not used when initializing BertModel: ['cls.seq_relationship.weight', 'cls.predictions.bias', 'cls.predictions.transform.dense.bias', 'cls.predictions.transform.LayerNorm.weight', 'cls.seq_relationship.bias', 'cls.predictions.transform.LayerNorm.bias', 'cls.predictions.transform.dense.weight']\n",
      "- This IS expected if you are initializing BertModel from the checkpoint of a model trained on another task or with another architecture (e.g. initializing a BertForSequenceClassification model from a BertForPreTraining model).\n",
      "- This IS NOT expected if you are initializing BertModel from the checkpoint of a model that you expect to be exactly identical (initializing a BertForSequenceClassification model from a BertForSequenceClassification model).\n",
      "All the weights of BertModel were initialized from the model checkpoint at bert-base-uncased.\n",
      "If your task is similar to the task the model of the checkpoint was trained on, you can already use BertModel for predictions without further training.\n",
      "Eval: 100%|██████████| 1/1 [00:08<00:00,  8.45s/it]\n"
     ]
    }
   ],
   "source": [
    "allIdsDep, allLabelsDep, allPredictDep, allIndexChangeDep, allSequenceOutputDep = make_masked_data(\n",
    "    pred_file_path='./ner_coNLL_testa_abolish_depen.tsv',\n",
    "    out_dir='./dataMeddle',\n",
    "    has_labels=True,\n",
    "    task_name='conllsrl',\n",
    "    saved_model_path='./SRL_model/conll_ner_pos_bert_base/multi_task_model_3_2828.pt',\n",
    "    type_mask='depen'\n",
    ")"
   ]
  },
  {
   "cell_type": "code",
   "execution_count": 2,
   "metadata": {},
   "outputs": [
    {
     "name": "stderr",
     "output_type": "stream",
     "text": [
      "loading file vocab.txt from cache at /home/tiendat/.cache/huggingface/hub/models--bert-base-uncased/snapshots/86b5e0934494bd15c9632b12f734a8a67f723594/vocab.txt\n",
      "loading file added_tokens.json from cache at None\n",
      "loading file special_tokens_map.json from cache at None\n",
      "loading file tokenizer_config.json from cache at /home/tiendat/.cache/huggingface/hub/models--bert-base-uncased/snapshots/86b5e0934494bd15c9632b12f734a8a67f723594/tokenizer_config.json\n",
      "loading file tokenizer.json from cache at /home/tiendat/.cache/huggingface/hub/models--bert-base-uncased/snapshots/86b5e0934494bd15c9632b12f734a8a67f723594/tokenizer.json\n",
      "loading configuration file config.json from cache at /home/tiendat/.cache/huggingface/hub/models--bert-base-uncased/snapshots/86b5e0934494bd15c9632b12f734a8a67f723594/config.json\n",
      "Model config BertConfig {\n",
      "  \"_name_or_path\": \"bert-base-uncased\",\n",
      "  \"architectures\": [\n",
      "    \"BertForMaskedLM\"\n",
      "  ],\n",
      "  \"attention_probs_dropout_prob\": 0.1,\n",
      "  \"classifier_dropout\": null,\n",
      "  \"gradient_checkpointing\": false,\n",
      "  \"hidden_act\": \"gelu\",\n",
      "  \"hidden_dropout_prob\": 0.1,\n",
      "  \"hidden_size\": 768,\n",
      "  \"initializer_range\": 0.02,\n",
      "  \"intermediate_size\": 3072,\n",
      "  \"layer_norm_eps\": 1e-12,\n",
      "  \"max_position_embeddings\": 512,\n",
      "  \"model_type\": \"bert\",\n",
      "  \"num_attention_heads\": 12,\n",
      "  \"num_hidden_layers\": 12,\n",
      "  \"pad_token_id\": 0,\n",
      "  \"position_embedding_type\": \"absolute\",\n",
      "  \"transformers_version\": \"4.40.1\",\n",
      "  \"type_vocab_size\": 2,\n",
      "  \"use_cache\": true,\n",
      "  \"vocab_size\": 30522\n",
      "}\n",
      "\n",
      "Truncation was not explicitly activated but `max_length` is provided a specific value, please use `truncation=True` to explicitly truncate examples to max length. Defaulting to 'longest_first' truncation strategy. If you encode pairs of sequences (GLUE-style) with the tokenizer you can select this strategy more precisely by providing a specific strategy to `truncation`.\n"
     ]
    },
    {
     "name": "stdout",
     "output_type": "stream",
     "text": [
      "Processing Started...\n"
     ]
    },
    {
     "name": "stderr",
     "output_type": "stream",
     "text": [
      "/home/tiendat/anaconda3/envs/thesis/lib/python3.9/site-packages/transformers/tokenization_utils_base.py:2674: FutureWarning: The `pad_to_max_length` argument is deprecated and will be removed in a future version, use `padding=True` or `padding='longest'` to pad to the longest sequence in the batch, or use `padding='max_length'` to pad to a max length. In this case, you can give a specific length with `max_length` (e.g. `max_length=45`) or leave max_length to None to pad to the maximal input size of the model (e.g. 512 for Bert).\n",
      "  warnings.warn(\n"
     ]
    },
    {
     "name": "stdout",
     "output_type": "stream",
     "text": [
      "Data Processing done for conllsrl. File saved at ./dataMeddle/bert-base-uncased_prediction_data/ner_coNLL_testa_abolish.json\n"
     ]
    },
    {
     "name": "stderr",
     "output_type": "stream",
     "text": [
      "loading configuration file config.json from cache at /home/tiendat/.cache/huggingface/hub/models--bert-base-uncased/snapshots/86b5e0934494bd15c9632b12f734a8a67f723594/config.json\n",
      "Model config BertConfig {\n",
      "  \"architectures\": [\n",
      "    \"BertForMaskedLM\"\n",
      "  ],\n",
      "  \"attention_probs_dropout_prob\": 0.1,\n",
      "  \"classifier_dropout\": null,\n",
      "  \"gradient_checkpointing\": false,\n",
      "  \"hidden_act\": \"gelu\",\n",
      "  \"hidden_dropout_prob\": 0.1,\n",
      "  \"hidden_size\": 768,\n",
      "  \"initializer_range\": 0.02,\n",
      "  \"intermediate_size\": 3072,\n",
      "  \"layer_norm_eps\": 1e-12,\n",
      "  \"max_position_embeddings\": 512,\n",
      "  \"model_type\": \"bert\",\n",
      "  \"num_attention_heads\": 12,\n",
      "  \"num_hidden_layers\": 12,\n",
      "  \"pad_token_id\": 0,\n",
      "  \"position_embedding_type\": \"absolute\",\n",
      "  \"transformers_version\": \"4.40.1\",\n",
      "  \"type_vocab_size\": 2,\n",
      "  \"use_cache\": true,\n",
      "  \"vocab_size\": 30522\n",
      "}\n",
      "\n",
      "loading weights file model.safetensors from cache at /home/tiendat/.cache/huggingface/hub/models--bert-base-uncased/snapshots/86b5e0934494bd15c9632b12f734a8a67f723594/model.safetensors\n",
      "Some weights of the model checkpoint at bert-base-uncased were not used when initializing BertModel: ['cls.predictions.bias', 'cls.predictions.transform.LayerNorm.bias', 'cls.predictions.transform.LayerNorm.weight', 'cls.predictions.transform.dense.bias', 'cls.predictions.transform.dense.weight', 'cls.seq_relationship.bias', 'cls.seq_relationship.weight']\n",
      "- This IS expected if you are initializing BertModel from the checkpoint of a model trained on another task or with another architecture (e.g. initializing a BertForSequenceClassification model from a BertForPreTraining model).\n",
      "- This IS NOT expected if you are initializing BertModel from the checkpoint of a model that you expect to be exactly identical (initializing a BertForSequenceClassification model from a BertForSequenceClassification model).\n",
      "All the weights of BertModel were initialized from the model checkpoint at bert-base-uncased.\n",
      "If your task is similar to the task the model of the checkpoint was trained on, you can already use BertModel for predictions without further training.\n",
      "/home/tiendat/anaconda3/envs/thesis/lib/python3.9/site-packages/transformers/optimization.py:521: FutureWarning: This implementation of AdamW is deprecated and will be removed in a future version. Use the PyTorch implementation torch.optim.AdamW instead, or set `no_deprecation_warning=True` to disable this warning\n",
      "  warnings.warn(\n"
     ]
    },
    {
     "ename": "",
     "evalue": "",
     "output_type": "error",
     "traceback": [
      "\u001b[1;31mThe Kernel crashed while executing code in the current cell or a previous cell. \n",
      "\u001b[1;31mPlease review the code in the cell(s) to identify a possible cause of the failure. \n",
      "\u001b[1;31mClick <a href='https://aka.ms/vscodeJupyterKernelCrash'>here</a> for more info. \n",
      "\u001b[1;31mView Jupyter <a href='command:jupyter.viewOutput'>log</a> for further details."
     ]
    }
   ],
   "source": [
    "allIdsOri, allLabelsOri, allPredictOri, allIndexChangeOri, allSequenceOutputOri = make_masked_data(\n",
    "    pred_file_path='ner_make_masked/ner_coNLL_testa_abolish.tsv',\n",
    "    out_dir='./dataMeddle',\n",
    "    has_labels=True,\n",
    "    task_name='conllsrl',\n",
    "    saved_model_path='./SRL_model/conll_ner_pos_bert_base/multi_task_model_3_2828.pt',\n",
    "    type_mask='origin'\n",
    ")"
   ]
  },
  {
   "cell_type": "markdown",
   "metadata": {},
   "source": [
    "# Call .pkl"
   ]
  },
  {
   "cell_type": "code",
   "execution_count": 1,
   "metadata": {},
   "outputs": [],
   "source": [
    "import pickle as pkl"
   ]
  },
  {
   "cell_type": "code",
   "execution_count": 2,
   "metadata": {},
   "outputs": [],
   "source": [
    "with open('./dataWord/ner_coNLL_testa_abolish_masked_origin.pkl', 'rb') as f:\n",
    "    allIdsOrigin, allLabelsOrigin, allLPredictionOrigin, allIndexChangeOrigin, allSequenceOutputOrigin = pkl.load(f)\n",
    "\n",
    "with open('./dataWord/ner_coNLL_testa_abolish_predicate_masked_predicate.pkl', 'rb') as f:\n",
    "    allIdsPredicate, allLabelsPredicate, allLPredictionPredicate, allIndexChangePredicate, allSequenceOutputPredicate = pkl.load(f)\n",
    "\n",
    "with open('./dataWord/ner_coNLL_testa_abolish_depen_masked_depen.pkl', 'rb') as f:\n",
    "    allIdsDepen, allLabelsDepen, allLPredictionDepen, allIndexChangeDepen, allSequenceOutputDepen = pkl.load(f)\n",
    "    "
   ]
  },
  {
   "cell_type": "markdown",
   "metadata": {},
   "source": [
    "Cách check masked là A0 hay A1\n",
    "- so sánh số lượng phần tử A0 của DEPEN và ORIGIN nếu cái nào bị miss thì nó bị masked\n",
    "- get ra index của đối số A0 và A1 cũng như uid\n",
    "\n",
    "với\n",
    "- file depen:\n",
    "\t+ lấy ra predicate và xem là A0 hay A1 bị mất (lưu vào biến isMasked)\n",
    "\t+ Nếu isMasked=A0 -> thế vector wordEmbedding của depen vào ORIGIN ứng với item bị mask là A0\n",
    "\t+ tương tự với A1\n",
    "\n",
    "- file predicate\n",
    "\t+ lấy ra vector wordEmbedding của A0 và A1\n",
    "\t+ sau khi check ở trên isMasked là gì \n",
    "\t\t+Nếu là A0 thì thay tất cả các vector WE A0 vào ORIGIN"
   ]
  },
  {
   "cell_type": "code",
   "execution_count": 3,
   "metadata": {},
   "outputs": [],
   "source": [
    "def group_elements_with_label(labels, indexChange):\n",
    "    groups = {}\n",
    "    current_group_label = None\n",
    "    current_group = []\n",
    "    for i, label in enumerate(labels):\n",
    "        if label.startswith('B-A') or label.startswith('I-A') or label == 'B-V':\n",
    "            if current_group:\n",
    "                groups.setdefault(current_group_label, []).extend(current_group)\n",
    "            if label == 'B-V':\n",
    "                current_group_label = label\n",
    "            else:\n",
    "                current_group_label = label[2:]\n",
    "            current_group = [indexChange[i]]\n",
    "        else:\n",
    "            if current_group_label and current_group:\n",
    "                groups.setdefault(current_group_label, []).extend(current_group)\n",
    "            current_group_label = None\n",
    "            current_group = []\n",
    "    if current_group_label and current_group:\n",
    "        groups.setdefault(current_group_label, []).extend(current_group)\n",
    "    return groups"
   ]
  },
  {
   "cell_type": "code",
   "execution_count": 4,
   "metadata": {},
   "outputs": [],
   "source": [
    "def find_differences(origin_dict, compared_dict):\n",
    "    different_values = {}\n",
    "    for key in set(origin_dict.keys()) & set(compared_dict.keys()):\n",
    "        if origin_dict[key] != compared_dict[key]:\n",
    "            if key != 'B-V' and len(origin_dict[key]) != len(compared_dict[key]):\n",
    "                different_values[key] = list(set(origin_dict[key]) ^ set(compared_dict[key]))\n",
    "    return list(different_values.keys()) if different_values else None"
   ]
  },
  {
   "cell_type": "code",
   "execution_count": 5,
   "metadata": {},
   "outputs": [],
   "source": [
    "import torch\n",
    "\n",
    "def create_masked_data(allIdsOrigin, allLabelsOrigin, allIndexChangeOrigin, allLabelsPredicate, allIndexChangePredicate, allIdsDepen, allLabelsDepen, allIndexChangeDepen, allSequenceOutputOrigin, allSequenceOutputPredicate, allSequenceOutputDepen):\n",
    "    masked_data = []\n",
    "    jump_count = 0\n",
    "    \n",
    "    for i in range(len(allIdsOrigin)):\n",
    "        elements_origin = group_elements_with_label(allLabelsOrigin[i], allIndexChangeOrigin[i])\n",
    "        elements_predicate = group_elements_with_label(allLabelsPredicate[i], allIndexChangePredicate[i])\n",
    "        \n",
    "        for j in range(jump_count, len(allIdsDepen)):\n",
    "            words_embedding_data_masked = torch.tensor(allSequenceOutputOrigin[i])\n",
    "            \n",
    "            if allIdsDepen[j] == allIdsOrigin[i]:\n",
    "                elements_depen = group_elements_with_label(allLabelsDepen[j], allIndexChangeDepen[j])\n",
    "                is_different = find_differences(elements_origin, elements_depen)\n",
    "                \n",
    "                if is_different and len(is_different) == 1:\n",
    "                    arg_is_masked = is_different[0]\n",
    "                    assert len(elements_origin['B-V']) == 1, 'Predicate must be unique'\n",
    "                    \n",
    "                    words_embedding_data_masked[elements_origin['B-V'][0]] = torch.tensor(allSequenceOutputDepen[j][elements_depen['B-V'][0]])\n",
    "                    \n",
    "                    for idx_, item in enumerate(elements_origin[arg_is_masked]):\n",
    "                        words_embedding_data_masked[item] = torch.tensor(allSequenceOutputPredicate[i][elements_predicate[arg_is_masked][idx_]])\n",
    "                    \n",
    "                    masked_data.append({'uid': allIdsOrigin[i], 'label': allLabelsOrigin[i], 'masked_data': words_embedding_data_masked, 'arg_masked': arg_is_masked})\n",
    "            else:\n",
    "                jump_count = j\n",
    "                break\n",
    "    return masked_data\n"
   ]
  },
  {
   "cell_type": "code",
   "execution_count": 6,
   "metadata": {},
   "outputs": [
    {
     "name": "stderr",
     "output_type": "stream",
     "text": [
      "/tmp/ipykernel_22386/2264326547.py:12: UserWarning: To copy construct from a tensor, it is recommended to use sourceTensor.clone().detach() or sourceTensor.clone().detach().requires_grad_(True), rather than torch.tensor(sourceTensor).\n",
      "  words_embedding_data_masked = torch.tensor(allSequenceOutputOrigin[i])\n",
      "/tmp/ipykernel_22386/2264326547.py:22: UserWarning: To copy construct from a tensor, it is recommended to use sourceTensor.clone().detach() or sourceTensor.clone().detach().requires_grad_(True), rather than torch.tensor(sourceTensor).\n",
      "  words_embedding_data_masked[elements_origin['B-V'][0]] = torch.tensor(allSequenceOutputDepen[j][elements_depen['B-V'][0]])\n",
      "/tmp/ipykernel_22386/2264326547.py:25: UserWarning: To copy construct from a tensor, it is recommended to use sourceTensor.clone().detach() or sourceTensor.clone().detach().requires_grad_(True), rather than torch.tensor(sourceTensor).\n",
      "  words_embedding_data_masked[item] = torch.tensor(allSequenceOutputPredicate[i][elements_predicate[arg_is_masked][idx_]])\n"
     ]
    }
   ],
   "source": [
    "masked_data__ = create_masked_data(allIdsOrigin, allLabelsOrigin, allIndexChangeOrigin, allLabelsPredicate, allIndexChangePredicate, allIdsDepen, allLabelsDepen, allIndexChangeDepen, allSequenceOutputOrigin, allSequenceOutputPredicate, allSequenceOutputDepen)"
   ]
  },
  {
   "cell_type": "code",
   "execution_count": 7,
   "metadata": {},
   "outputs": [
    {
     "data": {
      "text/plain": [
       "tensor([ 0.2719, -0.8740,  0.4671, -0.1337, -0.4177, -0.0981, -0.0940, -1.2219,\n",
       "        -0.0607,  0.0308,  0.5968,  0.8594,  0.1753, -0.3364,  0.7975,  0.3354,\n",
       "        -1.0529,  0.4115, -0.7669,  0.3295])"
      ]
     },
     "execution_count": 7,
     "metadata": {},
     "output_type": "execute_result"
    }
   ],
   "source": [
    "masked_data__[0]['masked_data'][1][:20]"
   ]
  },
  {
   "cell_type": "markdown",
   "metadata": {},
   "source": [
    "# Masked Data Creator"
   ]
  },
  {
   "cell_type": "code",
   "execution_count": 1,
   "metadata": {},
   "outputs": [],
   "source": [
    "from generate_data_masked import MaskedDataCreator\n",
    "import torch"
   ]
  },
  {
   "cell_type": "code",
   "execution_count": 2,
   "metadata": {},
   "outputs": [
    {
     "name": "stdout",
     "output_type": "stream",
     "text": [
      "torch.Size([11, 50, 768])\n"
     ]
    },
    {
     "name": "stderr",
     "output_type": "stream",
     "text": [
      "/mnt/d/WORK/Thesis/src/model/SRL_Single_Task/generate_data_masked.py:73: UserWarning: To copy construct from a tensor, it is recommended to use sourceTensor.clone().detach() or sourceTensor.clone().detach().requires_grad_(True), rather than torch.tensor(sourceTensor).\n",
      "  words_embedding_data_masked = torch.tensor(allSequenceOutputOrigin[i])\n",
      "/mnt/d/WORK/Thesis/src/model/SRL_Single_Task/generate_data_masked.py:83: UserWarning: To copy construct from a tensor, it is recommended to use sourceTensor.clone().detach() or sourceTensor.clone().detach().requires_grad_(True), rather than torch.tensor(sourceTensor).\n",
      "  words_embedding_data_masked[elements_origin['B-V'][0]] = torch.tensor(allSequenceOutputDepen[j][elements_depen['B-V'][0]])\n",
      "/mnt/d/WORK/Thesis/src/model/SRL_Single_Task/generate_data_masked.py:86: UserWarning: To copy construct from a tensor, it is recommended to use sourceTensor.clone().detach() or sourceTensor.clone().detach().requires_grad_(True), rather than torch.tensor(sourceTensor).\n",
      "  words_embedding_data_masked[item] = torch.tensor(allSequenceOutputPredicate[i][elements_predicate[arg_is_masked][idx_]])\n",
      "/tmp/ipykernel_25448/3902703575.py:3: UserWarning: To copy construct from a tensor, it is recommended to use sourceTensor.clone().detach() or sourceTensor.clone().detach().requires_grad_(True), rather than torch.tensor(sourceTensor).\n",
      "  masked_data = torch.stack([torch.tensor(item['masked_data']) for item in masked_data_depen], dim=0)\n"
     ]
    }
   ],
   "source": [
    "masked_data_creator = MaskedDataCreator('./dataWord/ner_coNLL_testa_abolish_masked_origin.pkl', './dataWord/ner_coNLL_testa_abolish_predicate_masked_predicate.pkl', './dataWord/ner_coNLL_testa_abolish_depen_masked_depen.pkl', './ner_coNLL_testa_abolish.tsv')\n",
    "masked_data_depen = masked_data_creator.create_masked_data_depen()\n",
    "masked_data = torch.stack([torch.tensor(item['masked_data']) for item in masked_data_depen], dim=0)\n",
    "print(masked_data.size())"
   ]
  },
  {
   "cell_type": "markdown",
   "metadata": {},
   "source": [
    "# Assign Word Embedding"
   ]
  },
  {
   "cell_type": "code",
   "execution_count": 3,
   "metadata": {},
   "outputs": [
    {
     "name": "stderr",
     "output_type": "stream",
     "text": [
      "/home/tiendat/anaconda3/envs/thesis/lib/python3.9/site-packages/tqdm/auto.py:21: TqdmWarning: IProgress not found. Please update jupyter and ipywidgets. See https://ipywidgets.readthedocs.io/en/stable/user_install.html\n",
      "  from .autonotebook import tqdm as notebook_tqdm\n",
      "/home/tiendat/anaconda3/envs/thesis/lib/python3.9/site-packages/transformers/generation_utils.py:24: FutureWarning: Importing `GenerationMixin` from `src/transformers/generation_utils.py` is deprecated and will be removed in Transformers v5. Import as `from transformers import GenerationMixin` instead.\n",
      "  warnings.warn(\n",
      "Xformers is not installed correctly. If you want to use memory_efficient_attention to accelerate training use the following command to install Xformers\n",
      "pip install xformers.\n"
     ]
    }
   ],
   "source": [
    "from make_data_masked import WordEmbeddingAssigner"
   ]
  },
  {
   "cell_type": "code",
   "execution_count": 4,
   "metadata": {},
   "outputs": [
    {
     "name": "stderr",
     "output_type": "stream",
     "text": [
      "loading file vocab.txt from cache at /home/tiendat/.cache/huggingface/hub/models--bert-base-uncased/snapshots/86b5e0934494bd15c9632b12f734a8a67f723594/vocab.txt\n",
      "loading file added_tokens.json from cache at None\n",
      "loading file special_tokens_map.json from cache at None\n",
      "loading file tokenizer_config.json from cache at /home/tiendat/.cache/huggingface/hub/models--bert-base-uncased/snapshots/86b5e0934494bd15c9632b12f734a8a67f723594/tokenizer_config.json\n",
      "loading configuration file config.json from cache at /home/tiendat/.cache/huggingface/hub/models--bert-base-uncased/snapshots/86b5e0934494bd15c9632b12f734a8a67f723594/config.json\n",
      "Model config BertConfig {\n",
      "  \"_name_or_path\": \"bert-base-uncased\",\n",
      "  \"architectures\": [\n",
      "    \"BertForMaskedLM\"\n",
      "  ],\n",
      "  \"attention_probs_dropout_prob\": 0.1,\n",
      "  \"classifier_dropout\": null,\n",
      "  \"gradient_checkpointing\": false,\n",
      "  \"hidden_act\": \"gelu\",\n",
      "  \"hidden_dropout_prob\": 0.1,\n",
      "  \"hidden_size\": 768,\n",
      "  \"initializer_range\": 0.02,\n",
      "  \"intermediate_size\": 3072,\n",
      "  \"layer_norm_eps\": 1e-12,\n",
      "  \"max_position_embeddings\": 512,\n",
      "  \"model_type\": \"bert\",\n",
      "  \"num_attention_heads\": 12,\n",
      "  \"num_hidden_layers\": 12,\n",
      "  \"pad_token_id\": 0,\n",
      "  \"position_embedding_type\": \"absolute\",\n",
      "  \"transformers_version\": \"4.30.2\",\n",
      "  \"type_vocab_size\": 2,\n",
      "  \"use_cache\": true,\n",
      "  \"vocab_size\": 30522\n",
      "}\n",
      "\n",
      "loading configuration file config.json from cache at /home/tiendat/.cache/huggingface/hub/models--bert-base-uncased/snapshots/86b5e0934494bd15c9632b12f734a8a67f723594/config.json\n",
      "Model config BertConfig {\n",
      "  \"architectures\": [\n",
      "    \"BertForMaskedLM\"\n",
      "  ],\n",
      "  \"attention_probs_dropout_prob\": 0.1,\n",
      "  \"classifier_dropout\": null,\n",
      "  \"gradient_checkpointing\": false,\n",
      "  \"hidden_act\": \"gelu\",\n",
      "  \"hidden_dropout_prob\": 0.1,\n",
      "  \"hidden_size\": 768,\n",
      "  \"initializer_range\": 0.02,\n",
      "  \"intermediate_size\": 3072,\n",
      "  \"layer_norm_eps\": 1e-12,\n",
      "  \"max_position_embeddings\": 512,\n",
      "  \"model_type\": \"bert\",\n",
      "  \"num_attention_heads\": 12,\n",
      "  \"num_hidden_layers\": 12,\n",
      "  \"pad_token_id\": 0,\n",
      "  \"position_embedding_type\": \"absolute\",\n",
      "  \"transformers_version\": \"4.30.2\",\n",
      "  \"type_vocab_size\": 2,\n",
      "  \"use_cache\": true,\n",
      "  \"vocab_size\": 30522\n",
      "}\n",
      "\n",
      "loading weights file model.safetensors from cache at /home/tiendat/.cache/huggingface/hub/models--bert-base-uncased/snapshots/86b5e0934494bd15c9632b12f734a8a67f723594/model.safetensors\n",
      "Some weights of the model checkpoint at bert-base-uncased were not used when initializing BertModel: ['cls.seq_relationship.bias', 'cls.predictions.transform.dense.weight', 'cls.predictions.transform.dense.bias', 'cls.predictions.transform.LayerNorm.bias', 'cls.predictions.transform.LayerNorm.weight', 'cls.seq_relationship.weight', 'cls.predictions.bias']\n",
      "- This IS expected if you are initializing BertModel from the checkpoint of a model trained on another task or with another architecture (e.g. initializing a BertForSequenceClassification model from a BertForPreTraining model).\n",
      "- This IS NOT expected if you are initializing BertModel from the checkpoint of a model that you expect to be exactly identical (initializing a BertForSequenceClassification model from a BertForSequenceClassification model).\n",
      "All the weights of BertModel were initialized from the model checkpoint at bert-base-uncased.\n",
      "If your task is similar to the task the model of the checkpoint was trained on, you can already use BertModel for predictions without further training.\n",
      "/home/tiendat/anaconda3/envs/thesis/lib/python3.9/site-packages/transformers/optimization.py:411: FutureWarning: This implementation of AdamW is deprecated and will be removed in a future version. Use the PyTorch implementation torch.optim.AdamW instead, or set `no_deprecation_warning=True` to disable this warning\n",
      "  warnings.warn(\n"
     ]
    }
   ],
   "source": [
    "wordAssigner = WordEmbeddingAssigner(pred_file_path='./ner_coNLL_testa_abolish.tsv', out_dir='./pathToPredict', has_labels=True, task_name='conllsrl', saved_model_path='./SRL_model/conll_ner_pos_bert_base/pt_30_epoch/multi_task_model_19_408.pt', masked_data=masked_data)\n",
    "labMap = wordAssigner.get_labelMap()"
   ]
  },
  {
   "cell_type": "code",
   "execution_count": 5,
   "metadata": {},
   "outputs": [
    {
     "name": "stderr",
     "output_type": "stream",
     "text": [
      "Truncation was not explicitly activated but `max_length` is provided a specific value, please use `truncation=True` to explicitly truncate examples to max length. Defaulting to 'longest_first' truncation strategy. If you encode pairs of sequences (GLUE-style) with the tokenizer you can select this strategy more precisely by providing a specific strategy to `truncation`.\n"
     ]
    },
    {
     "name": "stdout",
     "output_type": "stream",
     "text": [
      "Processing Started...\n",
      "Data Processing done for conllsrl. File saved at ./pathToPredict/bert-base-uncased_prediction_data/ner_coNLL_testa_abolish.json\n"
     ]
    },
    {
     "name": "stderr",
     "output_type": "stream",
     "text": [
      "/home/tiendat/anaconda3/envs/thesis/lib/python3.9/site-packages/transformers/tokenization_utils_base.py:2377: FutureWarning: The `pad_to_max_length` argument is deprecated and will be removed in a future version, use `padding=True` or `padding='longest'` to pad to the longest sequence in the batch, or use `padding='max_length'` to pad to a max length. In this case, you can give a specific length with `max_length` (e.g. `max_length=45`) or leave max_length to None to pad to the maximal input size of the model (e.g. 512 for Bert).\n",
      "  warnings.warn(\n"
     ]
    }
   ],
   "source": [
    "wordAssigner.load_and_create_data(isMasked=True, masked_data_type='depen')"
   ]
  },
  {
   "cell_type": "code",
   "execution_count": 6,
   "metadata": {},
   "outputs": [
    {
     "name": "stderr",
     "output_type": "stream",
     "text": [
      "Eval:   0%|          | 0/1 [00:00<?, ?it/s]"
     ]
    },
    {
     "name": "stderr",
     "output_type": "stream",
     "text": [
      "Eval: 100%|██████████| 1/1 [00:00<00:00,  8.04it/s]"
     ]
    },
    {
     "name": "stdout",
     "output_type": "stream",
     "text": [
      "list_uids: ['0', '0', '1', '2', '2', '3', '3', '4', '4', '5', '5']\n"
     ]
    },
    {
     "name": "stderr",
     "output_type": "stream",
     "text": [
      "\n"
     ]
    }
   ],
   "source": [
    "resultwordMasked = wordAssigner.assign_word_embedding_data()\n",
    "resultwordMasked = {\n",
    "    'uids': resultwordMasked[0],\n",
    "    'labels': resultwordMasked[1],\n",
    "    'preds': resultwordMasked[2],\n",
    "    'scores': resultwordMasked[3],\n",
    "    'logits': resultwordMasked[4],\n",
    "    'sequence_output': resultwordMasked[5],\n",
    "    'index_change': resultwordMasked[6]\n",
    "}"
   ]
  },
  {
   "cell_type": "code",
   "execution_count": 7,
   "metadata": {},
   "outputs": [
    {
     "name": "stdout",
     "output_type": "stream",
     "text": [
      "Processing Started...\n",
      "Data Processing done for conllsrl. File saved at ./pathToPredict/bert-base-uncased_prediction_data/ner_coNLL_testa_abolish.json\n"
     ]
    }
   ],
   "source": [
    "wordAssigner.load_and_create_data()"
   ]
  },
  {
   "cell_type": "code",
   "execution_count": 8,
   "metadata": {},
   "outputs": [
    {
     "name": "stderr",
     "output_type": "stream",
     "text": [
      "Eval:   0%|          | 0/1 [00:00<?, ?it/s]"
     ]
    },
    {
     "name": "stdout",
     "output_type": "stream",
     "text": [
      "list_uids: ['0', '1', '2', '3', '4', '5', '6', '7', '8', '9', '10', '11', '12', '13', '14', '15', '16', '17', '18', '19']\n"
     ]
    },
    {
     "name": "stderr",
     "output_type": "stream",
     "text": [
      "Eval: 100%|██████████| 1/1 [00:01<00:00,  1.55s/it]\n"
     ]
    }
   ],
   "source": [
    "resultwordOrigin = wordAssigner.assign_word_embedding_data()\n",
    "resultwordOrigin = {\n",
    "    'uids': resultwordOrigin[0],\n",
    "    'labels': resultwordOrigin[1],\n",
    "    'preds': resultwordOrigin[2],\n",
    "    'scores': resultwordOrigin[3],\n",
    "    'logits': resultwordOrigin[4],\n",
    "    'sequence_output': resultwordOrigin[5],\n",
    "    'index_change': resultwordOrigin[6]\n",
    "}"
   ]
  },
  {
   "cell_type": "code",
   "execution_count": 9,
   "metadata": {},
   "outputs": [],
   "source": [
    "def get_idx_arg_preds(preds_origin, preds_masked, label_origin=None): # label_origin: nhãn gold\n",
    "    list_idx_arg_change = []\n",
    "    assert len(preds_origin) == len(preds_masked), 'Length of preds_origin and preds_masked must be the same'\n",
    "    for i in range(len(preds_origin)):\n",
    "        test = preds_origin[i].startswith('B-A') or preds_origin[i].startswith('I-A') or preds_masked[i].startswith('B-A') or preds_masked[i].startswith('I-A')\n",
    "        if label_origin:\n",
    "            assert len(preds_origin) == len(label_origin), 'Length of preds_origin and label_origin must be the same'\n",
    "            if test or label_origin[i].startswith('B-A') or label_origin[i].startswith('I-A'):\n",
    "                list_idx_arg_change.append(i)\n",
    "        else:\n",
    "            if test:\n",
    "                list_idx_arg_change.append(i)\n",
    "    return list_idx_arg_change\n",
    "\n",
    "def get_idx_labels_arg(labels):\n",
    "    list_idx_label_arg = []\n",
    "    for i in range(len(labels)):\n",
    "        if labels[i].startswith('B-A') or labels[i].startswith('I-A'):\n",
    "            list_idx_label_arg.append(i)\n",
    "    return list_idx_label_arg\n",
    "\n",
    "def calculateInfluenceScore(outLogitsSigmoid_original, outLogitsSigmoid_meddle, list_arg_change):\n",
    "    influence_score = []\n",
    "    weight = []\n",
    "    assert len(outLogitsSigmoid_original) == len(outLogitsSigmoid_meddle) \n",
    "    for i in range(len(outLogitsSigmoid_original)):\n",
    "        if i not in list_arg_change:\n",
    "            continue\n",
    "        max_index_original = torch.argmax(outLogitsSigmoid_original[i])\n",
    "        max_index_meddle = torch.argmax(outLogitsSigmoid_meddle[i])\n",
    "        if max_index_original == max_index_meddle:\n",
    "            influence_score.append((outLogitsSigmoid_original[i][max_index_original] - outLogitsSigmoid_meddle[i][max_index_meddle]) / max(outLogitsSigmoid_original[i][max_index_original], outLogitsSigmoid_meddle[i][max_index_meddle]))\n",
    "            weight.append(1)\n",
    "        else:\n",
    "            influ_old_label = (outLogitsSigmoid_original[i][max_index_original] - outLogitsSigmoid_meddle[i][max_index_original]) / max(outLogitsSigmoid_original[i][max_index_original], outLogitsSigmoid_meddle[i][max_index_original])\n",
    "            influ_new_label = (outLogitsSigmoid_meddle[i][max_index_meddle] - outLogitsSigmoid_original[i][max_index_meddle]) / max(outLogitsSigmoid_original[i][max_index_meddle], outLogitsSigmoid_meddle[i][max_index_meddle])\n",
    "            influence_score.append(influ_old_label + influ_new_label)\n",
    "            weight.append(2)\n",
    "    return influence_score, weight\n",
    "    \n",
    "    "
   ]
  },
  {
   "cell_type": "code",
   "execution_count": 10,
   "metadata": {},
   "outputs": [
    {
     "name": "stderr",
     "output_type": "stream",
     "text": [
      "/tmp/ipykernel_25448/1644676194.py:3: UserWarning: Creating a tensor from a list of numpy.ndarrays is extremely slow. Please consider converting the list to a single numpy.ndarray with numpy.array() before converting to a tensor. (Triggered internally at ../torch/csrc/utils/tensor_new.cpp:245.)\n",
      "  resultwordOrigin['logits'][i] = torch.tensor(resultwordOrigin['logits'][i])\n"
     ]
    }
   ],
   "source": [
    "import torch\n",
    "for i in range(len(resultwordOrigin['logits'])):\n",
    "    resultwordOrigin['logits'][i] = torch.tensor(resultwordOrigin['logits'][i])\n",
    "for i in range(len(resultwordMasked['logits'])):\n",
    "    resultwordMasked['logits'][i] = torch.tensor(resultwordMasked['logits'][i])\n",
    "    \n",
    "influenceScore, weight = calculateInfluenceScore(resultwordOrigin['logits'][2], resultwordMasked['logits'][3], get_idx_arg_preds(resultwordOrigin['preds'][2], resultwordMasked['preds'][3]))"
   ]
  },
  {
   "cell_type": "code",
   "execution_count": 11,
   "metadata": {},
   "outputs": [
    {
     "name": "stdout",
     "output_type": "stream",
     "text": [
      "tensor(0.0396)\n"
     ]
    }
   ],
   "source": [
    "print(sum(influenceScore) / sum(weight))"
   ]
  },
  {
   "cell_type": "markdown",
   "metadata": {},
   "source": [
    "# Calculate Relevance"
   ]
  },
  {
   "cell_type": "code",
   "execution_count": 12,
   "metadata": {},
   "outputs": [
    {
     "data": {
      "text/plain": [
       "{0: 'B-A1',\n",
       " 1: 'I-A1',\n",
       " 2: 'O',\n",
       " 3: 'B-V',\n",
       " 4: 'B-A0',\n",
       " 5: 'I-A0',\n",
       " 6: 'B-A4',\n",
       " 7: 'I-A4',\n",
       " 8: 'I-A3',\n",
       " 9: 'B-A2',\n",
       " 10: 'I-A2',\n",
       " 11: 'B-A3',\n",
       " 12: '[CLS]',\n",
       " 13: '[SEP]',\n",
       " 14: 'X'}"
      ]
     },
     "execution_count": 12,
     "metadata": {},
     "output_type": "execute_result"
    }
   ],
   "source": [
    "labMap"
   ]
  },
  {
   "cell_type": "code",
   "execution_count": 13,
   "metadata": {},
   "outputs": [
    {
     "data": {
      "text/plain": [
       "{'B-A1': 0,\n",
       " 'I-A1': 1,\n",
       " 'O': 2,\n",
       " 'B-V': 3,\n",
       " 'B-A0': 4,\n",
       " 'I-A0': 5,\n",
       " 'B-A4': 6,\n",
       " 'I-A4': 7,\n",
       " 'I-A3': 8,\n",
       " 'B-A2': 9,\n",
       " 'I-A2': 10,\n",
       " 'B-A3': 11,\n",
       " '[CLS]': 12,\n",
       " '[SEP]': 13,\n",
       " 'X': 14}"
      ]
     },
     "execution_count": 13,
     "metadata": {},
     "output_type": "execute_result"
    }
   ],
   "source": [
    "labMap = {v: k for k, v in labMap.items()}\n",
    "labMap"
   ]
  },
  {
   "cell_type": "code",
   "execution_count": 14,
   "metadata": {},
   "outputs": [],
   "source": [
    "def relevance_score(prob_origin_, prob_masked_, label_gold, label_origin, label_masked):\n",
    "    relevance = []\n",
    "    weight = []\n",
    "    jud_space = get_idx_arg_preds(label_origin, label_masked, label_gold)\n",
    "    for i in range(len(prob_origin_)):\n",
    "        if i not in jud_space:\n",
    "            continue\n",
    "        print(i)\n",
    "        max_index_origin = torch.argmax(prob_origin_[i])\n",
    "        max_index_masked = torch.argmax(prob_masked_[i])\n",
    "        idx_label_gold = labMap[str(label_gold[i])]\n",
    "        if label_gold[i] == label_origin[i] and label_gold[i] == label_masked[i]:\n",
    "            score_increase_gold = (prob_origin_[i][idx_label_gold] - prob_masked_[i][idx_label_gold])/max(prob_origin_[i][idx_label_gold], prob_masked_[i][idx_label_gold])\n",
    "            relevance.append(score_increase_gold)\n",
    "            weight.append(1)\n",
    "            print(score_increase_gold)\n",
    "        elif label_gold[i] != label_origin[i] and label_origin[i] == label_masked[i]:\n",
    "            score_increase_gold = (prob_origin_[i][idx_label_gold] - prob_masked_[i][idx_label_gold])/max(prob_origin_[i][idx_label_gold], prob_masked_[i][idx_label_gold])\n",
    "            score_decrease_mask = (prob_masked_[i][max_index_masked] - prob_origin_[i][max_index_masked])/max(prob_masked_[i][max_index_masked], prob_origin_[i][max_index_masked])\n",
    "            relevance.append((score_increase_gold + score_decrease_mask)/2)\n",
    "            weight.append(2)\n",
    "            print(score_increase_gold, score_decrease_mask)\n",
    "        elif label_origin[i] != label_masked[i] and label_masked[i] == label_gold[i]:\n",
    "            score_increase_gold = (prob_origin_[i][idx_label_gold] - prob_masked_[i][idx_label_gold])/max(prob_origin_[i][idx_label_gold], prob_masked_[i][idx_label_gold])\n",
    "            score_decrease_origin = (prob_masked_[i][max_index_origin] - prob_origin_[i][max_index_origin])/max(prob_masked_[i][max_index_origin], prob_origin_[i][max_index_origin])\n",
    "            relevance.append((score_increase_gold + score_decrease_origin)/2)\n",
    "            weight.append(2)\n",
    "            print(score_increase_gold, score_decrease_origin)\n",
    "        elif label_gold[i] != label_origin[i] and label_masked[i] != label_gold[i]:\n",
    "            score_increase_gold = (prob_origin_[i][idx_label_gold] - prob_masked_[i][idx_label_gold])/max(prob_origin_[i][idx_label_gold], prob_masked_[i][idx_label_gold])\n",
    "            score_decrease_mask = (prob_masked_[i][max_index_masked] - prob_origin_[i][max_index_masked])/max(prob_masked_[i][max_index_masked], prob_origin_[i][max_index_masked])\n",
    "            score_decrease_origin = (prob_masked_[i][max_index_origin] - prob_origin_[i][max_index_origin])/max(prob_masked_[i][max_index_origin], prob_origin_[i][max_index_origin])\n",
    "            relevance.append((score_increase_gold + score_decrease_mask + score_decrease_origin)/3)\n",
    "            weight.append(1)\n",
    "            print(score_increase_gold, score_decrease_mask, score_decrease_origin)\n",
    "        else:\n",
    "            relevance.append(0)\n",
    "        print('------------------------')\n",
    "    return relevance, weight"
   ]
  },
  {
   "cell_type": "code",
   "execution_count": 15,
   "metadata": {},
   "outputs": [
    {
     "name": "stdout",
     "output_type": "stream",
     "text": [
      "0\n",
      "tensor(0.) tensor(0.)\n",
      "------------------------\n",
      "1\n",
      "tensor(0.) tensor(0.)\n",
      "------------------------\n",
      "6\n",
      "tensor(0.) tensor(0.)\n",
      "------------------------\n",
      "7\n",
      "tensor(0.) tensor(0.)\n",
      "------------------------\n",
      "11\n",
      "tensor(0.5635) tensor(0.1558)\n",
      "------------------------\n",
      "12\n",
      "tensor(-0.2643) tensor(0.0338) tensor(-0.3626)\n",
      "------------------------\n",
      "13\n",
      "tensor(0.3114) tensor(0.0147)\n",
      "------------------------\n",
      "14\n",
      "tensor(0.5334) tensor(-0.0566)\n",
      "------------------------\n",
      "15\n",
      "tensor(0.5534) tensor(0.3409)\n",
      "------------------------\n",
      "16\n",
      "tensor(0.6816) tensor(0.0017)\n",
      "------------------------\n",
      "17\n",
      "tensor(0.5182) tensor(0.0827)\n",
      "------------------------\n",
      "18\n",
      "tensor(0.0564) tensor(0.0944)\n",
      "------------------------\n",
      "19\n",
      "tensor(0.5379) tensor(-0.1610)\n",
      "------------------------\n",
      "20\n",
      "tensor(0.3743) tensor(0.0083)\n",
      "------------------------\n"
     ]
    }
   ],
   "source": [
    "relevance_in_all_words, weights = relevance_score(resultwordOrigin['logits'][0], resultwordMasked['logits'][0], resultwordOrigin['labels'][0], resultwordOrigin['preds'][0], resultwordMasked['preds'][0])"
   ]
  },
  {
   "cell_type": "code",
   "execution_count": 16,
   "metadata": {},
   "outputs": [
    {
     "data": {
      "text/plain": [
       "tensor(0.0781)"
      ]
     },
     "execution_count": 16,
     "metadata": {},
     "output_type": "execute_result"
    }
   ],
   "source": [
    "sum(relevance_in_all_words) / sum(weights)"
   ]
  },
  {
   "cell_type": "code",
   "execution_count": 17,
   "metadata": {},
   "outputs": [],
   "source": [
    "def competence_score(origin, masked):\n",
    "    result = []\n",
    "    jump_count = 0\n",
    "    for i in range(len(origin['uids'])):\n",
    "        for j in range(jump_count, len(masked['uids'])):\n",
    "            if origin['uids'][i] == masked['uids'][j]:\n",
    "                influenceScore, weight_influ = calculateInfluenceScore(origin['logits'][i], masked['logits'][j], get_idx_arg_preds(origin['preds'][i], masked['preds'][j]))\n",
    "                relevance_in_all_words, weight_relevance = relevance_score(origin['logits'][i], masked['logits'][j], origin['labels'][i], origin['preds'][i], masked['preds'][j])\n",
    "                result.append(\n",
    "                    {\n",
    "                        'uid': masked['uids'][j],\n",
    "                        'influence': sum(influenceScore) / sum(weight_influ),\n",
    "                        'relevance': sum(relevance_in_all_words) / sum(weight_relevance)\n",
    "                    }\n",
    "                )\n",
    "            else :\n",
    "                jump_count = j\n",
    "                break\n",
    "    return result"
   ]
  },
  {
   "cell_type": "code",
   "execution_count": 18,
   "metadata": {},
   "outputs": [
    {
     "name": "stdout",
     "output_type": "stream",
     "text": [
      "0\n",
      "tensor(0.) tensor(0.)\n",
      "------------------------\n",
      "1\n",
      "tensor(0.) tensor(0.)\n",
      "------------------------\n",
      "6\n",
      "tensor(0.) tensor(0.)\n",
      "------------------------\n",
      "7\n",
      "tensor(0.) tensor(0.)\n",
      "------------------------\n",
      "11\n",
      "tensor(0.5635) tensor(0.1558)\n",
      "------------------------\n",
      "12\n",
      "tensor(-0.2643) tensor(0.0338) tensor(-0.3626)\n",
      "------------------------\n",
      "13\n",
      "tensor(0.3114) tensor(0.0147)\n",
      "------------------------\n",
      "14\n",
      "tensor(0.5334) tensor(-0.0566)\n",
      "------------------------\n",
      "15\n",
      "tensor(0.5534) tensor(0.3409)\n",
      "------------------------\n",
      "16\n",
      "tensor(0.6816) tensor(0.0017)\n",
      "------------------------\n",
      "17\n",
      "tensor(0.5182) tensor(0.0827)\n",
      "------------------------\n",
      "18\n",
      "tensor(0.0564) tensor(0.0944)\n",
      "------------------------\n",
      "19\n",
      "tensor(0.5379) tensor(-0.1610)\n",
      "------------------------\n",
      "20\n",
      "tensor(0.3743) tensor(0.0083)\n",
      "------------------------\n",
      "0\n",
      "tensor(0.) tensor(0.)\n",
      "------------------------\n",
      "1\n",
      "tensor(0.) tensor(0.)\n",
      "------------------------\n",
      "6\n",
      "tensor(0.1575) tensor(0.0436)\n",
      "------------------------\n",
      "7\n",
      "tensor(0.0323) tensor(0.1494)\n",
      "------------------------\n",
      "11\n",
      "tensor(0.) tensor(0.)\n",
      "------------------------\n",
      "12\n",
      "tensor(0.) tensor(0.)\n",
      "------------------------\n",
      "13\n",
      "tensor(0.) tensor(0.)\n",
      "------------------------\n",
      "14\n",
      "tensor(0.) tensor(0.)\n",
      "------------------------\n",
      "15\n",
      "tensor(0.) tensor(0.)\n",
      "------------------------\n",
      "16\n",
      "tensor(0.) tensor(0.)\n",
      "------------------------\n",
      "17\n",
      "tensor(0.) tensor(0.)\n",
      "------------------------\n",
      "18\n",
      "tensor(0.) tensor(0.)\n",
      "------------------------\n",
      "19\n",
      "tensor(0.) tensor(0.)\n",
      "------------------------\n",
      "20\n",
      "tensor(0.) tensor(0.)\n",
      "------------------------\n",
      "0\n",
      "tensor(0.)\n",
      "------------------------\n",
      "1\n",
      "tensor(0.)\n",
      "------------------------\n",
      "2\n",
      "tensor(0.)\n",
      "------------------------\n",
      "3\n",
      "tensor(0.)\n",
      "------------------------\n",
      "4\n",
      "tensor(0.)\n",
      "------------------------\n",
      "5\n",
      "tensor(0.)\n",
      "------------------------\n",
      "6\n",
      "tensor(0.)\n",
      "------------------------\n",
      "7\n",
      "tensor(0.)\n",
      "------------------------\n",
      "8\n",
      "tensor(0.)\n",
      "------------------------\n",
      "9\n",
      "tensor(0.)\n",
      "------------------------\n",
      "10\n",
      "tensor(0.)\n",
      "------------------------\n",
      "11\n",
      "tensor(0.)\n",
      "------------------------\n",
      "12\n",
      "tensor(0.)\n",
      "------------------------\n",
      "17\n",
      "tensor(-0.1173)\n",
      "------------------------\n",
      "18\n",
      "tensor(-0.1598) tensor(0.0345)\n",
      "------------------------\n",
      "19\n",
      "tensor(-0.1894) tensor(-0.1267)\n",
      "------------------------\n",
      "20\n",
      "tensor(0.0440)\n",
      "------------------------\n",
      "21\n",
      "tensor(0.1993) tensor(0.0610)\n",
      "------------------------\n",
      "22\n",
      "tensor(0.1202)\n",
      "------------------------\n",
      "23\n",
      "tensor(0.0436)\n",
      "------------------------\n",
      "25\n",
      "tensor(0.) tensor(0.)\n",
      "------------------------\n",
      "0\n",
      "tensor(-0.1252) tensor(-0.0282)\n",
      "------------------------\n",
      "1\n",
      "tensor(0.1584)\n",
      "------------------------\n",
      "5\n",
      "tensor(0.) tensor(0.)\n",
      "------------------------\n",
      "6\n",
      "tensor(0.)\n",
      "------------------------\n",
      "7\n",
      "tensor(0.) tensor(0.)\n",
      "------------------------\n",
      "8\n",
      "tensor(0.) tensor(0.)\n",
      "------------------------\n",
      "9\n",
      "tensor(0.) tensor(0.)\n",
      "------------------------\n",
      "10\n",
      "tensor(0.) tensor(0.)\n",
      "------------------------\n",
      "11\n",
      "tensor(0.) tensor(0.)\n",
      "------------------------\n",
      "0\n",
      "tensor(0.) tensor(0.)\n",
      "------------------------\n",
      "1\n",
      "tensor(0.)\n",
      "------------------------\n",
      "5\n",
      "tensor(0.8225) tensor(0.8733) tensor(-0.8845)\n",
      "------------------------\n",
      "6\n",
      "------------------------\n",
      "7\n",
      "tensor(0.6500) tensor(0.2613) tensor(-0.0731)\n",
      "------------------------\n",
      "8\n",
      "tensor(0.2375) tensor(0.0152)\n",
      "------------------------\n",
      "9\n",
      "tensor(0.6599) tensor(0.0196)\n",
      "------------------------\n",
      "10\n",
      "tensor(0.7640) tensor(0.0350)\n",
      "------------------------\n",
      "11\n",
      "tensor(0.3104) tensor(0.0904)\n",
      "------------------------\n",
      "3\n",
      "tensor(-0.1505) tensor(-0.1716)\n",
      "------------------------\n",
      "4\n",
      "tensor(0.2780) tensor(0.1313)\n",
      "------------------------\n",
      "5\n",
      "tensor(0.3915) tensor(0.1483)\n",
      "------------------------\n",
      "6\n",
      "tensor(0.2586) tensor(0.1404) tensor(-0.1439)\n",
      "------------------------\n",
      "7\n",
      "tensor(0.3895) tensor(0.0038)\n",
      "------------------------\n",
      "8\n",
      "tensor(0.4421) tensor(0.0064)\n",
      "------------------------\n",
      "9\n",
      "tensor(0.2749) tensor(0.0558)\n",
      "------------------------\n",
      "11\n",
      "tensor(0.) tensor(0.)\n",
      "------------------------\n",
      "12\n",
      "tensor(0.)\n",
      "------------------------\n",
      "29\n",
      "tensor(0.) tensor(0.)\n",
      "------------------------\n",
      "3\n",
      "tensor(0.) tensor(0.)\n",
      "------------------------\n",
      "4\n",
      "tensor(0.) tensor(0.)\n",
      "------------------------\n",
      "5\n",
      "tensor(0.) tensor(0.)\n",
      "------------------------\n",
      "6\n",
      "tensor(0.) tensor(0.)\n",
      "------------------------\n",
      "7\n",
      "tensor(0.) tensor(0.)\n",
      "------------------------\n",
      "8\n",
      "tensor(0.) tensor(0.)\n",
      "------------------------\n",
      "9\n",
      "tensor(0.) tensor(0.)\n",
      "------------------------\n",
      "11\n",
      "tensor(0.4806) tensor(0.0123)\n",
      "------------------------\n",
      "12\n",
      "------------------------\n",
      "29\n",
      "tensor(0.1059) tensor(0.0132)\n",
      "------------------------\n",
      "2\n",
      "tensor(0.1324) tensor(0.0305)\n",
      "------------------------\n",
      "3\n",
      "tensor(-0.0787) tensor(0.1841)\n",
      "------------------------\n",
      "6\n",
      "tensor(0.) tensor(0.)\n",
      "------------------------\n",
      "11\n",
      "tensor(0.) tensor(0.)\n",
      "------------------------\n",
      "12\n",
      "tensor(0.) tensor(0.)\n",
      "------------------------\n",
      "13\n",
      "tensor(0.) tensor(0.)\n",
      "------------------------\n",
      "14\n",
      "tensor(0.) tensor(0.)\n",
      "------------------------\n",
      "15\n",
      "tensor(0.) tensor(0.)\n",
      "------------------------\n",
      "16\n",
      "tensor(0.) tensor(0.)\n",
      "------------------------\n",
      "17\n",
      "tensor(0.) tensor(0.)\n",
      "------------------------\n",
      "18\n",
      "tensor(0.) tensor(0.)\n",
      "------------------------\n",
      "19\n",
      "tensor(0.) tensor(0.)\n",
      "------------------------\n",
      "20\n",
      "tensor(0.) tensor(0.)\n",
      "------------------------\n",
      "31\n",
      "tensor(0.) tensor(0.)\n",
      "------------------------\n",
      "32\n",
      "tensor(0.) tensor(0.)\n",
      "------------------------\n",
      "2\n",
      "tensor(0.) tensor(0.)\n",
      "------------------------\n",
      "3\n",
      "tensor(0.) tensor(0.)\n",
      "------------------------\n",
      "6\n",
      "tensor(0.) tensor(0.)\n",
      "------------------------\n",
      "11\n",
      "tensor(-0.2545) tensor(0.4960) tensor(-0.5854)\n",
      "------------------------\n",
      "12\n",
      "tensor(0.3638) tensor(0.2235) tensor(0.0869)\n",
      "------------------------\n",
      "13\n",
      "tensor(-0.2825) tensor(-0.0784)\n",
      "------------------------\n",
      "14\n",
      "tensor(0.4267) tensor(0.1794)\n",
      "------------------------\n",
      "15\n",
      "tensor(0.2756) tensor(0.1239)\n",
      "------------------------\n",
      "16\n",
      "tensor(0.6613) tensor(0.1050)\n",
      "------------------------\n",
      "17\n",
      "tensor(0.4779) tensor(0.0220)\n",
      "------------------------\n",
      "18\n",
      "tensor(0.0248) tensor(0.1796) tensor(-0.1860)\n",
      "------------------------\n",
      "19\n",
      "tensor(0.4785) tensor(-0.0685)\n",
      "------------------------\n",
      "20\n",
      "tensor(0.4806) tensor(0.0563)\n",
      "------------------------\n",
      "31\n",
      "tensor(0.) tensor(0.)\n",
      "------------------------\n",
      "32\n",
      "tensor(0.) tensor(0.)\n",
      "------------------------\n",
      "3\n",
      "tensor(-0.0632) tensor(-0.0732)\n",
      "------------------------\n",
      "4\n",
      "tensor(0.0160)\n",
      "------------------------\n",
      "5\n",
      "tensor(0.0002)\n",
      "------------------------\n",
      "6\n",
      "tensor(0.0800) tensor(0.0096)\n",
      "------------------------\n",
      "7\n",
      "tensor(-0.0004)\n",
      "------------------------\n",
      "8\n",
      "tensor(0.1055) tensor(0.0203)\n",
      "------------------------\n",
      "9\n",
      "tensor(0.0561)\n",
      "------------------------\n",
      "10\n",
      "tensor(0.0382)\n",
      "------------------------\n",
      "13\n",
      "tensor(0.) tensor(0.)\n",
      "------------------------\n",
      "14\n",
      "tensor(0.)\n",
      "------------------------\n",
      "15\n",
      "tensor(0.)\n",
      "------------------------\n",
      "19\n",
      "tensor(0.) tensor(0.)\n",
      "------------------------\n",
      "20\n",
      "tensor(0.) tensor(0.)\n",
      "------------------------\n",
      "22\n",
      "tensor(0.) tensor(0.)\n",
      "------------------------\n",
      "26\n",
      "tensor(-0.1679) tensor(-0.0306)\n",
      "------------------------\n",
      "3\n",
      "tensor(0.) tensor(0.)\n",
      "------------------------\n",
      "4\n",
      "tensor(0.)\n",
      "------------------------\n",
      "5\n",
      "tensor(0.)\n",
      "------------------------\n",
      "6\n",
      "tensor(0.) tensor(0.)\n",
      "------------------------\n",
      "7\n",
      "tensor(0.)\n",
      "------------------------\n",
      "8\n",
      "tensor(0.) tensor(0.)\n",
      "------------------------\n",
      "9\n",
      "tensor(0.)\n",
      "------------------------\n",
      "10\n",
      "tensor(0.)\n",
      "------------------------\n",
      "13\n",
      "tensor(0.1319) tensor(0.1103)\n",
      "------------------------\n",
      "14\n",
      "------------------------\n",
      "15\n",
      "tensor(0.0416)\n",
      "------------------------\n",
      "19\n",
      "tensor(0.) tensor(0.)\n",
      "------------------------\n",
      "20\n",
      "tensor(0.) tensor(0.)\n",
      "------------------------\n",
      "22\n",
      "tensor(0.) tensor(0.)\n",
      "------------------------\n",
      "26\n",
      "tensor(0.) tensor(0.)\n",
      "------------------------\n"
     ]
    }
   ],
   "source": [
    "competence = competence_score(resultwordOrigin, resultwordMasked)"
   ]
  },
  {
   "cell_type": "code",
   "execution_count": 19,
   "metadata": {},
   "outputs": [
    {
     "data": {
      "text/plain": [
       "[{'uid': '0', 'influence': tensor(0.0402), 'relevance': tensor(0.0781)},\n",
       " {'uid': '0', 'influence': tensor(0.), 'relevance': tensor(0.0068)},\n",
       " {'uid': '1', 'influence': tensor(0.0091), 'relevance': tensor(-3.7138e-06)},\n",
       " {'uid': '2', 'influence': tensor(0.0396), 'relevance': tensor(0.0051)},\n",
       " {'uid': '2', 'influence': tensor(0.3514), 'relevance': tensor(0.1243)},\n",
       " {'uid': '3', 'influence': tensor(0.0858), 'relevance': tensor(0.0547)},\n",
       " {'uid': '3', 'influence': tensor(0.2511), 'relevance': tensor(0.0170)},\n",
       " {'uid': '4', 'influence': tensor(0.), 'relevance': tensor(0.0045)},\n",
       " {'uid': '4', 'influence': tensor(0.1140), 'relevance': tensor(0.0572)},\n",
       " {'uid': '5', 'influence': tensor(0.0166), 'relevance': tensor(0.0022)},\n",
       " {'uid': '5', 'influence': tensor(0.0747), 'relevance': tensor(0.0074)}]"
      ]
     },
     "execution_count": 19,
     "metadata": {},
     "output_type": "execute_result"
    }
   ],
   "source": [
    "competence"
   ]
  },
  {
   "cell_type": "code",
   "execution_count": 23,
   "metadata": {},
   "outputs": [
    {
     "name": "stdout",
     "output_type": "stream",
     "text": [
      "Spearman correlation coefficient: 0.7744894808829488\n",
      "p-value: 0.005131181460128413\n"
     ]
    }
   ],
   "source": [
    "from scipy.stats import spearmanr, permutation_test\n",
    "\n",
    "influence_values = [item['influence'] for item in competence]\n",
    "relevance_values = [item['relevance'] for item in competence]\n",
    "\n",
    "# Calculate Spearman correlation coefficient\n",
    "correlation_coefficient, p_value = spearmanr(influence_values, relevance_values)\n",
    "\n",
    "\n",
    "print(\"Spearman correlation coefficient:\", correlation_coefficient)\n",
    "print(\"p-value:\", p_value)"
   ]
  },
  {
   "cell_type": "code",
   "execution_count": 25,
   "metadata": {},
   "outputs": [
    {
     "data": {
      "text/plain": [
       "(0.0088, 0.005131181460128413)"
      ]
     },
     "execution_count": 25,
     "metadata": {},
     "output_type": "execute_result"
    }
   ],
   "source": [
    "def statistic(x):  # permute only `x`\n",
    "     return spearmanr(x, relevance_values).statistic\n",
    "\n",
    "res_exact = permutation_test((influence_values,), statistic, permutation_type=\"pairings\")\n",
    "res_asymptotic = spearmanr(influence_values, relevance_values)\n",
    "res_exact.pvalue, res_asymptotic.pvalue"
   ]
  },
  {
   "cell_type": "code",
   "execution_count": 21,
   "metadata": {},
   "outputs": [
    {
     "data": {
      "image/png": "[encoded data removed]",
      "text/plain": [
       "<Figure size 640x480 with 1 Axes>"
      ]
     },
     "metadata": {},
     "output_type": "display_data"
    }
   ],
   "source": [
    "# visualize the influence and relevance score\n",
    "import matplotlib.pyplot as plt\n",
    "\n",
    "\n",
    "influence = [item['influence'] for item in competence]\n",
    "relevance = [item['relevance'] for item in competence]\n",
    "\n",
    "# line chart\n",
    "plt.plot(influence, label='influence')\n",
    "plt.plot(relevance, label='relevance')\n",
    "plt.legend()\n",
    "plt.show()\n"
   ]
  },
  {
   "cell_type": "code",
   "execution_count": 7,
   "metadata": {},
   "outputs": [],
   "source": [
    "import pandas as pd\n",
    "import tqdm\n",
    "from sklearn.metrics import f1_score"
   ]
  },
  {
   "cell_type": "code",
   "execution_count": 11,
   "metadata": {},
   "outputs": [
    {
     "name": "stdout",
     "output_type": "stream",
     "text": [
      "0.0\n"
     ]
    }
   ],
   "source": [
    "# read file and calculate f1\n",
    "path_predict = 'dataMeddle/ner_coNLL_testa_abolish_masked_origin.tsv'\n",
    "# this file have 3 column\n",
    "# uid   label    predict \n",
    "# have header\n",
    "data = pd.read_csv(path_predict, sep='\\t', header=None)\n",
    "# promote header this first row\n",
    "data.columns = data.iloc[0]\n",
    "# drop first row\n",
    "data = data.drop(0)\n",
    "f1 = f1_score(data['label'], data['prediction'], average='macro')\n",
    "\n",
    "print(f1)"
   ]
  },
  {
   "cell_type": "code",
   "execution_count": null,
   "metadata": {},
   "outputs": [],
   "source": [
    "# !python ../data_preparation.py \\\n",
    "#     --task_file 'tasks_file_SRL.yml' \\\n",
    "#     --data_dir 'content/data/' \\\n",
    "#     --max_seq_len 50\n",
    "#     --has_labels True\n",
    "#     # --data_dir '../../data' \\\n",
    "\n",
    "\n",
    "# !python ../train.py \\\n",
    "#     --data_dir 'content/data/bert-base-uncased_prepared_data' \\\n",
    "#     --task_file 'tasks_file_SRL.yml' \\\n",
    "#     --out_dir 'conll_ner_pos_bert_base' \\\n",
    "#     --epochs 50 \\\n",
    "#     --learning_rate 0.00002\n",
    "#     --max_seq_len 50 \\"
   ]
  },
  {
   "cell_type": "code",
   "execution_count": null,
   "metadata": {},
   "outputs": [],
   "source": [
    "# def relevance_score(prob_gold_, prob_origin_, prob_masked_, label_gold, label_origin, label_masked):\n",
    "#     relevance = []\n",
    "#     weight = []\n",
    "#     for i in range(len(prob_gold_)):\n",
    "#         if i not in jud_space:\n",
    "#             continue\n",
    "#         print(i)\n",
    "#         if label_gold[i] == label_origin[i] and label_gold[i] == label_masked[i]:\n",
    "#             relevance.append(prob_gold_[i])\n",
    "#             # check prob_gold is tensor ?\n",
    "#             print(prob_gold_[i])\n",
    "#             weight.append(1)\n",
    "#         elif label_gold[i] != label_origin[i] and label_origin[i] == label_masked[i]:\n",
    "#             relevance.append((prob_gold_[i] + prob_masked_[i])/2)\n",
    "#             print(prob_gold_[i], prob_masked_[i])\n",
    "#             weight.append(2)\n",
    "#         elif label_origin[i] != label_masked[i] and label_masked[i] == label_gold[i]:\n",
    "#             relevance.append((prob_gold_[i] + prob_origin_[i])/2)\n",
    "#             print(prob_gold_[i], prob_origin_[i])\n",
    "#             weight.append(2)\n",
    "#         elif label_gold[i] != label_origin[i] and label_masked[i] != label_gold[i]:\n",
    "#             relevance.append((prob_gold_[i] + prob_origin_[i] + prob_masked_[i])/3)\n",
    "#             print(prob_gold_[i], prob_origin_[i], prob_masked_[i])\n",
    "#             weight.append(1)\n",
    "#         else:\n",
    "#             relevance.append(0)\n",
    "#         print('------------------------')\n",
    "#     return relevance, weight"
   ]
  }
 ],
 "metadata": {
  "kernelspec": {
   "display_name": "thesis",
   "language": "python",
   "name": "python3"
  },
  "language_info": {
   "codemirror_mode": {
    "name": "ipython",
    "version": 3
   },
   "file_extension": ".py",
   "mimetype": "text/x-python",
   "name": "python",
   "nbconvert_exporter": "python",
   "pygments_lexer": "ipython3",
   "version": "3.9.16"
  }
 },
 "nbformat": 4,
 "nbformat_minor": 2
}
