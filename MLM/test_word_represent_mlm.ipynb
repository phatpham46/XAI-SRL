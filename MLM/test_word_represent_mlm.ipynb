{
 "cells": [
  {
   "cell_type": "code",
   "execution_count": 1,
   "metadata": {},
   "outputs": [],
   "source": [
    "import json\n",
    "import torch\n",
    "\n",
    "def read_data(readPath):\n",
    "\n",
    "    with open(readPath, 'r', encoding = 'utf-8') as file:\n",
    "        taskData = []\n",
    "        for i, line in enumerate(file):\n",
    "            sample = json.loads(line)\n",
    "            taskData.append(sample)\n",
    "\n",
    "    return taskData"
   ]
  },
  {
   "cell_type": "code",
   "execution_count": 2,
   "metadata": {},
   "outputs": [
    {
     "name": "stderr",
     "output_type": "stream",
     "text": [
      "/home/phatpham/anaconda3/envs/min_ds-env/lib/python3.8/site-packages/tqdm/auto.py:22: TqdmWarning: IProgress not found. Please update jupyter and ipywidgets. See https://ipywidgets.readthedocs.io/en/stable/user_install.html\n",
      "  from .autonotebook import tqdm as notebook_tqdm\n",
      "2024-05-09 00:07:43.234887: I tensorflow/core/util/port.cc:110] oneDNN custom operations are on. You may see slightly different numerical results due to floating-point round-off errors from different computation orders. To turn them off, set the environment variable `TF_ENABLE_ONEDNN_OPTS=0`.\n",
      "2024-05-09 00:07:43.289331: I tensorflow/core/platform/cpu_feature_guard.cc:182] This TensorFlow binary is optimized to use available CPU instructions in performance-critical operations.\n",
      "To enable the following instructions: AVX2 AVX512F AVX512_VNNI FMA, in other operations, rebuild TensorFlow with the appropriate compiler flags.\n",
      "2024-05-09 00:07:44.182453: W tensorflow/compiler/tf2tensorrt/utils/py_utils.cc:38] TF-TRT Warning: Could not find TensorRT\n",
      "/home/phatpham/anaconda3/envs/min_ds-env/lib/python3.8/site-packages/torch/cuda/__init__.py:546: UserWarning: Can't initialize NVML\n",
      "  warnings.warn(\"Can't initialize NVML\")\n",
      "2024-05-09 00:07:45.457840: E tensorflow/compiler/xla/stream_executor/cuda/cuda_driver.cc:268] failed call to cuInit: CUDA_ERROR_NO_DEVICE: no CUDA-capable device is detected\n",
      "Some weights of the model checkpoint at dmis-lab/biobert-base-cased-v1.2 were not used when initializing BertForMaskedLM: ['cls.seq_relationship.bias', 'bert.pooler.dense.bias', 'cls.seq_relationship.weight', 'bert.pooler.dense.weight']\n",
      "- This IS expected if you are initializing BertForMaskedLM from the checkpoint of a model trained on another task or with another architecture (e.g. initializing a BertForSequenceClassification model from a BertForPreTraining model).\n",
      "- This IS NOT expected if you are initializing BertForMaskedLM from the checkpoint of a model that you expect to be exactly identical (initializing a BertForSequenceClassification model from a BertForSequenceClassification model).\n"
     ]
    }
   ],
   "source": [
    "import os\n",
    "import sys\n",
    "\n",
    "sys.path.append('../')\n",
    "\n",
    "from models.model import multiTaskModel\n",
    "\n",
    "def load_params(model_file):\n",
    "    device = torch.device(\"cuda:0\" if torch.cuda.is_available() else \"cpu\")\n",
    "    # Load finetuned model \n",
    "    loadedDict = torch.load(model_file, map_location=torch.device(device))\n",
    "    \n",
    "    taskParams = loadedDict['task_params']\n",
    "    allParams = {}\n",
    "    allParams['task_params'] = taskParams\n",
    "    allParams['gpu'] = torch.cuda.is_available()\n",
    "    \n",
    "    # dummy values\n",
    "    allParams['num_train_steps'] = 10\n",
    "    allParams['warmup_steps'] = 0\n",
    "    allParams['learning_rate'] = 2e-5\n",
    "    allParams['epsilon'] = 1e-8\n",
    "\n",
    "   \n",
    "    return allParams, loadedDict"
   ]
  },
  {
   "cell_type": "code",
   "execution_count": 4,
   "metadata": {},
   "outputs": [
    {
     "name": "stderr",
     "output_type": "stream",
     "text": [
      "/home/phatpham/anaconda3/envs/min_ds-env/lib/python3.8/site-packages/torch/cuda/__init__.py:546: UserWarning: Can't initialize NVML\n",
      "  warnings.warn(\"Can't initialize NVML\")\n",
      "2024-04-10 16:12:30.952074: E tensorflow/compiler/xla/stream_executor/cuda/cuda_driver.cc:268] failed call to cuInit: CUDA_ERROR_NO_DEVICE: no CUDA-capable device is detected\n",
      "Some weights of the model checkpoint at dmis-lab/biobert-base-cased-v1.2 were not used when initializing BertForMaskedLM: ['bert.pooler.dense.bias', 'cls.seq_relationship.bias', 'bert.pooler.dense.weight', 'cls.seq_relationship.weight']\n",
      "- This IS expected if you are initializing BertForMaskedLM from the checkpoint of a model trained on another task or with another architecture (e.g. initializing a BertForSequenceClassification model from a BertForPreTraining model).\n",
      "- This IS NOT expected if you are initializing BertForMaskedLM from the checkpoint of a model that you expect to be exactly identical (initializing a BertForSequenceClassification model from a BertForSequenceClassification model).\n"
     ]
    }
   ],
   "source": [
    "import os\n",
    "from model.custom_dataset import CustomDataset\n",
    "def get_embedding_finetuned(dataDir, readFile, model, wriDir):\n",
    "    data = read_data(os.path.join(dataDir, readFile))\n",
    "    line = data[0]\n",
    "\n",
    "    device = torch.device(\"cuda:0\" if torch.cuda.is_available() else \"cpu\")\n",
    "    # Convert inputs to PyTorch tensors\n",
    "    attention_mask = torch.tensor([int(x) for x in line['attention_mask']], device=device)\n",
    "    tokens_tensor = torch.tensor([int(x) for x in line['token_id']],  device=device)\n",
    "    segments_tensors = torch.tensor([int(x) for x in line['token_type_ids']],  device=device)\n",
    "    \n",
    "    test_dataset = CustomDataset(\n",
    "        data_path=dataDir,\n",
    "        file_name=readFile)\n",
    "    \n",
    "    print(test_dataset)\n",
    "    print(type(test_dataset))\n",
    "    # with torch.no_grad():\n",
    "    #     outputs_model, _ = model.network(test_dataset['atte'], segments_tensors, attention_mask, 0, 'conllsrl')\n",
    "       \n",
    "    #     last_hidden_states = outputs_model[0]\n",
    "    #     hidden_states = outputs_model[2]\n",
    "    \n",
    "    # # sum of last four layer\n",
    "    # word_embed_5 = torch.stack(hidden_states[-4:]).sum(0)\n",
    "    \n",
    "    # # concatenate last four layers\n",
    "    # word_embed_6 = torch.cat([hidden_states[i] for i in [-1,-2,-3,-4]], dim=-1)\n",
    "    \n",
    "    # return last_hidden_states, word_embed_5, word_embed_6\n"
   ]
  },
  {
   "cell_type": "code",
   "execution_count": 3,
   "metadata": {},
   "outputs": [],
   "source": [
    "model_file = '../output/multi_task_model_9_13050.pt'\n",
    "allParams, loadedDict = load_params(model_file)\n",
    "model = multiTaskModel(allParams)\n",
    "model.load_multi_task_model(loadedDict)\n",
    "\n",
    "dataDir = './mlm_prepared_data_3/'\n",
    "readFile = 'dev_mlm.json'\n",
    "wriDir = 'test_get_embedding_MLM_data'\n",
    "# last_hidden_states_finetuned, sum_4_finetuned, concat_4_finetuned = get_embedding_finetuned(dataDir, readFile, model, wriDir)"
   ]
  },
  {
   "cell_type": "code",
   "execution_count": 6,
   "metadata": {},
   "outputs": [
    {
     "data": {
      "text/plain": [
       "{'B-A1': 0,\n",
       " 'I-A1': 1,\n",
       " 'O': 2,\n",
       " 'B-V': 3,\n",
       " 'B-A0': 4,\n",
       " 'I-A0': 5,\n",
       " 'B-A4': 6,\n",
       " 'I-A4': 7,\n",
       " 'I-A3': 8,\n",
       " 'B-A2': 9,\n",
       " 'I-A2': 10,\n",
       " 'B-A3': 11,\n",
       " '[CLS]': 12,\n",
       " '[SEP]': 13,\n",
       " 'X': 14}"
      ]
     },
     "execution_count": 6,
     "metadata": {},
     "output_type": "execute_result"
    },
    {
     "ename": "",
     "evalue": "",
     "output_type": "error",
     "traceback": [
      "\u001b[1;31mThe Kernel crashed while executing code in the current cell or a previous cell. \n",
      "\u001b[1;31mPlease review the code in the cell(s) to identify a possible cause of the failure. \n",
      "\u001b[1;31mClick <a href='https://aka.ms/vscodeJupyterKernelCrash'>here</a> for more info. \n",
      "\u001b[1;31mView Jupyter <a href='command:jupyter.viewOutput'>log</a> for further details."
     ]
    }
   ],
   "source": [
    "loadedDict['task_params'].labelMap['conllsrl']\n"
   ]
  },
  {
   "cell_type": "code",
   "execution_count": null,
   "metadata": {},
   "outputs": [],
   "source": [
    "from mlm_finetune import load_model\n",
    "import torch\n",
    "model_file = '/mnt/c/Users/Phat Pham/Documents/THESIS/SRLPredictionEasel/output/multi_task_model_9_13050.pt'     \n",
    "device = torch.device(\"cuda\" if torch.cuda.is_available() and not args.no_cuda else \"cpu\")\n",
    "\n",
    "min_val_loss = load_model(model_file, model, device, optimizer, scheduler)"
   ]
  }
 ],
 "metadata": {
  "kernelspec": {
   "display_name": "min_ds-env",
   "language": "python",
   "name": "python3"
  },
  "language_info": {
   "codemirror_mode": {
    "name": "ipython",
    "version": 3
   },
   "file_extension": ".py",
   "mimetype": "text/x-python",
   "name": "python",
   "nbconvert_exporter": "python",
   "pygments_lexer": "ipython3",
   "version": "3.8.8"
  }
 },
 "nbformat": 4,
 "nbformat_minor": 2
}
