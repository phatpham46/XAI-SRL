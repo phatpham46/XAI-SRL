{
 "cells": [
  {
   "cell_type": "markdown",
   "metadata": {},
   "source": [
    "### 1. Tạo pertured data và lưu giống data cũ (cal_metric.py)\n",
    "    1. Tạo ra câu pertured va convert json và ghép label (pertured_folder/masked_data_json)\n",
    "### 2. Lấy ra vector logit \n",
    "    1. convert interim -> txt \n",
    "    2. transform, prepare -> json \n",
    "    3. đưa json (masked data 0.1) vào model lấy logit, prediction -> cần tạo class để lấy cho cả origin data và masked data\n",
    "### 3. convert label gold theo từ thành label gold theo token\n",
    "### 4. Tính inf "
   ]
  },
  {
   "cell_type": "markdown",
   "metadata": {},
   "source": [
    "## Step 2"
   ]
  },
  {
   "cell_type": "code",
   "execution_count": null,
   "metadata": {},
   "outputs": [],
   "source": [
    "!python ../data_transformations.py --transform_file '/mnt/c/Users/Phat Pham/Documents/THESIS/SRLPredictionEasel/SRL/transform_file_conll.yml'\n",
    "# nhớ chỉnh lại đường dẫn trong file transform_file_conll.yml"
   ]
  },
  {
   "cell_type": "code",
   "execution_count": null,
   "metadata": {},
   "outputs": [],
   "source": [
    "\n",
    "!python ../data_preparation.py \\\n",
    "        --task_file \"/mnt/c/Users/Phat Pham/Documents/THESIS/SRLPredictionEasel/SRL/tasks_file_SRL.yml\" \\\n",
    "        --data_dir ../MLM/coNLL_tsv_json \\\n",
    "        --max_seq_len 85"
   ]
  },
  {
   "cell_type": "markdown",
   "metadata": {},
   "source": [
    "## Calculate metrics for data perturbation\n"
   ]
  },
  {
   "cell_type": "code",
   "execution_count": null,
   "metadata": {},
   "outputs": [],
   "source": [
    "\n",
    "!python metrics_calculation.py \\\n",
    "    --data_mask_dir './data_mlm/perturbed_data/sum_neg_cos/' \\\n",
    "    --data_origin_dir './data_mlm/process_folder/coNLL_tsv_json/ner_json/'  \\\n",
    "    --model_path '../output/multi_task_model_9_13050.pt' \\\n",
    "    --log_name \"cal_corr_inf_lhs\" \\\n",
    "    --wriDir './data_mlm/perturbed_data/importance_score/'"
   ]
  },
  {
   "cell_type": "markdown",
   "metadata": {},
   "source": [
    "## Calculate metrics for masked data"
   ]
  },
  {
   "cell_type": "code",
   "execution_count": null,
   "metadata": {},
   "outputs": [],
   "source": [
    "!python metrics_calculation.py \\\n",
    "    --data_mask_dir './data_mlm/process_folder/mlm_output/' \\\n",
    "    --data_origin_dir './data_mlm/process_folder/coNLL_tsv_json/ner_json/'  \\\n",
    "    --model_path '../output/multi_task_model_9_13050.pt' \\\n",
    "    --log_name \"comp_mask_token\" \\\n",
    "    --is_mask_token True"
   ]
  },
  {
   "cell_type": "markdown",
   "metadata": {},
   "source": [
    "## Calculate metrics for delete token data"
   ]
  },
  {
   "cell_type": "code",
   "execution_count": null,
   "metadata": {},
   "outputs": [],
   "source": [
    "!python metrics_calculation.py \\\n",
    "    --data_mask_dir './data_mlm/process_folder/mlm_output/' \\\n",
    "    --data_origin_dir './data_mlm/process_folder/coNLL_tsv_json/ner_json/'  \\\n",
    "    --model_path '../output/multi_task_model_9_13050.pt' \\\n",
    "    --log_name \"comp_del_mask_token\" \\\n",
    "    --del_mask_token True"
   ]
  },
  {
   "cell_type": "markdown",
   "metadata": {},
   "source": [
    "## Task 1.1 :"
   ]
  },
  {
   "cell_type": "code",
   "execution_count": 3,
   "metadata": {},
   "outputs": [
    {
     "name": "stderr",
     "output_type": "stream",
     "text": [
      "/home/phatpham/anaconda3/envs/min_ds-env/lib/python3.8/site-packages/torch/cuda/__init__.py:546: UserWarning: Can't initialize NVML\n",
      "  warnings.warn(\"Can't initialize NVML\")\n",
      "2024-07-22 16:46:51.728397: I tensorflow/core/util/port.cc:110] oneDNN custom operations are on. You may see slightly different numerical results due to floating-point round-off errors from different computation orders. To turn them off, set the environment variable `TF_ENABLE_ONEDNN_OPTS=0`.\n",
      "2024-07-22 16:46:51.768596: I tensorflow/core/platform/cpu_feature_guard.cc:182] This TensorFlow binary is optimized to use available CPU instructions in performance-critical operations.\n",
      "To enable the following instructions: AVX2 AVX512F AVX512_VNNI FMA, in other operations, rebuild TensorFlow with the appropriate compiler flags.\n",
      "2024-07-22 16:46:52.491106: W tensorflow/compiler/tf2tensorrt/utils/py_utils.cc:38] TF-TRT Warning: Could not find TensorRT\n",
      "2024-07-22 16:46:53.263124: E tensorflow/compiler/xla/stream_executor/cuda/cuda_driver.cc:268] failed call to cuInit: CUDA_ERROR_NO_DEVICE: no CUDA-capable device is detected\n",
      "/home/phatpham/anaconda3/envs/min_ds-env/lib/python3.8/site-packages/tqdm/auto.py:22: TqdmWarning: IProgress not found. Please update jupyter and ipywidgets. See https://ipywidgets.readthedocs.io/en/stable/user_install.html\n",
      "  from .autonotebook import tqdm as notebook_tqdm\n"
     ]
    }
   ],
   "source": [
    "import pandas as pd\n",
    "import os\n",
    "from mlm_utils.transform_func import get_files\n",
    "from datetime import datetime\n",
    "import os\n",
    "from mlm_utils.transform_func import get_files\n",
    "from metrics_calculation import get_importance_score, evaluateWord\n",
    "from data_maker import DataMaker\n",
    "from infer_pipeline import inferPipeline\n",
    "from logger_ import make_logger"
   ]
  },
  {
   "cell_type": "code",
   "execution_count": null,
   "metadata": {},
   "outputs": [],
   "source": [
    "dataMaskedDir = './data_mlm/perturbed_data/avg_pos_cos_module/'\n",
    "dataOriginDir = './data_mlm/process_folder/coNLL_tsv_json/ner_json/'\n",
    "model_path = '../model_path/multi_task_model_9_13050.pt'\n",
    "\n",
    "\n",
    "# setting logging\n",
    "now = datetime.now()\n",
    "logDir = now.strftime(\"%d_%m-%H_%M\")\n",
    "if not os.path.isdir(logDir):\n",
    "    os.makedirs(logDir)\n",
    "\n",
    "logger = make_logger(name = 'test_corr_inf_lhs', debugMode=True,\n",
    "                    logFile=os.path.join(logDir, '{}.log'.format('test_corr_inf_lhs')), silent=True)\n",
    "logger.info(\"logger created.\")\n",
    "\n",
    "pipe = inferPipeline(logger, model_path)\n",
    "labelMap = pipe.taskParams.labelMap['conllsrl']\n",
    "labelRn = {v:k for k,v in labelMap.items()}\n",
    " \n",
    "file_mask = sorted(get_files(dataMaskedDir))\n",
    "file_origin = sorted(get_files(dataOriginDir))\n",
    "all_pair_score = []\n",
    "\n",
    "for mask, origin in zip(file_mask, file_origin):   \n",
    "    resultwordMasked = evaluateWord(dataMaskedDir, mask, pipe.model, labelRn, hasTrueLabels=False, needMetrics=False, is_mask_token=False, del_mask_token=False)\n",
    "    resultOrigin = evaluateWord(dataOriginDir, origin, pipe.model, labelRn, hasTrueLabels=True, needMetrics=False)\n",
    "\n",
    "    # labelMap = {v: k for k, v in labelRn.items()}\n",
    "    score_dict, list_pair_score = get_importance_score(resultOrigin, resultwordMasked, labelMap)\n",
    "    all_pair_score.extend(list_pair_score)"
   ]
  },
  {
   "cell_type": "code",
   "execution_count": null,
   "metadata": {},
   "outputs": [
    {
     "data": {
      "text/plain": [
       "1022"
      ]
     },
     "execution_count": 17,
     "metadata": {},
     "output_type": "execute_result"
    }
   ],
   "source": [
    "len(all_pair_score)"
   ]
  },
  {
   "cell_type": "code",
   "execution_count": 3,
   "metadata": {},
   "outputs": [
    {
     "name": "stdout",
     "output_type": "stream",
     "text": [
      "pair_score_abolish.csv mlm_abolish_full.csv\n",
      "pair_score_alter.csv mlm_alter_full.csv\n",
      "pair_score_begin_1.csv mlm_begin_1_full.csv\n",
      "pair_score_begin_2.csv mlm_begin_2_full.csv\n",
      "pair_score_block.csv mlm_block_full.csv\n",
      "pair_score_catalyse.csv mlm_catalyse_full.csv\n",
      "pair_score_confer.csv mlm_confer_full.csv\n",
      "pair_score_decrease_1.csv mlm_decrease_1_full.csv\n",
      "pair_score_decrease_2.csv mlm_decrease_2_full.csv\n",
      "pair_score_delete.csv mlm_delete_full.csv\n",
      "pair_score_develop.csv mlm_develop_full.csv\n",
      "pair_score_disrupt.csv mlm_disrupt_full.csv\n",
      "pair_score_eliminate.csv mlm_eliminate_full.csv\n",
      "pair_score_encode.csv mlm_encode_full.csv\n",
      "pair_score_express.csv mlm_express_full.csv\n",
      "pair_score_generate.csv mlm_generate_full.csv\n",
      "pair_score_inhibit.csv mlm_inhibit_full.csv\n",
      "pair_score_initiate.csv mlm_initiate_full.csv\n",
      "pair_score_lead.csv mlm_lead_full.csv\n",
      "pair_score_lose.csv mlm_lose_full.csv\n",
      "pair_score_modify.csv mlm_modify_full.csv\n",
      "pair_score_mutate.csv mlm_mutate_full.csv\n",
      "pair_score_proliferate.csv mlm_proliferate_full.csv\n",
      "pair_score_recognize.csv mlm_recognize_full.csv\n",
      "pair_score_result.csv mlm_result_full.csv\n",
      "pair_score_skip.csv mlm_skip_full.csv\n",
      "pair_score_splice_1.csv mlm_splice_1_full.csv\n",
      "pair_score_splice_2.csv mlm_splice_2_full.csv\n",
      "pair_score_transcribe.csv mlm_transcribe_full.csv\n",
      "pair_score_transform_1.csv mlm_transform_1_full.csv\n",
      "pair_score_transform_2.csv mlm_transform_2_full.csv\n",
      "pair_score_translate_1.csv mlm_translate_1_full.csv\n",
      "pair_score_translate_2.csv mlm_translate_2_full.csv\n",
      "pair_score_translate_3.csv mlm_translate_3_full.csv\n",
      "pair_score_truncate.csv mlm_truncate_full.csv\n"
     ]
    }
   ],
   "source": [
    "# read csv \n",
    "score = '/mnt/c/Users/Phat Pham/Documents/THESIS/SRLPredictionEasel/MLM/data_mlm/perturbed_data/importance_score_avg_pos_cos_module/'\n",
    "pas_inf = '/mnt/c/Users/Phat Pham/Documents/THESIS/SRLPredictionEasel/MLM/data_mlm/process_folder/PAS_knowledge/' \n",
    "files = get_files(score)\n",
    "pas_files = get_files(pas_inf)\n",
    "all_cosine = pd.DataFrame()\n",
    "all_pas = pd.DataFrame()\n",
    "for file, pas_file in zip(files, pas_files):\n",
    "    print(file, pas_file)\n",
    "    cos = pd.read_csv(os.path.join(score, file), sep='\\t')\n",
    "    all_cosine = pd.concat([all_cosine, cos], axis=0, ignore_index = True)\n",
    "    \n",
    "    pas = pd.read_csv(os.path.join(pas_inf, pas_file))\n",
    "    all_pas = pd.concat([all_pas, pas], axis=0, ignore_index = True)\n",
    "    \n",
    "    # drop nan\n",
    "    all_cosine = all_cosine.dropna()\n",
    "    all_pas = all_pas.dropna()\n",
    "    "
   ]
  },
  {
   "cell_type": "code",
   "execution_count": 4,
   "metadata": {},
   "outputs": [
    {
     "data": {
      "text/plain": [
       "(83232, 4)"
      ]
     },
     "execution_count": 4,
     "metadata": {},
     "output_type": "execute_result"
    }
   ],
   "source": [
    "all_cosine.shape"
   ]
  },
  {
   "cell_type": "code",
   "execution_count": 5,
   "metadata": {},
   "outputs": [
    {
     "data": {
      "text/plain": [
       "Index(['uid', 'influence', 'relevance', 'brier_score'], dtype='object')"
      ]
     },
     "execution_count": 5,
     "metadata": {},
     "output_type": "execute_result"
    }
   ],
   "source": [
    "all_cosine.columns"
   ]
  },
  {
   "cell_type": "code",
   "execution_count": 6,
   "metadata": {},
   "outputs": [
    {
     "data": {
      "text/plain": [
       "(83232, 7)"
      ]
     },
     "execution_count": 6,
     "metadata": {},
     "output_type": "execute_result"
    }
   ],
   "source": [
    "all_pas.shape"
   ]
  },
  {
   "cell_type": "code",
   "execution_count": 7,
   "metadata": {},
   "outputs": [
    {
     "data": {
      "text/plain": [
       "Index(['uid', 'cos_sim', 'cos_mo', 'ele_sub_neg', 'cos_dif', 'cos_mo_dif',\n",
       "       'ele_sub'],\n",
       "      dtype='object')"
      ]
     },
     "execution_count": 7,
     "metadata": {},
     "output_type": "execute_result"
    }
   ],
   "source": [
    "all_pas.columns"
   ]
  },
  {
   "cell_type": "code",
   "execution_count": 8,
   "metadata": {},
   "outputs": [
    {
     "name": "stdout",
     "output_type": "stream",
     "text": [
      "cos_sim 0.0333776226794917 5.859596965062307e-22\n",
      "cos_mo 0.02772554275937736 1.2419232070246777e-15\n",
      "ele_sub_neg -0.25551198117750207 0.0\n",
      "cos_dif -0.0033978376573552387 0.32695641269095943\n",
      "cos_mo_dif -0.021068825025361382 1.2098693531844976e-09\n",
      "ele_sub 0.25551198117750207 0.0\n"
     ]
    }
   ],
   "source": [
    "import numpy as np\n",
    "from scipy.stats import spearmanr\n",
    "for col in all_pas.columns[1:]:\n",
    "    correlation_coefficient, p_value = spearmanr(all_cosine['relevance'], all_pas[col])\n",
    "    print(col, correlation_coefficient, p_value)\n",
    "    "
   ]
  },
  {
   "cell_type": "code",
   "execution_count": null,
   "metadata": {},
   "outputs": [],
   "source": [
    "pas_inf = '/mnt/c/Users/Phat Pham/Documents/THESIS/SRLPredictionEasel/MLM/data_mlm/process_folder/PAS_knowledge/' \n",
    "\n",
    "pas_files = get_files(pas_inf)\n",
    "all_pas = pd.DataFrame()\n",
    "all_avg = pd.DataFrame()\n",
    "for file in pas_files:\n",
    "   \n",
    "    pas = pd.read_csv(os.path.join(pas_inf, file))\n",
    "    pas = pas.dropna()\n",
    "    \n",
    "    # get average of each columns\n",
    "    avg = pas.mean(axis=0)\n",
    "    avg = avg.to_frame().T\n",
    "    avg['file'] = file.replace('mlm_', '').replace('_full.csv', '')\n",
    "    all_avg = pd.concat([all_avg, avg], axis=0, ignore_index = True)\n",
    "    # drop nan\n",
    "   "
   ]
  },
  {
   "cell_type": "code",
   "execution_count": 10,
   "metadata": {},
   "outputs": [
    {
     "data": {
      "text/plain": [
       "(35, 7)"
      ]
     },
     "execution_count": 10,
     "metadata": {},
     "output_type": "execute_result"
    }
   ],
   "source": [
    "all_avg.shape"
   ]
  },
  {
   "cell_type": "code",
   "execution_count": 11,
   "metadata": {},
   "outputs": [
    {
     "data": {
      "text/html": [
       "<div>\n",
       "<style scoped>\n",
       "    .dataframe tbody tr th:only-of-type {\n",
       "        vertical-align: middle;\n",
       "    }\n",
       "\n",
       "    .dataframe tbody tr th {\n",
       "        vertical-align: top;\n",
       "    }\n",
       "\n",
       "    .dataframe thead th {\n",
       "        text-align: right;\n",
       "    }\n",
       "</style>\n",
       "<table border=\"1\" class=\"dataframe\">\n",
       "  <thead>\n",
       "    <tr style=\"text-align: right;\">\n",
       "      <th></th>\n",
       "      <th>cos_sim</th>\n",
       "      <th>cos_mo</th>\n",
       "      <th>ele_sub_neg</th>\n",
       "      <th>cos_dif</th>\n",
       "      <th>cos_mo_dif</th>\n",
       "      <th>ele_sub</th>\n",
       "      <th>file</th>\n",
       "    </tr>\n",
       "  </thead>\n",
       "  <tbody>\n",
       "    <tr>\n",
       "      <th>0</th>\n",
       "      <td>-0.006991</td>\n",
       "      <td>-0.005728</td>\n",
       "      <td>-1.022529</td>\n",
       "      <td>0.975287</td>\n",
       "      <td>0.978200</td>\n",
       "      <td>1.022529</td>\n",
       "      <td>abolish</td>\n",
       "    </tr>\n",
       "    <tr>\n",
       "      <th>1</th>\n",
       "      <td>-0.012353</td>\n",
       "      <td>-0.010508</td>\n",
       "      <td>-0.942612</td>\n",
       "      <td>0.973449</td>\n",
       "      <td>0.976715</td>\n",
       "      <td>0.942612</td>\n",
       "      <td>alter</td>\n",
       "    </tr>\n",
       "    <tr>\n",
       "      <th>2</th>\n",
       "      <td>-0.027731</td>\n",
       "      <td>-0.023953</td>\n",
       "      <td>-0.850819</td>\n",
       "      <td>0.964781</td>\n",
       "      <td>0.969429</td>\n",
       "      <td>0.850819</td>\n",
       "      <td>begin_1</td>\n",
       "    </tr>\n",
       "    <tr>\n",
       "      <th>3</th>\n",
       "      <td>-0.009171</td>\n",
       "      <td>-0.007692</td>\n",
       "      <td>-0.878912</td>\n",
       "      <td>0.976034</td>\n",
       "      <td>0.979272</td>\n",
       "      <td>0.878912</td>\n",
       "      <td>begin_2</td>\n",
       "    </tr>\n",
       "    <tr>\n",
       "      <th>4</th>\n",
       "      <td>-0.016837</td>\n",
       "      <td>-0.014419</td>\n",
       "      <td>-1.191545</td>\n",
       "      <td>0.978128</td>\n",
       "      <td>0.981188</td>\n",
       "      <td>1.191545</td>\n",
       "      <td>block</td>\n",
       "    </tr>\n",
       "  </tbody>\n",
       "</table>\n",
       "</div>"
      ],
      "text/plain": [
       "    cos_sim    cos_mo  ele_sub_neg   cos_dif  cos_mo_dif   ele_sub     file\n",
       "0 -0.006991 -0.005728    -1.022529  0.975287    0.978200  1.022529  abolish\n",
       "1 -0.012353 -0.010508    -0.942612  0.973449    0.976715  0.942612    alter\n",
       "2 -0.027731 -0.023953    -0.850819  0.964781    0.969429  0.850819  begin_1\n",
       "3 -0.009171 -0.007692    -0.878912  0.976034    0.979272  0.878912  begin_2\n",
       "4 -0.016837 -0.014419    -1.191545  0.978128    0.981188  1.191545    block"
      ]
     },
     "execution_count": 11,
     "metadata": {},
     "output_type": "execute_result"
    }
   ],
   "source": [
    "all_avg.head()"
   ]
  },
  {
   "cell_type": "code",
   "execution_count": 15,
   "metadata": {},
   "outputs": [
    {
     "data": {
      "image/png": "[encoded data removed]",
      "text/plain": [
       "<Figure size 1000x600 with 1 Axes>"
      ]
     },
     "metadata": {},
     "output_type": "display_data"
    }
   ],
   "source": [
    "# visualize 3 first columns of all_avg using scatter plot\n",
    "import matplotlib.pyplot as plt\n",
    "import seaborn as sns\n",
    "\n",
    "# using multiline plot\n",
    "plt.figure(figsize=(10, 6))\n",
    "plt.xlabel('Nhóm động từ')\n",
    "plt.ylabel('Độ tương đồng')\n",
    "sns.lineplot(data=all_avg, x='file', y='cos_sim', label='cos_sim')\n",
    "sns.lineplot(data=all_avg, x='file', y='cos_mo', label='cos_mo')\n",
    "sns.lineplot(data=all_avg, x='file', y='ele_sub_neg', label='ele_sub_neg')\n",
    "plt.xticks(rotation=90)\n",
    "plt.grid()\n",
    "plt.show()\n",
    "\n",
    "    "
   ]
  },
  {
   "cell_type": "code",
   "execution_count": null,
   "metadata": {},
   "outputs": [],
   "source": []
  }
 ],
 "metadata": {
  "kernelspec": {
   "display_name": "min_ds-env",
   "language": "python",
   "name": "python3"
  },
  "language_info": {
   "codemirror_mode": {
    "name": "ipython",
    "version": 3
   },
   "file_extension": ".py",
   "mimetype": "text/x-python",
   "name": "python",
   "nbconvert_exporter": "python",
   "pygments_lexer": "ipython3",
   "version": "3.8.8"
  }
 },
 "nbformat": 4,
 "nbformat_minor": 2
}
