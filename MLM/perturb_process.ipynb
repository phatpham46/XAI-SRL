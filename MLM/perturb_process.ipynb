{
 "cells": [
  {
   "cell_type": "markdown",
   "metadata": {},
   "source": [
    "### 1. Tạo pertured data và lưu giống data cũ (cal_metric.py)\n",
    "    1. Tạo ra câu pertured va convert json và ghép label (pertured_folder/masked_data_json)\n",
    "### 2. Lấy ra vector logit \n",
    "    1. convert interim -> txt \n",
    "    2. transform, prepare -> json \n",
    "    3. đưa json (masked data 0.1) vào model lấy logit, prediction -> cần tạo class để lấy cho cả origin data và masked data\n",
    "### 3. convert label gold theo từ thành label gold theo token\n",
    "### 4. Tính inf "
   ]
  },
  {
   "cell_type": "markdown",
   "metadata": {},
   "source": [
    "## Step 2"
   ]
  },
  {
   "cell_type": "code",
   "execution_count": null,
   "metadata": {},
   "outputs": [],
   "source": [
    "# 2.1 Done\n",
    "# convert csv to coNLL format and write to txt file\n",
    "!python ../data_transformations.py --transform_file '/mnt/c/Users/Phat Pham/Documents/THESIS/SRLPredictionEasel/SRL/transform_file_mlm.yml'\n",
    "# output file MLM/coNLL_txt"
   ]
  },
  {
   "cell_type": "code",
   "execution_count": null,
   "metadata": {},
   "outputs": [],
   "source": [
    "# 2.2 Done\n",
    "!python ../data_transformations.py --transform_file '/mnt/c/Users/Phat Pham/Documents/THESIS/SRLPredictionEasel/SRL/transform_file_conll.yml'\n",
    "# nhớ chỉnh lại đường dẫn trong file transform_file_conll.yml"
   ]
  },
  {
   "cell_type": "code",
   "execution_count": null,
   "metadata": {},
   "outputs": [],
   "source": [
    "# 2.2 Done\n",
    "# !python ../data_preparation.py --task_file tasks_file_SRL.yml --data_dir ../data/coNLL_tsv --max_seq_len 50\n",
    "\n",
    "!python ../data_preparation.py \\\n",
    "        --task_file \"/mnt/c/Users/Phat Pham/Documents/THESIS/SRLPredictionEasel/SRL/tasks_file_SRL.yml\" \\\n",
    "        --data_dir ../MLM/coNLL_tsv_json \\\n",
    "        --max_seq_len 85"
   ]
  },
  {
   "cell_type": "markdown",
   "metadata": {},
   "source": [
    "## Calculation influence, relevance and compentence score"
   ]
  },
  {
   "cell_type": "code",
   "execution_count": null,
   "metadata": {},
   "outputs": [],
   "source": [
    "\n",
    "!python metrics_calculation.py \\\n",
    "    --data_mask_dir './data_mlm/perturbed_data/avg_neg_cos/' \\\n",
    "    --data_origin_dir './data_mlm/process_folder/coNLL_tsv_json/ner_json/'  \\\n",
    "    --model_path '../output/multi_task_model_9_13050.pt' \\\n",
    "    --log_name \"comp_avg_neg_cos\" \n"
   ]
  },
  {
   "cell_type": "markdown",
   "metadata": {},
   "source": [
    "## calculate metrics for replace mask token"
   ]
  },
  {
   "cell_type": "code",
   "execution_count": null,
   "metadata": {},
   "outputs": [],
   "source": [
    "!python metrics_calculation.py \\\n",
    "    --data_mask_dir './data_mlm/process_folder/mlm_output/' \\\n",
    "    --data_origin_dir './data_mlm/process_folder/coNLL_tsv_json/ner_json/'  \\\n",
    "    --model_path '../output/multi_task_model_9_13050.pt' \\\n",
    "    --log_name \"comp_mask_token\" \\\n",
    "    --is_mask_token True"
   ]
  },
  {
   "cell_type": "markdown",
   "metadata": {},
   "source": [
    "## calculate metrics for delete mask token"
   ]
  },
  {
   "cell_type": "code",
   "execution_count": 35,
   "metadata": {},
   "outputs": [
    {
     "name": "stdout",
     "output_type": "stream",
     "text": [
      " 35%|███████████████▏                           | 23/65 [01:35<03:05,  4.42s/it]len padded_ids:  32 85\n",
      " 37%|███████████████▉                           | 24/65 [01:39<02:59,  4.39s/it]len padded_ids:  32 85\n",
      " 38%|████████████████▌                          | 25/65 [01:44<03:04,  4.61s/it]len padded_ids:  32 85\n",
      " 40%|█████████████████▏                         | 26/65 [01:48<02:52,  4.42s/it]len padded_ids:  32 85\n",
      " 42%|█████████████████▊                         | 27/65 [01:53<02:47,  4.40s/it]len padded_ids:  32 85\n",
      " 43%|██████████████████▌                        | 28/65 [01:57<02:47,  4.54s/it]len padded_ids:  32 85\n"
     ]
    }
   ],
   "source": [
    "!python metrics_calculation.py \\\n",
    "    --data_mask_dir './data_mlm/process_folder/mlm_output/' \\\n",
    "    --data_origin_dir './data_mlm/process_folder/coNLL_tsv_json/ner_json/'  \\\n",
    "    --model_path '../output/multi_task_model_9_13050.pt' \\\n",
    "    --log_name \"comp_del_mask_token\" \\\n",
    "    --del_mask_token True"
   ]
  },
  {
   "cell_type": "code",
   "execution_count": null,
   "metadata": {},
   "outputs": [],
   "source": []
  }
 ],
 "metadata": {
  "kernelspec": {
   "display_name": "min_ds-env",
   "language": "python",
   "name": "python3"
  },
  "language_info": {
   "codemirror_mode": {
    "name": "ipython",
    "version": 3
   },
   "file_extension": ".py",
   "mimetype": "text/x-python",
   "name": "python",
   "nbconvert_exporter": "python",
   "pygments_lexer": "ipython3",
   "version": "3.8.8"
  }
 },
 "nbformat": 4,
 "nbformat_minor": 2
}
