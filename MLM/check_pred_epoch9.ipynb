{
 "cells": [
  {
   "cell_type": "code",
   "execution_count": 1,
   "metadata": {},
   "outputs": [],
   "source": [
    "import pandas as pd"
   ]
  },
  {
   "cell_type": "code",
   "execution_count": 101,
   "metadata": {},
   "outputs": [],
   "source": [
    "# read tsv file\n",
    "df = pd.read_csv('/mnt/c/Users/Phat Pham/Documents/THESIS/SRLPredictionEasel/pred_mlm_test_predictions_mlm_4.tsv', sep='\\t')"
   ]
  },
  {
   "cell_type": "code",
   "execution_count": 102,
   "metadata": {},
   "outputs": [
    {
     "data": {
      "text/html": [
       "<div>\n",
       "<style scoped>\n",
       "    .dataframe tbody tr th:only-of-type {\n",
       "        vertical-align: middle;\n",
       "    }\n",
       "\n",
       "    .dataframe tbody tr th {\n",
       "        vertical-align: top;\n",
       "    }\n",
       "\n",
       "    .dataframe thead th {\n",
       "        text-align: right;\n",
       "    }\n",
       "</style>\n",
       "<table border=\"1\" class=\"dataframe\">\n",
       "  <thead>\n",
       "    <tr style=\"text-align: right;\">\n",
       "      <th></th>\n",
       "      <th>prediction_pos_tag_id</th>\n",
       "      <th>label_pos_tag_id</th>\n",
       "      <th>prediction_id</th>\n",
       "      <th>origin_id</th>\n",
       "    </tr>\n",
       "  </thead>\n",
       "  <tbody>\n",
       "    <tr>\n",
       "      <th>0</th>\n",
       "      <td>[-1 -1 -1 -1 -1 -1 -1 -1 -1 -1 -1 -1 -1 -1 -1 ...</td>\n",
       "      <td>[-1 -1 -1 -1 -1 -1 -1 -1 -1 -1 -1 -1 -1 -1 -1 ...</td>\n",
       "      <td>[  101   182 15012  1916 13736 13087   174  11...</td>\n",
       "      <td>[  101   182 15012  1916 13736 13087   174  11...</td>\n",
       "    </tr>\n",
       "    <tr>\n",
       "      <th>1</th>\n",
       "      <td>[-1 -1 -1 -1 -1 -1 -1 -1 -1 -1  2 -1 -1 -1 -1 ...</td>\n",
       "      <td>[-1 -1 -1 -1 -1 -1 -1 -1 -1 -1  2 -1 -1 -1 -1 ...</td>\n",
       "      <td>[  101  1780 10473  1475   118   120   118 141...</td>\n",
       "      <td>[  101  1780 10473  1475   118   120   118 141...</td>\n",
       "    </tr>\n",
       "    <tr>\n",
       "      <th>2</th>\n",
       "      <td>[-1 -1 -1 -1 -1 -1 -1 -1 -1 -1 -1 -1 -1 -1 -1 ...</td>\n",
       "      <td>[-1 -1 -1 -1 -1 -1 -1 -1 -1 -1 -1 -1 -1 -1 -1 ...</td>\n",
       "      <td>[  101   185 15342  7880  4649  6840  1104   1...</td>\n",
       "      <td>[  101   185 15342  7880  4649  6840  1104   1...</td>\n",
       "    </tr>\n",
       "    <tr>\n",
       "      <th>3</th>\n",
       "      <td>[-1 -1 -1 -1 -1 -1 -1  1 -1 -1 -1 -1 -1 -1 -1 ...</td>\n",
       "      <td>[-1 -1 -1 -1 -1 -1 -1  1 -1 -1 -1 -1 -1 -1 -1 ...</td>\n",
       "      <td>[  101  1191  1142  2462  1104  1476 13736 130...</td>\n",
       "      <td>[  101  1191  1142  2462  1104  1476 13736   1...</td>\n",
       "    </tr>\n",
       "    <tr>\n",
       "      <th>4</th>\n",
       "      <td>[-1 -1 -1 -1 -1 -1 -1 -1 -1 -1 -1 -1 -1 -1 -1 ...</td>\n",
       "      <td>[-1 -1 -1 -1 -1 -1 -1 -1 -1 -1 -1 -1 -1 -1 -1 ...</td>\n",
       "      <td>[  101  1748  4982   117  5190  4789  1107 192...</td>\n",
       "      <td>[  101  1748  4982   117  5190  4789  1107 192...</td>\n",
       "    </tr>\n",
       "  </tbody>\n",
       "</table>\n",
       "</div>"
      ],
      "text/plain": [
       "                               prediction_pos_tag_id  \\\n",
       "0  [-1 -1 -1 -1 -1 -1 -1 -1 -1 -1 -1 -1 -1 -1 -1 ...   \n",
       "1  [-1 -1 -1 -1 -1 -1 -1 -1 -1 -1  2 -1 -1 -1 -1 ...   \n",
       "2  [-1 -1 -1 -1 -1 -1 -1 -1 -1 -1 -1 -1 -1 -1 -1 ...   \n",
       "3  [-1 -1 -1 -1 -1 -1 -1  1 -1 -1 -1 -1 -1 -1 -1 ...   \n",
       "4  [-1 -1 -1 -1 -1 -1 -1 -1 -1 -1 -1 -1 -1 -1 -1 ...   \n",
       "\n",
       "                                    label_pos_tag_id  \\\n",
       "0  [-1 -1 -1 -1 -1 -1 -1 -1 -1 -1 -1 -1 -1 -1 -1 ...   \n",
       "1  [-1 -1 -1 -1 -1 -1 -1 -1 -1 -1  2 -1 -1 -1 -1 ...   \n",
       "2  [-1 -1 -1 -1 -1 -1 -1 -1 -1 -1 -1 -1 -1 -1 -1 ...   \n",
       "3  [-1 -1 -1 -1 -1 -1 -1  1 -1 -1 -1 -1 -1 -1 -1 ...   \n",
       "4  [-1 -1 -1 -1 -1 -1 -1 -1 -1 -1 -1 -1 -1 -1 -1 ...   \n",
       "\n",
       "                                       prediction_id  \\\n",
       "0  [  101   182 15012  1916 13736 13087   174  11...   \n",
       "1  [  101  1780 10473  1475   118   120   118 141...   \n",
       "2  [  101   185 15342  7880  4649  6840  1104   1...   \n",
       "3  [  101  1191  1142  2462  1104  1476 13736 130...   \n",
       "4  [  101  1748  4982   117  5190  4789  1107 192...   \n",
       "\n",
       "                                           origin_id  \n",
       "0  [  101   182 15012  1916 13736 13087   174  11...  \n",
       "1  [  101  1780 10473  1475   118   120   118 141...  \n",
       "2  [  101   185 15342  7880  4649  6840  1104   1...  \n",
       "3  [  101  1191  1142  2462  1104  1476 13736   1...  \n",
       "4  [  101  1748  4982   117  5190  4789  1107 192...  "
      ]
     },
     "execution_count": 102,
     "metadata": {},
     "output_type": "execute_result"
    }
   ],
   "source": [
    "df.head()"
   ]
  },
  {
   "cell_type": "code",
   "execution_count": 103,
   "metadata": {},
   "outputs": [
    {
     "name": "stdout",
     "output_type": "stream",
     "text": [
      "<class 'str'>\n"
     ]
    }
   ],
   "source": [
    "print(type(df['origin_id'][0]))"
   ]
  },
  {
   "cell_type": "code",
   "execution_count": 104,
   "metadata": {},
   "outputs": [
    {
     "data": {
      "text/plain": [
       "Index(['prediction_pos_tag_id', 'label_pos_tag_id', 'prediction_id',\n",
       "       'origin_id'],\n",
       "      dtype='object')"
      ]
     },
     "execution_count": 104,
     "metadata": {},
     "output_type": "execute_result"
    }
   ],
   "source": [
    "df.columns"
   ]
  },
  {
   "cell_type": "code",
   "execution_count": 105,
   "metadata": {},
   "outputs": [],
   "source": [
    "import pandas as pd\n",
    "\n",
    "# Define the function to convert the string representation to a list of integers\n",
    "def convert_string_to_integers(data_string):\n",
    "    # Remove the square brackets and split the string by spaces\n",
    "    numbers = data_string.strip('[]').split()\n",
    "    # Convert each string element to an integer\n",
    "    numbers = [int(num) for num in numbers]\n",
    "    return numbers\n",
    "\n",
    "# Apply the function to the column\n",
    "df['prediction_pos_tag_id'] = df['prediction_pos_tag_id'].apply(convert_string_to_integers)\n",
    "df['label_pos_tag_id'] = df['label_pos_tag_id'].apply(convert_string_to_integers)\n",
    "df['prediction_id'] = df['prediction_id'].apply(convert_string_to_integers)\n",
    "df['origin_id'] = df['origin_id'].apply(convert_string_to_integers)\n",
    "\n"
   ]
  },
  {
   "cell_type": "code",
   "execution_count": 106,
   "metadata": {},
   "outputs": [
    {
     "data": {
      "text/html": [
       "<div>\n",
       "<style scoped>\n",
       "    .dataframe tbody tr th:only-of-type {\n",
       "        vertical-align: middle;\n",
       "    }\n",
       "\n",
       "    .dataframe tbody tr th {\n",
       "        vertical-align: top;\n",
       "    }\n",
       "\n",
       "    .dataframe thead th {\n",
       "        text-align: right;\n",
       "    }\n",
       "</style>\n",
       "<table border=\"1\" class=\"dataframe\">\n",
       "  <thead>\n",
       "    <tr style=\"text-align: right;\">\n",
       "      <th></th>\n",
       "      <th>prediction_pos_tag_id</th>\n",
       "      <th>label_pos_tag_id</th>\n",
       "      <th>prediction_id</th>\n",
       "      <th>origin_id</th>\n",
       "    </tr>\n",
       "  </thead>\n",
       "  <tbody>\n",
       "    <tr>\n",
       "      <th>0</th>\n",
       "      <td>[-1, -1, -1, -1, -1, -1, -1, -1, -1, -1, -1, -...</td>\n",
       "      <td>[-1, -1, -1, -1, -1, -1, -1, -1, -1, -1, -1, -...</td>\n",
       "      <td>[101, 182, 15012, 1916, 13736, 13087, 174, 116...</td>\n",
       "      <td>[101, 182, 15012, 1916, 13736, 13087, 174, 116...</td>\n",
       "    </tr>\n",
       "    <tr>\n",
       "      <th>1</th>\n",
       "      <td>[-1, -1, -1, -1, -1, -1, -1, -1, -1, -1, 2, -1...</td>\n",
       "      <td>[-1, -1, -1, -1, -1, -1, -1, -1, -1, -1, 2, -1...</td>\n",
       "      <td>[101, 1780, 10473, 1475, 118, 120, 118, 14105,...</td>\n",
       "      <td>[101, 1780, 10473, 1475, 118, 120, 118, 14105,...</td>\n",
       "    </tr>\n",
       "    <tr>\n",
       "      <th>2</th>\n",
       "      <td>[-1, -1, -1, -1, -1, -1, -1, -1, -1, -1, -1, -...</td>\n",
       "      <td>[-1, -1, -1, -1, -1, -1, -1, -1, -1, -1, -1, -...</td>\n",
       "      <td>[101, 185, 15342, 7880, 4649, 6840, 1104, 185,...</td>\n",
       "      <td>[101, 185, 15342, 7880, 4649, 6840, 1104, 185,...</td>\n",
       "    </tr>\n",
       "    <tr>\n",
       "      <th>3</th>\n",
       "      <td>[-1, -1, -1, -1, -1, -1, -1, 1, -1, -1, -1, -1...</td>\n",
       "      <td>[-1, -1, -1, -1, -1, -1, -1, 1, -1, -1, -1, -1...</td>\n",
       "      <td>[101, 1191, 1142, 2462, 1104, 1476, 13736, 130...</td>\n",
       "      <td>[101, 1191, 1142, 2462, 1104, 1476, 13736, 103...</td>\n",
       "    </tr>\n",
       "    <tr>\n",
       "      <th>4</th>\n",
       "      <td>[-1, -1, -1, -1, -1, -1, -1, -1, -1, -1, -1, -...</td>\n",
       "      <td>[-1, -1, -1, -1, -1, -1, -1, -1, -1, -1, -1, -...</td>\n",
       "      <td>[101, 1748, 4982, 117, 5190, 4789, 1107, 19255...</td>\n",
       "      <td>[101, 1748, 4982, 117, 5190, 4789, 1107, 19255...</td>\n",
       "    </tr>\n",
       "  </tbody>\n",
       "</table>\n",
       "</div>"
      ],
      "text/plain": [
       "                               prediction_pos_tag_id  \\\n",
       "0  [-1, -1, -1, -1, -1, -1, -1, -1, -1, -1, -1, -...   \n",
       "1  [-1, -1, -1, -1, -1, -1, -1, -1, -1, -1, 2, -1...   \n",
       "2  [-1, -1, -1, -1, -1, -1, -1, -1, -1, -1, -1, -...   \n",
       "3  [-1, -1, -1, -1, -1, -1, -1, 1, -1, -1, -1, -1...   \n",
       "4  [-1, -1, -1, -1, -1, -1, -1, -1, -1, -1, -1, -...   \n",
       "\n",
       "                                    label_pos_tag_id  \\\n",
       "0  [-1, -1, -1, -1, -1, -1, -1, -1, -1, -1, -1, -...   \n",
       "1  [-1, -1, -1, -1, -1, -1, -1, -1, -1, -1, 2, -1...   \n",
       "2  [-1, -1, -1, -1, -1, -1, -1, -1, -1, -1, -1, -...   \n",
       "3  [-1, -1, -1, -1, -1, -1, -1, 1, -1, -1, -1, -1...   \n",
       "4  [-1, -1, -1, -1, -1, -1, -1, -1, -1, -1, -1, -...   \n",
       "\n",
       "                                       prediction_id  \\\n",
       "0  [101, 182, 15012, 1916, 13736, 13087, 174, 116...   \n",
       "1  [101, 1780, 10473, 1475, 118, 120, 118, 14105,...   \n",
       "2  [101, 185, 15342, 7880, 4649, 6840, 1104, 185,...   \n",
       "3  [101, 1191, 1142, 2462, 1104, 1476, 13736, 130...   \n",
       "4  [101, 1748, 4982, 117, 5190, 4789, 1107, 19255...   \n",
       "\n",
       "                                           origin_id  \n",
       "0  [101, 182, 15012, 1916, 13736, 13087, 174, 116...  \n",
       "1  [101, 1780, 10473, 1475, 118, 120, 118, 14105,...  \n",
       "2  [101, 185, 15342, 7880, 4649, 6840, 1104, 185,...  \n",
       "3  [101, 1191, 1142, 2462, 1104, 1476, 13736, 103...  \n",
       "4  [101, 1748, 4982, 117, 5190, 4789, 1107, 19255...  "
      ]
     },
     "execution_count": 106,
     "metadata": {},
     "output_type": "execute_result"
    }
   ],
   "source": [
    "df.head()"
   ]
  },
  {
   "cell_type": "code",
   "execution_count": 107,
   "metadata": {},
   "outputs": [],
   "source": [
    "# get masked index of origin_id where the value is 103\n",
    "df['mask_index'] = df['origin_id'].apply(lambda x: [i for i, j in enumerate(x) if j == 103])"
   ]
  },
  {
   "cell_type": "code",
   "execution_count": 108,
   "metadata": {},
   "outputs": [
    {
     "name": "stdout",
     "output_type": "stream",
     "text": [
      "24263\n"
     ]
    }
   ],
   "source": [
    "# count all values in the list of masked index\n",
    "count = 0\n",
    "for i in df['mask_index']:\n",
    "    count += len(i)\n",
    "print(count)"
   ]
  },
  {
   "cell_type": "code",
   "execution_count": 113,
   "metadata": {},
   "outputs": [],
   "source": [
    "# compare the value at masked index of prediction_id and label_pos_tag_id\n",
    "# create a new bool column to store the result, if the value at masked index of prediction_id and label_pos_tag_id are the same, then True, otherwise False\n",
    "df['prediction_at_mask_index'] = df.apply(lambda row: [row['prediction_pos_tag_id'][i] for i in row['mask_index']], axis=1)\n",
    "df['label_at_mask_index'] = df.apply(lambda row: [row['label_pos_tag_id'][i] for i in row['mask_index']], axis=1)\n",
    "df['correct'] = df.apply(lambda row: [row['prediction_pos_tag_id'][i] == row['label_pos_tag_id'][i] for i in row['mask_index']], axis=1)\n",
    "\n"
   ]
  },
  {
   "cell_type": "code",
   "execution_count": 122,
   "metadata": {},
   "outputs": [
    {
     "data": {
      "text/html": [
       "<div>\n",
       "<style scoped>\n",
       "    .dataframe tbody tr th:only-of-type {\n",
       "        vertical-align: middle;\n",
       "    }\n",
       "\n",
       "    .dataframe tbody tr th {\n",
       "        vertical-align: top;\n",
       "    }\n",
       "\n",
       "    .dataframe thead th {\n",
       "        text-align: right;\n",
       "    }\n",
       "</style>\n",
       "<table border=\"1\" class=\"dataframe\">\n",
       "  <thead>\n",
       "    <tr style=\"text-align: right;\">\n",
       "      <th></th>\n",
       "      <th>prediction_pos_tag_id</th>\n",
       "      <th>label_pos_tag_id</th>\n",
       "      <th>prediction_id</th>\n",
       "      <th>origin_id</th>\n",
       "      <th>mask_index</th>\n",
       "      <th>prediction_at_mask_index</th>\n",
       "      <th>label_at_mask_index</th>\n",
       "      <th>correct</th>\n",
       "    </tr>\n",
       "  </thead>\n",
       "  <tbody>\n",
       "    <tr>\n",
       "      <th>16000</th>\n",
       "      <td>[-1, -1, -1, -1, -1, -1, -1, -1, -1, -1, -1, -...</td>\n",
       "      <td>[-1, -1, -1, -1, -1, -1, -1, -1, -1, -1, -1, -...</td>\n",
       "      <td>[101, 1103, 11267, 3476, 1104, 1296, 1104, 110...</td>\n",
       "      <td>[101, 1103, 11267, 3476, 1104, 1296, 1104, 110...</td>\n",
       "      <td>[32]</td>\n",
       "      <td>[4]</td>\n",
       "      <td>[2]</td>\n",
       "      <td>[False]</td>\n",
       "    </tr>\n",
       "    <tr>\n",
       "      <th>16001</th>\n",
       "      <td>[-1, -1, -1, -1, -1, -1, -1, -1, -1, -1, -1, -...</td>\n",
       "      <td>[-1, -1, -1, -1, -1, -1, -1, -1, -1, -1, -1, -...</td>\n",
       "      <td>[101, 1106, 4959, 1293, 2496, 12416, 5067, 122...</td>\n",
       "      <td>[101, 1106, 4959, 1293, 2496, 12416, 5067, 122...</td>\n",
       "      <td>[47]</td>\n",
       "      <td>[2]</td>\n",
       "      <td>[2]</td>\n",
       "      <td>[True]</td>\n",
       "    </tr>\n",
       "    <tr>\n",
       "      <th>16002</th>\n",
       "      <td>[-1, -1, -1, -1, -1, -1, -1, -1, -1, -1, -1, -...</td>\n",
       "      <td>[-1, -1, -1, -1, -1, -1, -1, -1, -1, -1, -1, -...</td>\n",
       "      <td>[101, 3652, 1132, 1682, 1106, 1329, 25498, 637...</td>\n",
       "      <td>[101, 3652, 1132, 1682, 1106, 1329, 25498, 637...</td>\n",
       "      <td>[19]</td>\n",
       "      <td>[3]</td>\n",
       "      <td>[3]</td>\n",
       "      <td>[True]</td>\n",
       "    </tr>\n",
       "    <tr>\n",
       "      <th>16003</th>\n",
       "      <td>[-1, -1, -1, -1, -1, -1, -1, -1, -1, -1, -1, -...</td>\n",
       "      <td>[-1, -1, -1, -1, -1, -1, -1, -1, -1, -1, -1, -...</td>\n",
       "      <td>[101, 1292, 2686, 1730, 1366, 1106, 17581, 111...</td>\n",
       "      <td>[101, 1292, 2686, 1730, 1366, 1106, 17581, 111...</td>\n",
       "      <td>[15]</td>\n",
       "      <td>[1]</td>\n",
       "      <td>[1]</td>\n",
       "      <td>[True]</td>\n",
       "    </tr>\n",
       "    <tr>\n",
       "      <th>16004</th>\n",
       "      <td>[-1, -1, -1, -1, -1, -1, -1, -1, -1, -1, -1, -...</td>\n",
       "      <td>[-1, -1, -1, -1, -1, -1, -1, -1, -1, -1, -1, -...</td>\n",
       "      <td>[101, 1106, 9509, 176, 2050, 11970, 7865, 117,...</td>\n",
       "      <td>[101, 1106, 9509, 176, 2050, 11970, 7865, 117,...</td>\n",
       "      <td>[12]</td>\n",
       "      <td>[1]</td>\n",
       "      <td>[1]</td>\n",
       "      <td>[True]</td>\n",
       "    </tr>\n",
       "    <tr>\n",
       "      <th>...</th>\n",
       "      <td>...</td>\n",
       "      <td>...</td>\n",
       "      <td>...</td>\n",
       "      <td>...</td>\n",
       "      <td>...</td>\n",
       "      <td>...</td>\n",
       "      <td>...</td>\n",
       "      <td>...</td>\n",
       "    </tr>\n",
       "    <tr>\n",
       "      <th>16731</th>\n",
       "      <td>[-1, -1, -1, -1, -1, -1, -1, -1, -1, -1, -1, -...</td>\n",
       "      <td>[-1, -1, -1, -1, -1, -1, -1, -1, -1, -1, -1, -...</td>\n",
       "      <td>[101, 1412, 2166, 2527, 1215, 1107, 191, 2875,...</td>\n",
       "      <td>[101, 1412, 2166, 2527, 1215, 1107, 191, 2875,...</td>\n",
       "      <td>[29]</td>\n",
       "      <td>[4]</td>\n",
       "      <td>[4]</td>\n",
       "      <td>[True]</td>\n",
       "    </tr>\n",
       "    <tr>\n",
       "      <th>16732</th>\n",
       "      <td>[-1, -1, -1, -1, -1, -1, -1, -1, -1, -1, -1, -...</td>\n",
       "      <td>[-1, -1, -1, -1, -1, -1, -1, -1, -1, -1, -1, -...</td>\n",
       "      <td>[101, 1884, 4487, 2316, 11916, 5266, 1114, 185...</td>\n",
       "      <td>[101, 1884, 4487, 2316, 11916, 5266, 1114, 185...</td>\n",
       "      <td>[37, 38, 39]</td>\n",
       "      <td>[2, 2, 2]</td>\n",
       "      <td>[2, 2, 2]</td>\n",
       "      <td>[True, True, True]</td>\n",
       "    </tr>\n",
       "    <tr>\n",
       "      <th>16733</th>\n",
       "      <td>[-1, -1, -1, -1, -1, -1, -1, -1, -1, -1, -1, -...</td>\n",
       "      <td>[-1, -1, -1, -1, -1, -1, -1, -1, -1, -1, -1, -...</td>\n",
       "      <td>[101, 1678, 1487, 1292, 2233, 5996, 1115, 1103...</td>\n",
       "      <td>[101, 1678, 1487, 1292, 2233, 5996, 1115, 1103...</td>\n",
       "      <td>[41]</td>\n",
       "      <td>[1]</td>\n",
       "      <td>[1]</td>\n",
       "      <td>[True]</td>\n",
       "    </tr>\n",
       "    <tr>\n",
       "      <th>16734</th>\n",
       "      <td>[-1, -1, -1, 4, -1, -1, -1, -1, -1, -1, -1, -1...</td>\n",
       "      <td>[-1, -1, -1, 4, -1, -1, -1, -1, -1, -1, -1, -1...</td>\n",
       "      <td>[101, 1142, 117, 1649, 117, 1209, 19396, 1154,...</td>\n",
       "      <td>[101, 1142, 117, 103, 117, 1209, 19396, 1154, ...</td>\n",
       "      <td>[3]</td>\n",
       "      <td>[4]</td>\n",
       "      <td>[4]</td>\n",
       "      <td>[True]</td>\n",
       "    </tr>\n",
       "    <tr>\n",
       "      <th>16735</th>\n",
       "      <td>[-1, -1, -1, -1, -1, -1, -1, -1, -1, -1, -1, -...</td>\n",
       "      <td>[-1, -1, -1, -1, -1, -1, -1, -1, -1, -1, -1, -...</td>\n",
       "      <td>[101, 1126, 2509, 8310, 1114, 1103, 22090, 948...</td>\n",
       "      <td>[101, 1126, 2509, 8310, 1114, 1103, 22090, 948...</td>\n",
       "      <td>[46]</td>\n",
       "      <td>[-1]</td>\n",
       "      <td>[2]</td>\n",
       "      <td>[False]</td>\n",
       "    </tr>\n",
       "  </tbody>\n",
       "</table>\n",
       "<p>736 rows × 8 columns</p>\n",
       "</div>"
      ],
      "text/plain": [
       "                                   prediction_pos_tag_id  \\\n",
       "16000  [-1, -1, -1, -1, -1, -1, -1, -1, -1, -1, -1, -...   \n",
       "16001  [-1, -1, -1, -1, -1, -1, -1, -1, -1, -1, -1, -...   \n",
       "16002  [-1, -1, -1, -1, -1, -1, -1, -1, -1, -1, -1, -...   \n",
       "16003  [-1, -1, -1, -1, -1, -1, -1, -1, -1, -1, -1, -...   \n",
       "16004  [-1, -1, -1, -1, -1, -1, -1, -1, -1, -1, -1, -...   \n",
       "...                                                  ...   \n",
       "16731  [-1, -1, -1, -1, -1, -1, -1, -1, -1, -1, -1, -...   \n",
       "16732  [-1, -1, -1, -1, -1, -1, -1, -1, -1, -1, -1, -...   \n",
       "16733  [-1, -1, -1, -1, -1, -1, -1, -1, -1, -1, -1, -...   \n",
       "16734  [-1, -1, -1, 4, -1, -1, -1, -1, -1, -1, -1, -1...   \n",
       "16735  [-1, -1, -1, -1, -1, -1, -1, -1, -1, -1, -1, -...   \n",
       "\n",
       "                                        label_pos_tag_id  \\\n",
       "16000  [-1, -1, -1, -1, -1, -1, -1, -1, -1, -1, -1, -...   \n",
       "16001  [-1, -1, -1, -1, -1, -1, -1, -1, -1, -1, -1, -...   \n",
       "16002  [-1, -1, -1, -1, -1, -1, -1, -1, -1, -1, -1, -...   \n",
       "16003  [-1, -1, -1, -1, -1, -1, -1, -1, -1, -1, -1, -...   \n",
       "16004  [-1, -1, -1, -1, -1, -1, -1, -1, -1, -1, -1, -...   \n",
       "...                                                  ...   \n",
       "16731  [-1, -1, -1, -1, -1, -1, -1, -1, -1, -1, -1, -...   \n",
       "16732  [-1, -1, -1, -1, -1, -1, -1, -1, -1, -1, -1, -...   \n",
       "16733  [-1, -1, -1, -1, -1, -1, -1, -1, -1, -1, -1, -...   \n",
       "16734  [-1, -1, -1, 4, -1, -1, -1, -1, -1, -1, -1, -1...   \n",
       "16735  [-1, -1, -1, -1, -1, -1, -1, -1, -1, -1, -1, -...   \n",
       "\n",
       "                                           prediction_id  \\\n",
       "16000  [101, 1103, 11267, 3476, 1104, 1296, 1104, 110...   \n",
       "16001  [101, 1106, 4959, 1293, 2496, 12416, 5067, 122...   \n",
       "16002  [101, 3652, 1132, 1682, 1106, 1329, 25498, 637...   \n",
       "16003  [101, 1292, 2686, 1730, 1366, 1106, 17581, 111...   \n",
       "16004  [101, 1106, 9509, 176, 2050, 11970, 7865, 117,...   \n",
       "...                                                  ...   \n",
       "16731  [101, 1412, 2166, 2527, 1215, 1107, 191, 2875,...   \n",
       "16732  [101, 1884, 4487, 2316, 11916, 5266, 1114, 185...   \n",
       "16733  [101, 1678, 1487, 1292, 2233, 5996, 1115, 1103...   \n",
       "16734  [101, 1142, 117, 1649, 117, 1209, 19396, 1154,...   \n",
       "16735  [101, 1126, 2509, 8310, 1114, 1103, 22090, 948...   \n",
       "\n",
       "                                               origin_id    mask_index  \\\n",
       "16000  [101, 1103, 11267, 3476, 1104, 1296, 1104, 110...          [32]   \n",
       "16001  [101, 1106, 4959, 1293, 2496, 12416, 5067, 122...          [47]   \n",
       "16002  [101, 3652, 1132, 1682, 1106, 1329, 25498, 637...          [19]   \n",
       "16003  [101, 1292, 2686, 1730, 1366, 1106, 17581, 111...          [15]   \n",
       "16004  [101, 1106, 9509, 176, 2050, 11970, 7865, 117,...          [12]   \n",
       "...                                                  ...           ...   \n",
       "16731  [101, 1412, 2166, 2527, 1215, 1107, 191, 2875,...          [29]   \n",
       "16732  [101, 1884, 4487, 2316, 11916, 5266, 1114, 185...  [37, 38, 39]   \n",
       "16733  [101, 1678, 1487, 1292, 2233, 5996, 1115, 1103...          [41]   \n",
       "16734  [101, 1142, 117, 103, 117, 1209, 19396, 1154, ...           [3]   \n",
       "16735  [101, 1126, 2509, 8310, 1114, 1103, 22090, 948...          [46]   \n",
       "\n",
       "      prediction_at_mask_index label_at_mask_index             correct  \n",
       "16000                      [4]                 [2]             [False]  \n",
       "16001                      [2]                 [2]              [True]  \n",
       "16002                      [3]                 [3]              [True]  \n",
       "16003                      [1]                 [1]              [True]  \n",
       "16004                      [1]                 [1]              [True]  \n",
       "...                        ...                 ...                 ...  \n",
       "16731                      [4]                 [4]              [True]  \n",
       "16732                [2, 2, 2]           [2, 2, 2]  [True, True, True]  \n",
       "16733                      [1]                 [1]              [True]  \n",
       "16734                      [4]                 [4]              [True]  \n",
       "16735                     [-1]                 [2]             [False]  \n",
       "\n",
       "[736 rows x 8 columns]"
      ]
     },
     "execution_count": 122,
     "metadata": {},
     "output_type": "execute_result"
    }
   ],
   "source": [
    "df[16000:]"
   ]
  },
  {
   "cell_type": "code",
   "execution_count": 120,
   "metadata": {},
   "outputs": [
    {
     "name": "stdout",
     "output_type": "stream",
     "text": [
      "[True]                                          10407\n",
      "[False]                                          2343\n",
      "[True, True]                                      820\n",
      "[False, False, False]                             746\n",
      "[False, False]                                    590\n",
      "                                                ...  \n",
      "[True, True, False, False, True]                    1\n",
      "[True, False, False, False, True]                   1\n",
      "[False, True, False, False, False, True]            1\n",
      "[True, True, True, True, True, False, False]        1\n",
      "[True, True, False, True]                           1\n",
      "Name: correct, Length: 65, dtype: int64\n"
     ]
    }
   ],
   "source": [
    "print(df['correct'].value_counts())"
   ]
  },
  {
   "cell_type": "code",
   "execution_count": 116,
   "metadata": {},
   "outputs": [
    {
     "name": "stdout",
     "output_type": "stream",
     "text": [
      "14574\n"
     ]
    }
   ],
   "source": [
    "# count all values in correct column = true\n",
    "print(df['correct'].apply(lambda x: sum(x)).sum())"
   ]
  },
  {
   "cell_type": "code",
   "execution_count": 117,
   "metadata": {},
   "outputs": [
    {
     "name": "stdout",
     "output_type": "stream",
     "text": [
      "0.8708173996175909\n"
     ]
    }
   ],
   "source": [
    "print(df['correct'].apply(lambda x: sum(x)).sum()/len(df['correct'].apply(lambda x: sum(x))))"
   ]
  },
  {
   "cell_type": "code",
   "execution_count": 118,
   "metadata": {},
   "outputs": [
    {
     "name": "stdout",
     "output_type": "stream",
     "text": [
      "9689\n"
     ]
    }
   ],
   "source": [
    "# count all values in correct column = false\n",
    "print(df['correct'].apply(lambda x: len(x) - sum(x)).sum())"
   ]
  }
 ],
 "metadata": {
  "kernelspec": {
   "display_name": "min_ds-env",
   "language": "python",
   "name": "python3"
  },
  "language_info": {
   "codemirror_mode": {
    "name": "ipython",
    "version": 3
   },
   "file_extension": ".py",
   "mimetype": "text/x-python",
   "name": "python",
   "nbconvert_exporter": "python",
   "pygments_lexer": "ipython3",
   "version": "3.8.8"
  }
 },
 "nbformat": 4,
 "nbformat_minor": 2
}
