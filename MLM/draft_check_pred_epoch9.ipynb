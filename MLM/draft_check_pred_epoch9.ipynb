{
 "cells": [
  {
   "cell_type": "code",
   "execution_count": 57,
   "metadata": {},
   "outputs": [],
   "source": [
    "import pandas as pd"
   ]
  },
  {
   "cell_type": "code",
   "execution_count": 64,
   "metadata": {},
   "outputs": [],
   "source": [
    "# read tsv file\n",
    "df = pd.read_csv('/mnt/c/Users/Phat Pham/Documents/THESIS/SRLPredictionEasel/MLM/pred_mlm_test_predictions_mlm_4_epoch10.tsv', sep='\\t')"
   ]
  },
  {
   "cell_type": "code",
   "execution_count": 65,
   "metadata": {},
   "outputs": [
    {
     "data": {
      "text/html": [
       "<div>\n",
       "<style scoped>\n",
       "    .dataframe tbody tr th:only-of-type {\n",
       "        vertical-align: middle;\n",
       "    }\n",
       "\n",
       "    .dataframe tbody tr th {\n",
       "        vertical-align: top;\n",
       "    }\n",
       "\n",
       "    .dataframe thead th {\n",
       "        text-align: right;\n",
       "    }\n",
       "</style>\n",
       "<table border=\"1\" class=\"dataframe\">\n",
       "  <thead>\n",
       "    <tr style=\"text-align: right;\">\n",
       "      <th></th>\n",
       "      <th>prediction_pos_tag_id</th>\n",
       "      <th>label_pos_tag_id</th>\n",
       "      <th>prediction_id</th>\n",
       "      <th>origin_id</th>\n",
       "      <th>mask_id</th>\n",
       "    </tr>\n",
       "  </thead>\n",
       "  <tbody>\n",
       "    <tr>\n",
       "      <th>0</th>\n",
       "      <td>[-1 -1 -1 -1 -1 -1 -1 -1 -1 -1 -1 -1 -1 -1 -1 ...</td>\n",
       "      <td>[-1 -1 -1 -1 -1 -1 -1 -1 -1 -1 -1 -1 -1 -1 -1 ...</td>\n",
       "      <td>[  101  4252  4199  1796  1142  2060  2079  11...</td>\n",
       "      <td>[  101  4252  4199  1796  1142  2060  2079  11...</td>\n",
       "      <td>[  101  4252  4199  1796  1142  2060  2079  11...</td>\n",
       "    </tr>\n",
       "    <tr>\n",
       "      <th>1</th>\n",
       "      <td>[-1 -1 -1 -1 -1 -1 -1 -1 -1 -1 -1 -1 -1 -1 -1 ...</td>\n",
       "      <td>[-1 -1 -1 -1 -1 -1 -1 -1 -1 -1 -1 -1 -1 -1 -1 ...</td>\n",
       "      <td>[  101 23609   119   122  1110  1146  1874 138...</td>\n",
       "      <td>[  101 23609   119   122  1110  1146  1874 138...</td>\n",
       "      <td>[  101 23609   119   122  1110  1146  1874 138...</td>\n",
       "    </tr>\n",
       "    <tr>\n",
       "      <th>2</th>\n",
       "      <td>[-1 -1 -1 -1 -1 -1 -1 -1 -1 -1 -1 -1 -1 -1 -1 ...</td>\n",
       "      <td>[-1 -1 -1 -1 -1 -1 -1 -1 -1 -1 -1 -1 -1 -1 -1 ...</td>\n",
       "      <td>[  101  1195  1437  1115  1103  3227   118   1...</td>\n",
       "      <td>[  101  1195  1437  1115  1103  3227   118   1...</td>\n",
       "      <td>[  101  1195  1437  1115  1103  3227   118   1...</td>\n",
       "    </tr>\n",
       "    <tr>\n",
       "      <th>3</th>\n",
       "      <td>[-1 -1 -1 -1 -1 -1 -1 -1 -1 -1 -1 -1 -1 -1 -1 ...</td>\n",
       "      <td>[-1 -1 -1 -1 -1 -1 -1 -1 -1 -1 -1 -1 -1 -1 -1 ...</td>\n",
       "      <td>[  101  1103  8310  1115  1103   174  5822  41...</td>\n",
       "      <td>[  101  1103  8310  1115  1103   174  5822  41...</td>\n",
       "      <td>[  101  1103  8310  1115  1103   174  5822  41...</td>\n",
       "    </tr>\n",
       "    <tr>\n",
       "      <th>4</th>\n",
       "      <td>[-1 -1 -1 -1 -1 -1 -1 -1 -1 -1 -1 -1 -1 -1 -1 ...</td>\n",
       "      <td>[-1 -1 -1 -1 -1 -1 -1  2  2 -1 -1 -1 -1 -1 -1 ...</td>\n",
       "      <td>[  101  1103  4592  1110  4379  1106  1129  12...</td>\n",
       "      <td>[  101  1103  4592  1110  4379  1106  1129   1...</td>\n",
       "      <td>[  101  1103  4592  1110  4379  1106  1129   1...</td>\n",
       "    </tr>\n",
       "  </tbody>\n",
       "</table>\n",
       "</div>"
      ],
      "text/plain": [
       "                               prediction_pos_tag_id  \\\n",
       "0  [-1 -1 -1 -1 -1 -1 -1 -1 -1 -1 -1 -1 -1 -1 -1 ...   \n",
       "1  [-1 -1 -1 -1 -1 -1 -1 -1 -1 -1 -1 -1 -1 -1 -1 ...   \n",
       "2  [-1 -1 -1 -1 -1 -1 -1 -1 -1 -1 -1 -1 -1 -1 -1 ...   \n",
       "3  [-1 -1 -1 -1 -1 -1 -1 -1 -1 -1 -1 -1 -1 -1 -1 ...   \n",
       "4  [-1 -1 -1 -1 -1 -1 -1 -1 -1 -1 -1 -1 -1 -1 -1 ...   \n",
       "\n",
       "                                    label_pos_tag_id  \\\n",
       "0  [-1 -1 -1 -1 -1 -1 -1 -1 -1 -1 -1 -1 -1 -1 -1 ...   \n",
       "1  [-1 -1 -1 -1 -1 -1 -1 -1 -1 -1 -1 -1 -1 -1 -1 ...   \n",
       "2  [-1 -1 -1 -1 -1 -1 -1 -1 -1 -1 -1 -1 -1 -1 -1 ...   \n",
       "3  [-1 -1 -1 -1 -1 -1 -1 -1 -1 -1 -1 -1 -1 -1 -1 ...   \n",
       "4  [-1 -1 -1 -1 -1 -1 -1  2  2 -1 -1 -1 -1 -1 -1 ...   \n",
       "\n",
       "                                       prediction_id  \\\n",
       "0  [  101  4252  4199  1796  1142  2060  2079  11...   \n",
       "1  [  101 23609   119   122  1110  1146  1874 138...   \n",
       "2  [  101  1195  1437  1115  1103  3227   118   1...   \n",
       "3  [  101  1103  8310  1115  1103   174  5822  41...   \n",
       "4  [  101  1103  4592  1110  4379  1106  1129  12...   \n",
       "\n",
       "                                           origin_id  \\\n",
       "0  [  101  4252  4199  1796  1142  2060  2079  11...   \n",
       "1  [  101 23609   119   122  1110  1146  1874 138...   \n",
       "2  [  101  1195  1437  1115  1103  3227   118   1...   \n",
       "3  [  101  1103  8310  1115  1103   174  5822  41...   \n",
       "4  [  101  1103  4592  1110  4379  1106  1129   1...   \n",
       "\n",
       "                                             mask_id  \n",
       "0  [  101  4252  4199  1796  1142  2060  2079  11...  \n",
       "1  [  101 23609   119   122  1110  1146  1874 138...  \n",
       "2  [  101  1195  1437  1115  1103  3227   118   1...  \n",
       "3  [  101  1103  8310  1115  1103   174  5822  41...  \n",
       "4  [  101  1103  4592  1110  4379  1106  1129   1...  "
      ]
     },
     "execution_count": 65,
     "metadata": {},
     "output_type": "execute_result"
    }
   ],
   "source": [
    "df.head()"
   ]
  },
  {
   "cell_type": "code",
   "execution_count": 45,
   "metadata": {},
   "outputs": [
    {
     "name": "stdout",
     "output_type": "stream",
     "text": [
      "<class 'str'>\n"
     ]
    }
   ],
   "source": [
    "print(type(df['origin_id'][0]))"
   ]
  },
  {
   "cell_type": "code",
   "execution_count": 67,
   "metadata": {},
   "outputs": [
    {
     "data": {
      "text/plain": [
       "Index(['prediction_pos_tag_id', 'label_pos_tag_id', 'prediction_id',\n",
       "       'origin_id', 'mask_id'],\n",
       "      dtype='object')"
      ]
     },
     "execution_count": 67,
     "metadata": {},
     "output_type": "execute_result"
    }
   ],
   "source": [
    "df.columns"
   ]
  },
  {
   "cell_type": "code",
   "execution_count": 68,
   "metadata": {},
   "outputs": [],
   "source": [
    "import pandas as pd\n",
    "\n",
    "# Define the function to convert the string representation to a list of integers\n",
    "def convert_string_to_integers(data_string):\n",
    "    # Remove the square brackets and split the string by spaces\n",
    "    numbers = data_string.strip('[]').split()\n",
    "    # Convert each string element to an integer\n",
    "    numbers = [int(num) for num in numbers]\n",
    "    return numbers\n",
    "\n",
    "# Apply the function to the column\n",
    "df['prediction_pos_tag_id'] = df['prediction_pos_tag_id'].apply(convert_string_to_integers)\n",
    "df['label_pos_tag_id'] = df['label_pos_tag_id'].apply(convert_string_to_integers)\n",
    "df['prediction_id'] = df['prediction_id'].apply(convert_string_to_integers)\n",
    "df['origin_id'] = df['origin_id'].apply(convert_string_to_integers)\n",
    "df['mask_id'] = df['mask_id'].apply(convert_string_to_integers)\n"
   ]
  },
  {
   "cell_type": "code",
   "execution_count": 69,
   "metadata": {},
   "outputs": [
    {
     "data": {
      "text/html": [
       "<div>\n",
       "<style scoped>\n",
       "    .dataframe tbody tr th:only-of-type {\n",
       "        vertical-align: middle;\n",
       "    }\n",
       "\n",
       "    .dataframe tbody tr th {\n",
       "        vertical-align: top;\n",
       "    }\n",
       "\n",
       "    .dataframe thead th {\n",
       "        text-align: right;\n",
       "    }\n",
       "</style>\n",
       "<table border=\"1\" class=\"dataframe\">\n",
       "  <thead>\n",
       "    <tr style=\"text-align: right;\">\n",
       "      <th></th>\n",
       "      <th>prediction_pos_tag_id</th>\n",
       "      <th>label_pos_tag_id</th>\n",
       "      <th>prediction_id</th>\n",
       "      <th>origin_id</th>\n",
       "      <th>mask_id</th>\n",
       "    </tr>\n",
       "  </thead>\n",
       "  <tbody>\n",
       "    <tr>\n",
       "      <th>0</th>\n",
       "      <td>[-1, -1, -1, -1, -1, -1, -1, -1, -1, -1, -1, -...</td>\n",
       "      <td>[-1, -1, -1, -1, -1, -1, -1, -1, -1, -1, -1, -...</td>\n",
       "      <td>[101, 4252, 4199, 1796, 1142, 2060, 2079, 1138...</td>\n",
       "      <td>[101, 4252, 4199, 1796, 1142, 2060, 2079, 1138...</td>\n",
       "      <td>[101, 4252, 4199, 1796, 1142, 2060, 2079, 1138...</td>\n",
       "    </tr>\n",
       "    <tr>\n",
       "      <th>1</th>\n",
       "      <td>[-1, -1, -1, -1, -1, -1, -1, -1, -1, -1, -1, -...</td>\n",
       "      <td>[-1, -1, -1, -1, -1, -1, -1, -1, -1, -1, -1, -...</td>\n",
       "      <td>[101, 23609, 119, 122, 1110, 1146, 1874, 13830...</td>\n",
       "      <td>[101, 23609, 119, 122, 1110, 1146, 1874, 13830...</td>\n",
       "      <td>[101, 23609, 119, 122, 1110, 1146, 1874, 13830...</td>\n",
       "    </tr>\n",
       "    <tr>\n",
       "      <th>2</th>\n",
       "      <td>[-1, -1, -1, -1, -1, -1, -1, -1, -1, -1, -1, -...</td>\n",
       "      <td>[-1, -1, -1, -1, -1, -1, -1, -1, -1, -1, -1, -...</td>\n",
       "      <td>[101, 1195, 1437, 1115, 1103, 3227, 118, 172, ...</td>\n",
       "      <td>[101, 1195, 1437, 1115, 1103, 3227, 118, 172, ...</td>\n",
       "      <td>[101, 1195, 1437, 1115, 1103, 3227, 118, 172, ...</td>\n",
       "    </tr>\n",
       "    <tr>\n",
       "      <th>3</th>\n",
       "      <td>[-1, -1, -1, -1, -1, -1, -1, -1, -1, -1, -1, -...</td>\n",
       "      <td>[-1, -1, -1, -1, -1, -1, -1, -1, -1, -1, -1, -...</td>\n",
       "      <td>[101, 1103, 8310, 1115, 1103, 174, 5822, 4184,...</td>\n",
       "      <td>[101, 1103, 8310, 1115, 1103, 174, 5822, 4184,...</td>\n",
       "      <td>[101, 1103, 8310, 1115, 1103, 174, 5822, 4184,...</td>\n",
       "    </tr>\n",
       "    <tr>\n",
       "      <th>4</th>\n",
       "      <td>[-1, -1, -1, -1, -1, -1, -1, -1, -1, -1, -1, -...</td>\n",
       "      <td>[-1, -1, -1, -1, -1, -1, -1, 2, 2, -1, -1, -1,...</td>\n",
       "      <td>[101, 1103, 4592, 1110, 4379, 1106, 1129, 1260...</td>\n",
       "      <td>[101, 1103, 4592, 1110, 4379, 1106, 1129, 189,...</td>\n",
       "      <td>[101, 1103, 4592, 1110, 4379, 1106, 1129, 103,...</td>\n",
       "    </tr>\n",
       "  </tbody>\n",
       "</table>\n",
       "</div>"
      ],
      "text/plain": [
       "                               prediction_pos_tag_id  \\\n",
       "0  [-1, -1, -1, -1, -1, -1, -1, -1, -1, -1, -1, -...   \n",
       "1  [-1, -1, -1, -1, -1, -1, -1, -1, -1, -1, -1, -...   \n",
       "2  [-1, -1, -1, -1, -1, -1, -1, -1, -1, -1, -1, -...   \n",
       "3  [-1, -1, -1, -1, -1, -1, -1, -1, -1, -1, -1, -...   \n",
       "4  [-1, -1, -1, -1, -1, -1, -1, -1, -1, -1, -1, -...   \n",
       "\n",
       "                                    label_pos_tag_id  \\\n",
       "0  [-1, -1, -1, -1, -1, -1, -1, -1, -1, -1, -1, -...   \n",
       "1  [-1, -1, -1, -1, -1, -1, -1, -1, -1, -1, -1, -...   \n",
       "2  [-1, -1, -1, -1, -1, -1, -1, -1, -1, -1, -1, -...   \n",
       "3  [-1, -1, -1, -1, -1, -1, -1, -1, -1, -1, -1, -...   \n",
       "4  [-1, -1, -1, -1, -1, -1, -1, 2, 2, -1, -1, -1,...   \n",
       "\n",
       "                                       prediction_id  \\\n",
       "0  [101, 4252, 4199, 1796, 1142, 2060, 2079, 1138...   \n",
       "1  [101, 23609, 119, 122, 1110, 1146, 1874, 13830...   \n",
       "2  [101, 1195, 1437, 1115, 1103, 3227, 118, 172, ...   \n",
       "3  [101, 1103, 8310, 1115, 1103, 174, 5822, 4184,...   \n",
       "4  [101, 1103, 4592, 1110, 4379, 1106, 1129, 1260...   \n",
       "\n",
       "                                           origin_id  \\\n",
       "0  [101, 4252, 4199, 1796, 1142, 2060, 2079, 1138...   \n",
       "1  [101, 23609, 119, 122, 1110, 1146, 1874, 13830...   \n",
       "2  [101, 1195, 1437, 1115, 1103, 3227, 118, 172, ...   \n",
       "3  [101, 1103, 8310, 1115, 1103, 174, 5822, 4184,...   \n",
       "4  [101, 1103, 4592, 1110, 4379, 1106, 1129, 189,...   \n",
       "\n",
       "                                             mask_id  \n",
       "0  [101, 4252, 4199, 1796, 1142, 2060, 2079, 1138...  \n",
       "1  [101, 23609, 119, 122, 1110, 1146, 1874, 13830...  \n",
       "2  [101, 1195, 1437, 1115, 1103, 3227, 118, 172, ...  \n",
       "3  [101, 1103, 8310, 1115, 1103, 174, 5822, 4184,...  \n",
       "4  [101, 1103, 4592, 1110, 4379, 1106, 1129, 103,...  "
      ]
     },
     "execution_count": 69,
     "metadata": {},
     "output_type": "execute_result"
    }
   ],
   "source": [
    "df.head()"
   ]
  },
  {
   "cell_type": "code",
   "execution_count": 70,
   "metadata": {},
   "outputs": [],
   "source": [
    "# get masked index of origin_id where the value is 103\n",
    "df['mask_index'] = df['mask_id'].apply(lambda x: [i for i, j in enumerate(x) if j == 103])"
   ]
  },
  {
   "cell_type": "code",
   "execution_count": 71,
   "metadata": {},
   "outputs": [
    {
     "name": "stdout",
     "output_type": "stream",
     "text": [
      "24267\n"
     ]
    }
   ],
   "source": [
    "# count all values in the list of masked index\n",
    "count = 0\n",
    "for i in df['mask_index']:\n",
    "    count += len(i)\n",
    "print(count)"
   ]
  },
  {
   "cell_type": "code",
   "execution_count": 72,
   "metadata": {},
   "outputs": [],
   "source": [
    "# compare the value at masked index of prediction_id and label_pos_tag_id\n",
    "# create a new bool column to store the result, if the value at masked index of prediction_id and label_pos_tag_id are the same, then True, otherwise False\n",
    "df['prediction_at_mask_index'] = df.apply(lambda row: [row['prediction_pos_tag_id'][i] for i in row['mask_index']], axis=1)\n",
    "df['label_at_mask_index'] = df.apply(lambda row: [row['label_pos_tag_id'][i] for i in row['mask_index']], axis=1)\n",
    "df['correct'] = df.apply(lambda row: [row['prediction_pos_tag_id'][i] == row['label_pos_tag_id'][i] for i in row['mask_index']], axis=1)\n",
    "\n",
    "\n"
   ]
  },
  {
   "cell_type": "code",
   "execution_count": 73,
   "metadata": {},
   "outputs": [
    {
     "name": "stdout",
     "output_type": "stream",
     "text": [
      "[True]                                                             10404\n",
      "[False]                                                             2345\n",
      "[True, True]                                                         819\n",
      "[False, False, False]                                                748\n",
      "[False, False]                                                       590\n",
      "                                                                   ...  \n",
      "[True, True, False, False, True]                                       1\n",
      "[True, True, False, True, True, False, True]                           1\n",
      "[False, False, False, False, False, False, False, False, False]        1\n",
      "[False, True, False, False, False]                                     1\n",
      "[True, False, True, False]                                             1\n",
      "Name: correct, Length: 65, dtype: int64\n"
     ]
    }
   ],
   "source": [
    "print(df['correct'].value_counts())"
   ]
  },
  {
   "cell_type": "code",
   "execution_count": 74,
   "metadata": {},
   "outputs": [
    {
     "name": "stdout",
     "output_type": "stream",
     "text": [
      "14569\n"
     ]
    }
   ],
   "source": [
    "# count all values in correct column = true\n",
    "print(df['correct'].apply(lambda x: sum(x)).sum())"
   ]
  },
  {
   "cell_type": "code",
   "execution_count": 75,
   "metadata": {},
   "outputs": [
    {
     "name": "stdout",
     "output_type": "stream",
     "text": [
      "0.8705186424474187\n"
     ]
    }
   ],
   "source": [
    "print(df['correct'].apply(lambda x: sum(x)).sum()/len(df['correct'].apply(lambda x: sum(x))))"
   ]
  },
  {
   "cell_type": "code",
   "execution_count": 76,
   "metadata": {},
   "outputs": [
    {
     "name": "stdout",
     "output_type": "stream",
     "text": [
      "9698\n"
     ]
    }
   ],
   "source": [
    "# count all values in correct column = false\n",
    "print(df['correct'].apply(lambda x: len(x) - sum(x)).sum())"
   ]
  },
  {
   "cell_type": "code",
   "execution_count": null,
   "metadata": {},
   "outputs": [],
   "source": []
  }
 ],
 "metadata": {
  "kernelspec": {
   "display_name": "min_ds-env",
   "language": "python",
   "name": "python3"
  },
  "language_info": {
   "codemirror_mode": {
    "name": "ipython",
    "version": 3
   },
   "file_extension": ".py",
   "mimetype": "text/x-python",
   "name": "python",
   "nbconvert_exporter": "python",
   "pygments_lexer": "ipython3",
   "version": "3.8.8"
  }
 },
 "nbformat": 4,
 "nbformat_minor": 2
}
