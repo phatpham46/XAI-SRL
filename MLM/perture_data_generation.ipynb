{
 "cells": [
  {
   "cell_type": "markdown",
   "metadata": {},
   "source": [
    "## Import libraries"
   ]
  },
  {
   "cell_type": "code",
   "execution_count": 1,
   "metadata": {},
   "outputs": [
    {
     "name": "stderr",
     "output_type": "stream",
     "text": [
      "/home/phatpham/anaconda3/envs/min_ds-env/lib/python3.8/site-packages/torch/cuda/__init__.py:546: UserWarning: Can't initialize NVML\n",
      "  warnings.warn(\"Can't initialize NVML\")\n",
      "2024-05-20 02:19:50.687533: I tensorflow/core/util/port.cc:110] oneDNN custom operations are on. You may see slightly different numerical results due to floating-point round-off errors from different computation orders. To turn them off, set the environment variable `TF_ENABLE_ONEDNN_OPTS=0`.\n",
      "2024-05-20 02:19:51.402360: I tensorflow/core/platform/cpu_feature_guard.cc:182] This TensorFlow binary is optimized to use available CPU instructions in performance-critical operations.\n",
      "To enable the following instructions: AVX2 AVX512F AVX512_VNNI FMA, in other operations, rebuild TensorFlow with the appropriate compiler flags.\n",
      "2024-05-20 02:19:53.160600: W tensorflow/compiler/tf2tensorrt/utils/py_utils.cc:38] TF-TRT Warning: Could not find TensorRT\n",
      "2024-05-20 02:19:55.436477: E tensorflow/compiler/xla/stream_executor/cuda/cuda_driver.cc:268] failed call to cuInit: CUDA_ERROR_NO_DEVICE: no CUDA-capable device is detected\n",
      "/home/phatpham/anaconda3/envs/min_ds-env/lib/python3.8/site-packages/tqdm/auto.py:22: TqdmWarning: IProgress not found. Please update jupyter and ipywidgets. See https://ipywidgets.readthedocs.io/en/stable/user_install.html\n",
      "  from .autonotebook import tqdm as notebook_tqdm\n"
     ]
    }
   ],
   "source": [
    "import pandas as pd\n",
    "import os\n",
    "import sys\n",
    "import json\n",
    "import torch\n",
    "import numpy as np\n",
    "from tqdm import tqdm\n",
    "import multiprocessing as mp\n",
    "sys.path.append('../')\n",
    "from MLM.mlm_utils.model_utils import TOKENIZER\n"
   ]
  },
  {
   "cell_type": "markdown",
   "metadata": {},
   "source": [
    "## Load data"
   ]
  },
  {
   "cell_type": "code",
   "execution_count": 22,
   "metadata": {},
   "outputs": [],
   "source": [
    "def read_data(readPath):\n",
    "    '''read csv file and return list of json objects.'''\n",
    "    with open(readPath, 'r', encoding = 'utf-8') as file:\n",
    "        taskData = list(map(lambda x: json.loads(x), file))\n",
    "       \n",
    "    return taskData"
   ]
  },
  {
   "cell_type": "markdown",
   "metadata": {},
   "source": [
    "## Define metric functions"
   ]
  },
  {
   "cell_type": "code",
   "execution_count": 23,
   "metadata": {},
   "outputs": [],
   "source": [
    "def cosine_module_2_tensors(tensor1, tensor2, cosine_sim):\n",
    "    \n",
    "    norm_tensor1 = torch.norm(tensor1)\n",
    "    norm_tensor2 = torch.norm(tensor2)\n",
    "    \n",
    "    module_similarity = 1 - (torch.abs(norm_tensor1 - norm_tensor2) / (norm_tensor1 + norm_tensor2))\n",
    "    \n",
    "    return module_similarity * cosine_sim\n"
   ]
  },
  {
   "cell_type": "code",
   "execution_count": 24,
   "metadata": {},
   "outputs": [],
   "source": [
    "def cosine_sen_content_word(vector_tensor, type, content_word_dict):\n",
    "    '''\n",
    "    Calculate cosine similarity between the sum and avg of the word and the content word vector.\n",
    "    Input:\n",
    "        sum_tensor: torch.Tensor, sum of the word vector.\n",
    "        avg_tensor: torch.Tensor, average of the word vector.\n",
    "        content_word_dict: dict (word_vector, sum_vector, avg_vector), dictionary containing the content word vector.\n",
    "    Output:\n",
    "        cosine: float, cosine similarity between the word vector and the content word vector.\n",
    "        cosine_module: float, cosine module similarity between the word vector and the content word vector.\n",
    "        content_word_dict['word_vector']: torch.Tensor, masked word vector.\n",
    "    '''\n",
    "    if type == 'sum':\n",
    "        content_tensor = torch.tensor(content_word_dict['sum_vector']).clone().detach()\n",
    "    else: content_tensor = torch.tensor(content_word_dict['avg_vector']).clone().detach()\n",
    "    \n",
    "    cosine_func = torch.nn.CosineSimilarity(dim=0, eps=1e-6)\n",
    "    \n",
    "    cosine = cosine_func(vector_tensor/torch.norm(vector_tensor), content_tensor/torch.norm(content_tensor)).item()\n",
    "  \n",
    "    cosine_module = cosine_module_2_tensors(vector_tensor, content_tensor, cosine)\n",
    "    \n",
    "    del content_tensor\n",
    "    return cosine, cosine_module, content_word_dict['word']"
   ]
  },
  {
   "cell_type": "code",
   "execution_count": 25,
   "metadata": {},
   "outputs": [],
   "source": [
    "def cosine_sim_sen_list_word(vector_tensor, type, list_dict_content_word):\n",
    "    '''\n",
    "    Calculate cosine similarity between the sum and avg of the word and list the content word vector, then return the word with cosine approximate -1 and 0.\n",
    "    Input:\n",
    "        sum_tensor: torch.Tensor, sum of the word vector.\n",
    "        avg_tensor: torch.Tensor, average of the word vector.\n",
    "        list_dict_content_word: list of dict (word_vector, sum_vector, avg_vector), list of dictionary containing the content word vector.\n",
    "    Output:\n",
    "        replace_word_neg_cos: torch.Tensor, replaced word vector with cosine approximate -1.\n",
    "        replace_word_neg_cos_module: torch.Tensor, replaced word vector with cosine module approximate -1.\n",
    "        replace_word_pos_cos: torch.Tensor, replaced word vector with cosine approximate 0.\n",
    "        replace_word_pos_cos_module: torch.Tensor, replaced word vector with cosine module approximate 0.\n",
    "    '''\n",
    "    \n",
    "    list_result = list(map(lambda x: cosine_sen_content_word(vector_tensor, type , x), list_dict_content_word))\n",
    "    sorted_cos = sorted(list_result, key = lambda x: x[0]) # tang dan\n",
    "    sorted_cos_module = sorted(list_result, key = lambda x: x[1]) # tang dan\n",
    "    \n",
    "    # cosine approximate -1\n",
    "    replace_word_neg_cos = sorted_cos[0][2]\n",
    "    replace_word_neg_cos_module = sorted_cos_module[0][2]\n",
    "    \n",
    "    # cosine approximate 0\n",
    "    sorted_cos.sort(key=lambda x: abs(x[0]))\n",
    "    replace_word_pos_cos = sorted_cos[0][2]\n",
    "   \n",
    "    sorted_cos_module.sort(key=lambda x: abs(x[1]))\n",
    "    replace_word_pos_cos_module = sorted_cos_module[0][2]\n",
    "   \n",
    "       \n",
    "    return replace_word_neg_cos, replace_word_neg_cos_module, replace_word_pos_cos, replace_word_pos_cos_module\n",
    "\n"
   ]
  },
  {
   "cell_type": "markdown",
   "metadata": {},
   "source": [
    "## Find new word with lowest cosine sim "
   ]
  },
  {
   "cell_type": "code",
   "execution_count": 26,
   "metadata": {},
   "outputs": [],
   "source": [
    "def find_new_word(predicate_data_chunk, chunkNumber, tempList, content_word_data):\n",
    "    ''' \n",
    "    Generate pertured sentence for each predicate data in the chunk. \n",
    "    '''\n",
    "    name = 'new_data_{}.json'.format(str(chunkNumber))\n",
    "    \n",
    "    def replace_new_word(origin_id, masked_word, list_new_word):\n",
    "        list_new_word = [item for sublist in list_new_word for item in sublist]\n",
    "        origin_sen = TOKENIZER.decode(torch.tensor(origin_id), skip_special_tokens = True)\n",
    "        list_new_sen = list(map(lambda x: origin_sen.replace(TOKENIZER.decode(masked_word), TOKENIZER.decode(x), 1), list_new_word))\n",
    "        \n",
    "        return list_new_sen\n",
    "        \n",
    "    def generate_new_word_in_sen(predicate_data):\n",
    "        \n",
    "        # find masked index in sentence\n",
    "        \n",
    "        masked_index = torch.where(torch.tensor(predicate_data['pos_tag_id']).clone().detach() != 0)\n",
    "        \n",
    "        # convert input id to numpy array, easy to replace new word at masked index\n",
    "        predicate_np = np.array(predicate_data['origin_id'])\n",
    "        \n",
    "        # convert sum and avg vector to tensor\n",
    "        # avg_tensor = torch.tensor(predicate_data['avg_vector']).clone().detach()\n",
    "        sum_tensor = torch.tensor(predicate_data['sum_vector']).clone().detach()\n",
    "        \n",
    "        \n",
    "        # find cosine similarity between the sum and avg of the word and its corresponding type of content word vector\n",
    "        if predicate_data['pos_tag_id'][masked_index[0][0].item()] == 1:\n",
    "            content_word = content_word_data['noun']\n",
    "            \n",
    "        elif predicate_data['pos_tag_id'][masked_index[0][0].item()] == 2:\n",
    "            content_word =  content_word_data['verb']\n",
    "            \n",
    "        elif predicate_data['pos_tag_id'][masked_index[0][0].item()] == 3:\n",
    "            content_word =  content_word_data['adj']\n",
    "            \n",
    "        elif predicate_data['pos_tag_id'][masked_index[0][0].item()] == 4:\n",
    "            content_word =  content_word_data['adv']\n",
    "        else: \n",
    "            KeyError('pos_tag_id not in [1, 2, 3, 4]')\n",
    "        \n",
    "        lisst = cosine_sim_sen_list_word(sum_tensor, 'sum', content_word) \n",
    "       \n",
    "        del content_word, sum_tensor\n",
    "         \n",
    "        list_new_sens = replace_new_word(predicate_data['origin_id'], predicate_np[masked_index[0]], lisst)\n",
    "        feature =  {\n",
    "                \"origin_uid\": predicate_data['origin_uid'], \n",
    "                \"sum_neg_cos\": list_new_sens[0], \n",
    "                \"sum_neg_cos_module\": list_new_sens[1],\n",
    "                \"sum_pos_cos\": list_new_sens[2], \n",
    "                \"sum_pos_cos_module\": list_new_sens[3],\n",
    "                # \"avg_neg_cos\":list_new_sens[4],\n",
    "                # \"avg_neg_cos_module\":list_new_sens[5],\n",
    "                # \"avg_pos_cos\":list_new_sens[6],\n",
    "                # \"avg_pos_cos_module\": list_new_sens[7],\n",
    "                \"pos_tag_id\": predicate_data['pos_tag_id']}\n",
    "        \n",
    "        return feature         \n",
    "    \n",
    "    # apply function to each sentence in the chunk          \n",
    "    list_feature = map(lambda x: generate_new_word_in_sen(x), tqdm(predicate_data_chunk))\n",
    "    \n",
    "    # write to json file           \n",
    "    with open(name, 'w') as wf:\n",
    "        for feature in list_feature:\n",
    "            wf.write('{}\\n'.format(json.dumps(feature))) \n",
    "        tempList.append(name)"
   ]
  },
  {
   "cell_type": "code",
   "execution_count": 27,
   "metadata": {},
   "outputs": [],
   "source": [
    "def multi_process_gen_data(predicate_file, dict_content_word, wriDir):\n",
    "    '''\n",
    "    Create pertured data using multiple processes and save pertured data to a file.\n",
    "    \n",
    "    '''\n",
    "    print(\"Preprocessing file... \", predicate_file)\n",
    "    predicates_data = read_data(predicate_file)\n",
    "    \n",
    "    # MULTI PROCESSING\n",
    "    man = mp.Manager()\n",
    "\n",
    "    # shared list to store all temp files written by processes\n",
    "    tempFilesList = man.list()\n",
    "    numProcess = mp.cpu_count() - 1\n",
    "#     numProcess = 1\n",
    "    chunkSize = int(len(predicates_data) / (numProcess))\n",
    "    \n",
    "    print('Data Size: ', len(predicates_data))\n",
    "    print('number of threads: ', numProcess)\n",
    "\n",
    "    processes = []\n",
    "    for i in range(numProcess):\n",
    "        dataChunk = predicates_data[chunkSize*i : chunkSize*(i+1)]\n",
    "\n",
    "        p = mp.Process(target = find_new_word, args = (dataChunk, i, tempFilesList, dict_content_word))\n",
    "        \n",
    "        p.start()\n",
    "        processes.append(p)\n",
    "        \n",
    "    for pr in processes:\n",
    "        pr.join()\n",
    "    \n",
    "    wrtPath = wriDir + '{}'.format(predicate_file.split('/')[-1].replace('mlm_', ''))\n",
    "    \n",
    "    # combining the files written by multiple processes into a single final file\n",
    "    with open(wrtPath, 'w') as f:\n",
    "        for file in tempFilesList:\n",
    "            with open(file, 'r') as r:\n",
    "                for line in r:\n",
    "                    sample =  json.loads(line)\n",
    "                    f.write('{}\\n'.format(json.dumps(sample)))\n",
    "            os.remove(file)\n",
    "        \n",
    "    print(\"Done file\", predicate_file)   "
   ]
  },
  {
   "cell_type": "markdown",
   "metadata": {},
   "source": [
    "## Load 4 lists of content word."
   ]
  },
  {
   "cell_type": "code",
   "execution_count": 30,
   "metadata": {},
   "outputs": [],
   "source": [
    "\n",
    "file_paths = {\n",
    "    \"noun\": \"./data_mlm/process_folder/list_content_word/NOUN.json\",\n",
    "    \"verb\": \"./data_mlm/process_folder/list_content_word/VERB.json\",\n",
    "    \"adj\": \"./data_mlm/process_folder/list_content_word/ADJ.json\",\n",
    "    \"adv\": \"./data_mlm/process_folder/list_content_word/ADV.json\"\n",
    "}\n",
    "\n",
    "dict_content_word = {key: read_data(file_path) for key, file_path in file_paths.items()}\n"
   ]
  },
  {
   "cell_type": "code",
   "execution_count": 31,
   "metadata": {},
   "outputs": [
    {
     "name": "stdout",
     "output_type": "stream",
     "text": [
      "Preprocessing file...  ./data_mlm/process_folder/word_present_each_file_v3/mlm_transform_2_full.json\n",
      "Data Size:  2016\n",
      "number of threads:  7\n"
     ]
    },
    {
     "name": "stderr",
     "output_type": "stream",
     "text": [
      "  0%|          | 0/288 [00:00<?, ?it/s]"
     ]
    },
    {
     "ename": "",
     "evalue": "",
     "output_type": "error",
     "traceback": [
      "\u001b[1;31mThe Kernel crashed while executing code in the current cell or a previous cell. \n",
      "\u001b[1;31mPlease review the code in the cell(s) to identify a possible cause of the failure. \n",
      "\u001b[1;31mClick <a href='https://aka.ms/vscodeJupyterKernelCrash'>here</a> for more info. \n",
      "\u001b[1;31mView Jupyter <a href='command:jupyter.viewOutput'>log</a> for further details."
     ]
    }
   ],
   "source": [
    "from mlm_utils.transform_func import get_files\n",
    "\n",
    "\n",
    "wriDir = './data_mlm/pertured_data/masked_data_json/'\n",
    "dataDir = './data_mlm/process_folder/word_present_each_file_v3/'\n",
    "files = get_files(dataDir)\n",
    "\n",
    "for file in files[-5:]:\n",
    "    multi_process_gen_data(dataDir + file, dict_content_word, wriDir)"
   ]
  },
  {
   "cell_type": "markdown",
   "metadata": {},
   "source": [
    "## Replace new word in the sentence"
   ]
  },
  {
   "cell_type": "code",
   "execution_count": null,
   "metadata": {},
   "outputs": [],
   "source": [
    "def read_data(readPath):\n",
    "    \n",
    "    with open(readPath, 'r', encoding = 'utf-8') as file:\n",
    "        taskData = []\n",
    "        for i, line in enumerate(file):\n",
    "            sample = json.loads(line)\n",
    "            taskData.append(sample)\n",
    "            \n",
    "    return taskData\n",
    "\n",
    "def generate_data_and_write_json(dataDir, wriDir, lableDir):\n",
    "    \n",
    "    def gen_data_line(line):\n",
    "        \n",
    "        origin_sen = TOKENIZER.decode(torch.tensor(line['origin_id']), skip_special_tokens = True)\n",
    "\n",
    "        new_word_list_set = set([line['cos_neg'], line['cos_0'], line['cos_module_neg'], line['cos_module_0']])\n",
    "\n",
    "        masked_data_set = list(map(lambda x: origin_sen.replace(line['masked_word'], x, 1), new_word_list_set))\n",
    "        return line['origin_id'], str(masked_data_set)\n",
    "    \n",
    "    write_file = \"pertured_data_{}\".format(data_f)\n",
    "    files_data = get_files(dataDir)\n",
    "    files_label = get_files(lableDir)\n",
    "    \n",
    "    \n",
    "    for data_f, label_f in tqdm(zip(files_data, files_label)):\n",
    "       \n",
    "        data = read_data(dataDir + data_f)\n",
    "        label_data = read_data(lableDir + label_f)\n",
    "        masked_data_file = list(map(lambda x: gen_data_line(x), data))\n",
    "        \n",
    "        tmp_list = []\n",
    "        \n",
    "        # Get origin label from label file  \n",
    "        print(\"Process file\", data_f)\n",
    "        for (origin_id, pertured_text) in masked_data_file:\n",
    "            for line in label_data:\n",
    "                if list(filter(None, origin_id)) == list(filter(None, line['token_id'])):\n",
    "                    tmp_list.append((line['uid'], origin_id, pertured_text, line['label']))\n",
    "                else: \n",
    "                    continue\n",
    "         \n",
    "        with open(os.path.join(wriDir, write_file) , 'w') as f:\n",
    "            for (origin_uid, origin_id, pertured_text, label) in (tmp_list):\n",
    "                encoded_text = encode_text(pertured_text)\n",
    "                sample = {\n",
    "                    'origin_uid': origin_uid,\n",
    "                    'origin_id': origin_id,\n",
    "                    \n",
    "                    'token_id': encoded_text['input_ids'][0].tolist(),\n",
    "                    'type_id': encoded_text['token_type_ids'][0].tolist(),\n",
    "                    'mask': encoded_text['attention_mask'][0].tolist()}\n",
    "                \n",
    "                f.write('{}\\n'.format(json.dumps(sample)))\n",
    "        print(\"Done\", data_f)"
   ]
  },
  {
   "cell_type": "code",
   "execution_count": null,
   "metadata": {},
   "outputs": [],
   "source": [
    "labelDir = './data_mlm/process_folder/coNLL_tsv_json/modify_label_prepared_data/'\n",
    "dataDir = './data_mlm/pertured_data/'\n",
    "wriDir = './data_mlm/pertured_data/masked_data_json_v2'\n",
    "generate_data_and_write_json(dataDir = dataDir, wriDir = wriDir, lableDir=labelDir)"
   ]
  }
 ],
 "metadata": {
  "kernelspec": {
   "display_name": "min_ds-env",
   "language": "python",
   "name": "python3"
  },
  "language_info": {
   "codemirror_mode": {
    "name": "ipython",
    "version": 3
   },
   "file_extension": ".py",
   "mimetype": "text/x-python",
   "name": "python",
   "nbconvert_exporter": "python",
   "pygments_lexer": "ipython3",
   "version": "3.8.8"
  }
 },
 "nbformat": 4,
 "nbformat_minor": 2
}
