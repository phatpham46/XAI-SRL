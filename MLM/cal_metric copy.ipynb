{
 "cells": [
  {
   "cell_type": "code",
   "execution_count": 1,
   "metadata": {},
   "outputs": [],
   "source": [
    "\n",
    "import torch\n",
    "import pandas as pd\n",
    "import dask.dataframe as dd\n",
    "import torch\n",
    "import multiprocessing as mp\n",
    "import numpy as np\n",
    "import csv\n",
    "def read_csv(file_name):\n",
    "    # Use pandas to read the CSV file\n",
    "    data = pd.read_csv(file_name)\n",
    "    return data\n",
    "\n",
    "def convert_to_dict_v1(data):\n",
    "    '''Convert DataFrame to list of dictionaries with keys: uid, word_vector, sum_vector, avg_vector.'''\n",
    "    eval_locals = {'tensor': torch.tensor, 'torch': torch}\n",
    " \n",
    "    list_data_dict = [{\"uid\": row[0], \n",
    "                       \"word_vector\": eval(row[1], eval_locals), \n",
    "                       \"sum_vector\": eval(row[2], eval_locals), \n",
    "                       \"avg_vector\": eval(row[3], eval_locals)} \n",
    "                      for row in data.itertuples(index=False)]\n",
    "    \n",
    "    return list_data_dict\n",
    "\n"
   ]
  },
  {
   "cell_type": "code",
   "execution_count": 2,
   "metadata": {},
   "outputs": [],
   "source": [
    "# read json file and convert to dict\n",
    "import json\n",
    "\n",
    "def read_data(readPath):\n",
    "    '''read csv file and return list of json objects.'''\n",
    "    with open(readPath, 'r', encoding = 'utf-8') as file:\n",
    "        taskData = []\n",
    "        for i, line in enumerate(file):\n",
    "            sample = json.loads(line)\n",
    "            taskData.append(sample)\n",
    "\n",
    "    return taskData\n"
   ]
  },
  {
   "cell_type": "markdown",
   "metadata": {},
   "source": [
    "## calculate cosine "
   ]
  },
  {
   "cell_type": "code",
   "execution_count": 3,
   "metadata": {},
   "outputs": [
    {
     "name": "stderr",
     "output_type": "stream",
     "text": [
      "/home/phatpham/anaconda3/envs/min_ds-env/lib/python3.8/site-packages/torch/cuda/__init__.py:546: UserWarning: Can't initialize NVML\n",
      "  warnings.warn(\"Can't initialize NVML\")\n",
      "2024-05-09 14:53:08.353395: I tensorflow/core/util/port.cc:110] oneDNN custom operations are on. You may see slightly different numerical results due to floating-point round-off errors from different computation orders. To turn them off, set the environment variable `TF_ENABLE_ONEDNN_OPTS=0`.\n",
      "2024-05-09 14:53:09.037656: I tensorflow/core/platform/cpu_feature_guard.cc:182] This TensorFlow binary is optimized to use available CPU instructions in performance-critical operations.\n",
      "To enable the following instructions: AVX2 AVX512F AVX512_VNNI FMA, in other operations, rebuild TensorFlow with the appropriate compiler flags.\n",
      "2024-05-09 14:53:11.729931: W tensorflow/compiler/tf2tensorrt/utils/py_utils.cc:38] TF-TRT Warning: Could not find TensorRT\n",
      "2024-05-09 14:53:14.301203: E tensorflow/compiler/xla/stream_executor/cuda/cuda_driver.cc:268] failed call to cuInit: CUDA_ERROR_NO_DEVICE: no CUDA-capable device is detected\n",
      "/home/phatpham/anaconda3/envs/min_ds-env/lib/python3.8/site-packages/tqdm/auto.py:22: TqdmWarning: IProgress not found. Please update jupyter and ipywidgets. See https://ipywidgets.readthedocs.io/en/stable/user_install.html\n",
      "  from .autonotebook import tqdm as notebook_tqdm\n",
      "Some weights of the model checkpoint at dmis-lab/biobert-base-cased-v1.2 were not used when initializing BertForMaskedLM: ['cls.seq_relationship.bias', 'bert.pooler.dense.weight', 'bert.pooler.dense.bias', 'cls.seq_relationship.weight']\n",
      "- This IS expected if you are initializing BertForMaskedLM from the checkpoint of a model trained on another task or with another architecture (e.g. initializing a BertForSequenceClassification model from a BertForPreTraining model).\n",
      "- This IS NOT expected if you are initializing BertForMaskedLM from the checkpoint of a model that you expect to be exactly identical (initializing a BertForSequenceClassification model from a BertForSequenceClassification model).\n"
     ]
    }
   ],
   "source": [
    "import numpy as np\n",
    "import torch\n",
    "import sys\n",
    "import os\n",
    "import multiprocessing as mp\n",
    "\n",
    "from tqdm import tqdm\n",
    "# from sklearn.metrics.pairwise import cosine_similarity\n",
    "sys.path.append('/mnt/c/Users/Phat Pham/Documents/THESIS/SRLPredictionEasel/MLM')\n",
    "from mlm_utils.model_utils import TOKENIZER\n"
   ]
  },
  {
   "cell_type": "code",
   "execution_count": 1,
   "metadata": {},
   "outputs": [],
   "source": [
    "def cosine_module_2_tensors(tensor1, tensor2, cosine_func):\n",
    "\n",
    "    norm_tensor1 = torch.norm(tensor1)\n",
    "    norm_tensor2 = torch.norm(tensor2)\n",
    "    \n",
    "    cosine_sim_v2 = cosine_func(tensor1 / norm_tensor1, tensor2 / norm_tensor2)\n",
    "    module_similarity = 1 - (torch.abs(norm_tensor1 - norm_tensor2) / (norm_tensor1 + norm_tensor2))\n",
    "    \n",
    "    return module_similarity * cosine_sim_v2\n"
   ]
  },
  {
   "cell_type": "code",
   "execution_count": 2,
   "metadata": {},
   "outputs": [],
   "source": [
    "def cosine_sen_content_word(sum_tensor, avg_tensor, content_word_dict, cosine_func):\n",
    "    '''một từ với 1 content word\n",
    "    trả ra consine similarity giữa sum_vector_tensor và sum_vector của content word\n",
    "    '''\n",
    "   \n",
    "    content_tensor_sum = content_word_dict['sum_vector'].clone().detach()\n",
    "    content_tensor_avg = content_word_dict['avg_vector'].clone().detach()\n",
    "    \n",
    "    cosine_sum = cosine_func(sum_tensor/torch.norm(sum_tensor), content_tensor_sum/torch.norm(content_tensor_sum)).item()\n",
    "    cosine_module_sum = cosine_module_2_tensors(sum_tensor, content_tensor_sum, cosine_func)\n",
    "    \n",
    "    cosine_avg = cosine_func(avg_tensor/torch.norm(avg_tensor), content_tensor_avg/torch.norm(content_tensor_avg)).item()\n",
    "    cosine_module_avg = cosine_module_2_tensors(avg_tensor, content_tensor_avg, cosine_func)\n",
    "    \n",
    "    return cosine_sum, cosine_module_sum, content_word_dict['word_vector'], cosine_avg, cosine_module_avg"
   ]
  },
  {
   "cell_type": "code",
   "execution_count": null,
   "metadata": {},
   "outputs": [],
   "source": [
    "def cosine_similarity(tensor1, tensor2):\n",
    "    dot_product = torch.dot(tensor1, tensor2)\n",
    "    magnitude1 = torch.norm(tensor1)\n",
    "    magnitude2 = torch.norm(tensor2)\n",
    "    return dot_product / (magnitude1 * magnitude2)"
   ]
  },
  {
   "cell_type": "code",
   "execution_count": 3,
   "metadata": {},
   "outputs": [],
   "source": [
    "def cosine_sim_sen_list_word(sum_tensor, avg_tensor, list_dict_content_word):\n",
    "    '''tinh cosine trong 1 cau voi tat ca cac content word. trả ra từ có cosine gần -1 và từ có cosine gần 0'''\n",
    "    # list_result = list(map(lambda x: cosine_sen_content_word(sum_tensor, avg_tensor, x, cosine_func), list_dict_content_word))\n",
    "    \n",
    "    # 1 cau voi 1 list content word \n",
    "    min_similarity, replace_word_neg_cos_sum = min(((cosine_similarity(sum_tensor, list_dict_content_word[i][\"sum_vector\"]), list_dict_content_word[i]['word_vector']) for i in range(len(list_dict_content_word))), key=lambda x: x[0])\n",
    "    return min_similarity, replace_word_neg_cos_sum\n"
   ]
  },
  {
   "cell_type": "code",
   "execution_count": 4,
   "metadata": {},
   "outputs": [],
   "source": [
    "def replace_word_in_sentence(predicate_data_chunk, chunkNumber, tempList, content_word_data):\n",
    "    ''' 1 câu gốc thành 2 câu mới: cosine = -1 và cosine = 0\n",
    "    '''\n",
    "    name = 'new_data_{}.json'.format(str(chunkNumber))\n",
    "\n",
    "    cosine_func = torch.nn.CosineSimilarity(dim=0, eps=1e-6)\n",
    "    def new_word_in_sen(predicate_data):\n",
    "        masked_index = torch.where(torch.tensor(predicate_data['pos_tag_id']).clone().detach() != 0)\n",
    "\n",
    "        predicate_np = np.array(predicate_data['origin_id'])\n",
    "        \n",
    "        replace_word_neg_cos = None\n",
    "        replace_word_0_cos = None\n",
    "        replace_word_neg_cos_module = None\n",
    "        replace_word_0_cos_module = None\n",
    "        \n",
    "        avg_tensor = torch.tensor(predicate_data['avg_vector']).clone().detach()\n",
    "        sum_tensor = torch.tensor(predicate_data['sum_vector']).clone().detach()\n",
    "        if predicate_data['pos_tag_id'][masked_index[0][0].item()] == 1:\n",
    "            min_cosin, replace_word = cosine_sim_sen_list_word(sum_tensor, avg_tensor, content_word_data['noun'])\n",
    "            \n",
    "        elif predicate_data['pos_tag_id'][masked_index[0][0].item()] == 2:\n",
    "            min_cosin, replace_word = cosine_sim_sen_list_word(sum_tensor, avg_tensor, content_word_data['verb'], cosine_func)\n",
    "            \n",
    "        elif predicate_data['pos_tag_id'][masked_index[0][0].item()] == 3:\n",
    "            min_cosin, replace_word = cosine_sim_sen_list_word(sum_tensor, avg_tensor, content_word_data['adj'], cosine_func)\n",
    "            \n",
    "        elif predicate_data['pos_tag_id'][masked_index[0][0].item()] == 4:\n",
    "            min_cosin, replace_word = cosine_sim_sen_list_word(sum_tensor, avg_tensor, content_word_data['adv'], cosine_func)\n",
    "            \n",
    "        else: \n",
    "            KeyError('pos_tag_id not in [1, 2, 3, 4]')\n",
    "\n",
    "        print(\"min cosine\", min_cosin)\n",
    "        print(\"replace word\", replace_word)\n",
    "\n",
    "        # cosine = -1\n",
    "        origin_word = TOKENIZER.decode(predicate_np[masked_index[0]])\n",
    "        # origin_sen = TOKENIZER.decode(predicate_np, skip_special_tokens = True)\n",
    "        # cos_neg_sen_sum = origin_sen.replace(origin_word, TOKENIZER.decode(replace_word_cosine_neg_sum), 1) \n",
    "        cos_neg = TOKENIZER.decode(replace_word_neg_cos)\n",
    "        cos_module_neg = TOKENIZER.decode(replace_word_neg_cos_module)\n",
    "        \n",
    "        # cosine = 0\n",
    "        cos_0 = TOKENIZER.decode(replace_word_0_cos)\n",
    "        cos_module_0 = TOKENIZER.decode(replace_word_0_cos_module)\n",
    "        \n",
    "        feature =  {\n",
    "                \"origin_uid\": predicate_data['origin_uid'],\n",
    "                \"origin_id\": predicate_data['origin_id'], \n",
    "                \"masked_index\": masked_index[0].tolist(),\n",
    "                \"masked_word\": origin_word,\n",
    "                \"cos_neg\": cos_neg, \n",
    "                \"cos_0\": cos_0, \n",
    "                \"cos_module_neg\": cos_module_neg,\n",
    "                \"cos_module_0\": cos_module_0,\n",
    "                \"pos_tag_id\": predicate_data['pos_tag_id']}\n",
    "        return feature         \n",
    "                \n",
    "    list_feature = map(lambda x: new_word_in_sen(x), tqdm(predicate_data_chunk))\n",
    "               \n",
    "    with open(name, 'w') as wf:\n",
    "        for feature in list_feature:\n",
    "            wf.write('{}\\n'.format(json.dumps(feature))) \n",
    "        tempList.append(name)"
   ]
  },
  {
   "cell_type": "code",
   "execution_count": 5,
   "metadata": {},
   "outputs": [],
   "source": [
    "def create_new_data(predicate_file, dict_content_word, wriDir):\n",
    "    '''\n",
    "    return 4 data cho moi file:\n",
    "        sum_vector va cosine = -1: uid, origin_input_id, sum_neg_input_id, pos_tag_id\n",
    "        sum_vector va cosine = 0: uid, origin_input_id, sum_0_input_id, pos_tag_id\n",
    "        avg_vector va cosine = -1: uid, origin_input_id, avg_neg_input_id, pos_tag_id\n",
    "        avg_vector va cosine = 0: uid, origin_input_id, avg_0_input_id, pos_tag_id\n",
    "    \n",
    "    '''\n",
    "    print(\"Preprocessing file... \", predicate_file)\n",
    "    predicates_data = read_data(predicate_file)\n",
    "    predicates_data = [item for sublist in predicates_data for item in sublist][:10]\n",
    "    \n",
    "    # MULTI PROCESSING\n",
    "    man = mp.Manager()\n",
    "\n",
    "    # shared list to store all temp files written by processes\n",
    "    tempFilesList = man.list()\n",
    "    \n",
    "    # numProcess = mp.cpu_count() - 1\n",
    "    numProcess = 1\n",
    "    \n",
    "    \n",
    "    chunkSize = int(len(predicates_data) / (numProcess))\n",
    "    print('Data Size: ', len(predicates_data))\n",
    "    print('number of threads: ', numProcess)\n",
    "\n",
    "    processes = []\n",
    "    for i in range(numProcess):\n",
    "        dataChunk = predicates_data[chunkSize*i : chunkSize*(i+1)]\n",
    "\n",
    "        p = mp.Process(target = replace_word_in_sentence, args = (dataChunk, i, tempFilesList, dict_content_word))\n",
    "        \n",
    "        p.start()\n",
    "        processes.append(p)\n",
    "        \n",
    "    for pr in processes:\n",
    "        pr.join()\n",
    "    \n",
    "    wrtPath = wriDir + '{}'.format(predicate_file.split('/')[-1].replace('mlm_', ''))\n",
    "    \n",
    "    # combining the files written by multiple processes into a single final file\n",
    "    with open(wrtPath, 'w') as f:\n",
    "        for file in tempFilesList:\n",
    "            with open(file, 'r') as r:\n",
    "                for line in r:\n",
    "                    sample =  json.loads(line)\n",
    "                    f.write('{}\\n'.format(json.dumps(sample)))\n",
    "            os.remove(file)\n",
    "        \n",
    "    print(\"Done file\", predicate_file)   \n"
   ]
  },
  {
   "cell_type": "code",
   "execution_count": 9,
   "metadata": {},
   "outputs": [],
   "source": [
    "import time\n",
    "import dask.dataframe as dd\n",
    "def read_and_convert_csv(file_path):\n",
    "    '''Read a CSV file and convert it to a dictionary.'''\n",
    "    data = read_csv(file_path)\n",
    "    return convert_to_dict_v1(data)\n",
    "\n",
    "file_paths = {\n",
    "    \"noun\": \"./list_content_word/NOUN.csv\",\n",
    "    \"verb\": \"./list_content_word/VERB.csv\",\n",
    "    \"adj\": \"./list_content_word/ADJ.csv\",\n",
    "    \"adv\": \"./list_content_word/ADV.csv\"\n",
    "}\n",
    "\n",
    "\n",
    "dict_content_word = {key: read_and_convert_csv(file_path) for key, file_path in file_paths.items()}\n"
   ]
  },
  {
   "cell_type": "code",
   "execution_count": null,
   "metadata": {},
   "outputs": [],
   "source": [
    "from mlm_utils.transform_func import get_files\n",
    "# wriDir = './pertured_data/'\n",
    "wriDir = '/mnt/c/Users/Phat Pham/Documents/THESIS/SRLPredictionEasel/MLM/data_mlm/process_folder'\n",
    "dataDir = './word_present_each_file/'\n",
    "files = get_files(dataDir)\n",
    "\n",
    "# for file in files:\n",
    "    \n",
    "create_new_data(dataDir + files[0], dict_content_word, wriDir)"
   ]
  },
  {
   "cell_type": "code",
   "execution_count": 8,
   "metadata": {},
   "outputs": [
    {
     "data": {
      "text/plain": [
       "128"
      ]
     },
     "execution_count": 8,
     "metadata": {},
     "output_type": "execute_result"
    }
   ],
   "source": [
    "l = [101, 170, 176, 118, 1106, 118, 170, 6468, 1120, 1103, 1148, 183, 21977, 26918, 23767, 1104, 27553, 1179, 123, 1104, 5351, 122, 8632, 2999, 188, 1643, 22548, 119, 102, 0, 0, 0, 0, 0, 0, 0, 0, 0, 0, 0, 0, 0, 0, 0, 0, 0, 0, 0, 0, 0, 0, 0, 0, 0, 0, 0, 0, 0, 0, 0, 0, 0, 0, 0, 0, 0, 0, 0, 0, 0, 0, 0, 0, 0, 0, 0, 0, 0, 0, 0, 0, 0, 0, 0, 0, 0, 0, 0, 0, 0, 0, 0, 0, 0, 0, 0, 0, 0, 0, 0, 0, 0, 0, 0, 0, 0, 0, 0, 0, 0, 0, 0, 0, 0, 0, 0, 0, 0, 0, 0, 0, 0, 0, 0, 0, 0, 0, 0]\n",
    "len(l)"
   ]
  },
  {
   "cell_type": "code",
   "execution_count": null,
   "metadata": {},
   "outputs": [],
   "source": []
  }
 ],
 "metadata": {
  "kernelspec": {
   "display_name": "min_ds-env",
   "language": "python",
   "name": "python3"
  },
  "language_info": {
   "codemirror_mode": {
    "name": "ipython",
    "version": 3
   },
   "file_extension": ".py",
   "mimetype": "text/x-python",
   "name": "python",
   "nbconvert_exporter": "python",
   "pygments_lexer": "ipython3",
   "version": "3.8.8"
  }
 },
 "nbformat": 4,
 "nbformat_minor": 2
}
