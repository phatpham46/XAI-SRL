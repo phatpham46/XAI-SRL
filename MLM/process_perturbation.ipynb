{
 "cells": [
  {
   "cell_type": "markdown",
   "metadata": {},
   "source": [
    "## Calculation influence, relevance and compentence score"
   ]
  },
  {
   "cell_type": "code",
   "execution_count": null,
   "metadata": {},
   "outputs": [],
   "source": [
    "\n",
    "!python metrics_calculation.py \\\n",
    "    --data_mask_dir './data_mlm/perturbed_data/avg_neg_cos/' \\\n",
    "    --data_origin_dir './data_mlm/process_folder/coNLL_tsv_json/ner_json/'  \\\n",
    "    --model_path '../output/multi_task_model_9_13050.pt' \\\n",
    "    --log_name \"comp_avg_neg_cos\" \n"
   ]
  },
  {
   "cell_type": "code",
   "execution_count": null,
   "metadata": {},
   "outputs": [],
   "source": []
  }
 ],
 "metadata": {
  "kernelspec": {
   "display_name": "min_ds-env",
   "language": "python",
   "name": "python3"
  },
  "language_info": {
   "codemirror_mode": {
    "name": "ipython",
    "version": 3
   },
   "file_extension": ".py",
   "mimetype": "text/x-python",
   "name": "python",
   "nbconvert_exporter": "python",
   "pygments_lexer": "ipython3",
   "version": "3.8.8"
  }
 },
 "nbformat": 4,
 "nbformat_minor": 2
}
