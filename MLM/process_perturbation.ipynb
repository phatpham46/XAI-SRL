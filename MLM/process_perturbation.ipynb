{
 "cells": [
  {
   "cell_type": "markdown",
   "metadata": {},
   "source": [
    "## Calculation influence, relevance and compentence score"
   ]
  },
  {
   "cell_type": "code",
   "execution_count": 7,
   "metadata": {},
   "outputs": [
    {
     "name": "stdout",
     "output_type": "stream",
     "text": [
      "2024-05-30 00:22:48.827969: I tensorflow/core/util/port.cc:110] oneDNN custom operations are on. You may see slightly different numerical results due to floating-point round-off errors from different computation orders. To turn them off, set the environment variable `TF_ENABLE_ONEDNN_OPTS=0`.\n",
      "2024-05-30 00:22:48.872258: I tensorflow/core/platform/cpu_feature_guard.cc:182] This TensorFlow binary is optimized to use available CPU instructions in performance-critical operations.\n",
      "To enable the following instructions: AVX2 AVX512F AVX512_VNNI FMA, in other operations, rebuild TensorFlow with the appropriate compiler flags.\n",
      "2024-05-30 00:22:49.854663: W tensorflow/compiler/tf2tensorrt/utils/py_utils.cc:38] TF-TRT Warning: Could not find TensorRT\n",
      "/home/phatpham/anaconda3/envs/min_ds-env/lib/python3.8/site-packages/torch/cuda/__init__.py:546: UserWarning: Can't initialize NVML\n",
      "  warnings.warn(\"Can't initialize NVML\")\n",
      "2024-05-30 00:22:51.877027: E tensorflow/compiler/xla/stream_executor/cuda/cuda_driver.cc:268] failed call to cuInit: CUDA_ERROR_NO_DEVICE: no CUDA-capable device is detected\n",
      "100%|███████████████████████████████████████████| 32/32 [02:30<00:00,  4.69s/it]\n",
      "100%|█████████████████████████████████████████████| 4/4 [00:20<00:00,  5.01s/it]\n",
      "100%|███████████████████████████████████████████| 49/49 [03:12<00:00,  3.93s/it]\n",
      "100%|█████████████████████████████████████████████| 5/5 [00:39<00:00,  7.97s/it]\n",
      "  6%|██▌                                         | 4/69 [00:15<04:12,  3.89s/it]^C\n",
      "  6%|██▌                                         | 4/69 [00:16<04:20,  4.02s/it]\n",
      "Traceback (most recent call last):\n",
      "  File \"metrics_calculation.py\", line 183, in <module>\n",
      "    logger.info(\"Done Visualization.\")\n",
      "  File \"metrics_calculation.py\", line 168, in main\n",
      "    args.model_path))\n",
      "  File \"metrics_calculation.py\", line 104, in get_comp_each_arg\n",
      "    resultwordMasked = get_word(dataMaskedDir, mask, model, labelRn, hasTrueLabels=False, needMetrics=False)\n",
      "  File \"metrics_calculation.py\", line 47, in get_word\n",
      "    result = dataMaker.evaluate(model, labelRn, wrtPredPath=file_name, wrtDir=wrtDir, returnPreds=True, hasTrueLabels=hasTrueLabels, needMetrics=needMetrics)\n",
      "  File \"/mnt/c/Users/Phat Pham/Documents/THESIS/SRLPredictionEasel/MLM/data_maker.py\", line 88, in evaluate\n",
      "    allOriginUIDs, allPreds, allScores, allLogitsSoftmax, allLogitsRaw, allLabels = self.get_predictions(model)\n",
      "  File \"/mnt/c/Users/Phat Pham/Documents/THESIS/SRLPredictionEasel/MLM/data_maker.py\", line 38, in get_predictions\n",
      "    _, logits = model.network(token_id, type_id, mask, 0, 'conllsrl')\n",
      "  File \"/home/phatpham/anaconda3/envs/min_ds-env/lib/python3.8/site-packages/torch/nn/modules/module.py\", line 1501, in _call_impl\n",
      "    return forward_call(*args, **kwargs)\n",
      "  File \"../SRL/model.py\", line 86, in forward\n",
      "    outputs = self.sharedModel(input_ids = tokenIds, token_type_ids = typeIds, attention_mask = attentionMasks)\n",
      "  File \"/home/phatpham/anaconda3/envs/min_ds-env/lib/python3.8/site-packages/torch/nn/modules/module.py\", line 1501, in _call_impl\n",
      "    return forward_call(*args, **kwargs)\n",
      "  File \"/home/phatpham/anaconda3/envs/min_ds-env/lib/python3.8/site-packages/transformers/models/bert/modeling_bert.py\", line 1022, in forward\n",
      "    encoder_outputs = self.encoder(\n",
      "  File \"/home/phatpham/anaconda3/envs/min_ds-env/lib/python3.8/site-packages/torch/nn/modules/module.py\", line 1501, in _call_impl\n",
      "    return forward_call(*args, **kwargs)\n",
      "  File \"/home/phatpham/anaconda3/envs/min_ds-env/lib/python3.8/site-packages/transformers/models/bert/modeling_bert.py\", line 612, in forward\n",
      "    layer_outputs = layer_module(\n",
      "  File \"/home/phatpham/anaconda3/envs/min_ds-env/lib/python3.8/site-packages/torch/nn/modules/module.py\", line 1501, in _call_impl\n",
      "    return forward_call(*args, **kwargs)\n",
      "  File \"/home/phatpham/anaconda3/envs/min_ds-env/lib/python3.8/site-packages/transformers/models/bert/modeling_bert.py\", line 497, in forward\n",
      "    self_attention_outputs = self.attention(\n",
      "  File \"/home/phatpham/anaconda3/envs/min_ds-env/lib/python3.8/site-packages/torch/nn/modules/module.py\", line 1501, in _call_impl\n",
      "    return forward_call(*args, **kwargs)\n",
      "  File \"/home/phatpham/anaconda3/envs/min_ds-env/lib/python3.8/site-packages/transformers/models/bert/modeling_bert.py\", line 427, in forward\n",
      "    self_outputs = self.self(\n",
      "  File \"/home/phatpham/anaconda3/envs/min_ds-env/lib/python3.8/site-packages/torch/nn/modules/module.py\", line 1501, in _call_impl\n",
      "    return forward_call(*args, **kwargs)\n",
      "  File \"/home/phatpham/anaconda3/envs/min_ds-env/lib/python3.8/site-packages/transformers/models/bert/modeling_bert.py\", line 286, in forward\n",
      "    mixed_query_layer = self.query(hidden_states)\n",
      "  File \"/home/phatpham/anaconda3/envs/min_ds-env/lib/python3.8/site-packages/torch/nn/modules/module.py\", line 1501, in _call_impl\n",
      "    return forward_call(*args, **kwargs)\n",
      "  File \"/home/phatpham/anaconda3/envs/min_ds-env/lib/python3.8/site-packages/torch/nn/modules/linear.py\", line 114, in forward\n",
      "    return F.linear(input, self.weight, self.bias)\n",
      "KeyboardInterrupt\n"
     ]
    }
   ],
   "source": [
    "\n",
    "!python metrics_calculation.py \\\n",
    "    --data_mask_dir './data_mlm/perturbed_data/avg_neg_cos/' \\\n",
    "    --data_origin_dir './data_mlm/process_folder/coNLL_tsv_json/ner_json/'  \\\n",
    "    --model_path '../output/multi_task_model_9_13050.pt' \\\n",
    "    --log_name \"comp_avg_neg_cos\" \n"
   ]
  },
  {
   "cell_type": "code",
   "execution_count": null,
   "metadata": {},
   "outputs": [],
   "source": []
  }
 ],
 "metadata": {
  "kernelspec": {
   "display_name": "min_ds-env",
   "language": "python",
   "name": "python3"
  },
  "language_info": {
   "codemirror_mode": {
    "name": "ipython",
    "version": 3
   },
   "file_extension": ".py",
   "mimetype": "text/x-python",
   "name": "python",
   "nbconvert_exporter": "python",
   "pygments_lexer": "ipython3",
   "version": "3.8.8"
  }
 },
 "nbformat": 4,
 "nbformat_minor": 2
}
