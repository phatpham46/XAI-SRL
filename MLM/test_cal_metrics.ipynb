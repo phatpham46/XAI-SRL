{
 "cells": [
  {
   "cell_type": "code",
   "execution_count": 7,
   "metadata": {},
   "outputs": [
    {
     "name": "stderr",
     "output_type": "stream",
     "text": [
      "/home/phatpham/anaconda3/envs/min_ds-env/lib/python3.8/site-packages/torch/cuda/__init__.py:546: UserWarning: Can't initialize NVML\n",
      "  warnings.warn(\"Can't initialize NVML\")\n",
      "2024-05-23 11:25:20.153597: I tensorflow/core/util/port.cc:110] oneDNN custom operations are on. You may see slightly different numerical results due to floating-point round-off errors from different computation orders. To turn them off, set the environment variable `TF_ENABLE_ONEDNN_OPTS=0`.\n",
      "2024-05-23 11:25:20.676903: I tensorflow/core/platform/cpu_feature_guard.cc:182] This TensorFlow binary is optimized to use available CPU instructions in performance-critical operations.\n",
      "To enable the following instructions: AVX2 AVX512F AVX512_VNNI FMA, in other operations, rebuild TensorFlow with the appropriate compiler flags.\n",
      "2024-05-23 11:25:22.171570: W tensorflow/compiler/tf2tensorrt/utils/py_utils.cc:38] TF-TRT Warning: Could not find TensorRT\n",
      "2024-05-23 11:25:24.396883: E tensorflow/compiler/xla/stream_executor/cuda/cuda_driver.cc:268] failed call to cuInit: CUDA_ERROR_NO_DEVICE: no CUDA-capable device is detected\n",
      "/home/phatpham/anaconda3/envs/min_ds-env/lib/python3.8/site-packages/tqdm/auto.py:22: TqdmWarning: IProgress not found. Please update jupyter and ipywidgets. See https://ipywidgets.readthedocs.io/en/stable/user_install.html\n",
      "  from .autonotebook import tqdm as notebook_tqdm\n"
     ]
    }
   ],
   "source": [
    "import json\n",
    "import os\n",
    "from pathlib import Path\n",
    "import sys\n",
    "sys.path.append('..')\n",
    "from mlm_utils.transform_func import encode_text\n"
   ]
  },
  {
   "cell_type": "markdown",
   "metadata": {},
   "source": [
    "### load finetuned model"
   ]
  },
  {
   "cell_type": "code",
   "execution_count": 3,
   "metadata": {},
   "outputs": [
    {
     "name": "stdout",
     "output_type": "stream",
     "text": [
      "Model Name:  bert\n"
     ]
    }
   ],
   "source": [
    "import torch\n",
    "import sys\n",
    "sys.path.append('..')\n",
    "from utils.data_utils import NLP_MODELS\n",
    "from utils.task_utils import TasksParam\n",
    "from SRL.model import multiTaskModel\n",
    "model_file = Path('/mnt/c/Users/Phat Pham/Documents/THESIS/SRLPredictionEasel/output/multi_task_model_9_13050.pt')\n",
    "\n",
    "\n",
    "def load_params(model_file):\n",
    "    device = torch.device(\"cuda:0\" if torch.cuda.is_available() else \"cpu\")\n",
    "    # Load finetuned model \n",
    "    loadedDict = torch.load(model_file, map_location=torch.device(device))\n",
    "    \n",
    "    taskParams = loadedDict['task_params']\n",
    "   \n",
    "    # tempTaskParams = TasksParam('/mnt/c/Users/Phat Pham/Documents/THESIS/SRLPredictionEasel/SRL/tasks_file_SRL.yml')\n",
    "    #transfering the names of file in new task file to loaded task params\n",
    "    # for taskId, taskName in taskParams.taskIdNameMap.items():\n",
    "       \n",
    "    #     assert taskName in tempTaskParams.taskIdNameMap.values(), \"task names changed in task file given.\\\n",
    "    #     tasks supported for loaded model are {}\".format(list(taskParams.taskIdNameMap.values()))\n",
    "\n",
    "    #     taskParams.fileNamesMap[taskName] = tempTaskParams.fileNamesMap[taskName]\n",
    "    allParams = {}\n",
    "    allParams['task_params'] = taskParams\n",
    "    allParams['gpu'] = torch.cuda.is_available()\n",
    "    \n",
    "    # dummy values\n",
    "    allParams['num_train_steps'] = 13050\n",
    "    allParams['warmup_steps'] = 0\n",
    "    allParams['learning_rate'] = 2e-05\n",
    "    allParams['epsilon'] = 1e-8\n",
    "\n",
    "    modelName = taskParams.modelType.name.lower()\n",
    "    print(\"Model Name: \", modelName)\n",
    "    _, _ , tokenizerClass, defaultName = NLP_MODELS[modelName]\n",
    "    configName = taskParams.modelConfig\n",
    "    if configName is None:\n",
    "        configName = defaultName\n",
    "\n",
    "    return allParams, loadedDict\n",
    "\n",
    "a = load_params(model_file)\n",
    "model = multiTaskModel(a[0])\n",
    "model.load_multi_task_model(a[1])"
   ]
  },
  {
   "cell_type": "code",
   "execution_count": 52,
   "metadata": {},
   "outputs": [],
   "source": [
    "def convert_save_json(data, wriDir, write_file):\n",
    "    def encode_sentence(sentence):\n",
    "        encode_data = encode_text(sentence['avg_neg_cos'])\n",
    "        feature = {'uid': sentence['origin_uid'], \n",
    "                    'token_id': encode_data['input_ids'][0].tolist(),\n",
    "                    'type_id': encode_data['token_type_ids'][0].tolist(),\n",
    "                    'mask': encode_data['attention_mask'][0].tolist(),\n",
    "                    'pos_tag_id': sentence['pos_tag_id']\n",
    "                    }\n",
    "        return feature\n",
    "    features = list(map(encode_sentence, data))\n",
    "    \n",
    "    with open(os.path.join(wriDir, write_file) , 'w') as f:\n",
    "        for item in features:\n",
    "            f.write('{}\\n'.format(json.dumps(item)))\n",
    "            \n",
    " \n",
    "# function to split each file into train, dev, test, concatenate all train files into one file.\n",
    "def split_train_dev_test(data, wriDir, write_file, type_file):\n",
    "    def encode_sentence(sentence, type_file):\n",
    "        encode_data = encode_text(sentence[type_file])\n",
    "        feature = {'uid': sentence['origin_uid'], \n",
    "                    'token_id': encode_data['input_ids'][0].tolist(),\n",
    "                    'type_id': encode_data['token_type_ids'][0].tolist(),\n",
    "                    'mask': encode_data['attention_mask'][0].tolist(),\n",
    "                    'pos_tag_id': sentence['pos_tag_id'],\n",
    "                    'label': sentence['label']\n",
    "                    }\n",
    "        return feature\n",
    "    features = list(map(lambda x: encode_sentence(x, type_file), data))\n",
    "    # split data into train, dev, test: 60%, 20%, 20%\n",
    "    train = features[:int(len(features)*0.6)]\n",
    "    dev = features[int(len(features)*0.6):int(len(features)*0.8)]\n",
    "    test = features[int(len(features)*0.8):]\n",
    "    \n",
    "    wrt_dev = 'dev_{}'.format(write_file)\n",
    "    wrt_test = 'test_{}'.format(write_file)\n",
    "    \n",
    "    with open(os.path.join(wriDir, wrt_dev) , 'w') as f:\n",
    "        for item in dev:\n",
    "            f.write('{}\\n'.format(json.dumps(item))) \n",
    "            \n",
    "    with open(os.path.join(wriDir, wrt_test) , 'w') as f:\n",
    "        for item in test:\n",
    "            f.write('{}\\n'.format(json.dumps(item)))          \n",
    "    \n",
    "    return train, dev, test"
   ]
  },
  {
   "cell_type": "code",
   "execution_count": 53,
   "metadata": {},
   "outputs": [],
   "source": [
    "# read masked_data_text\n",
    "from pathlib import Path\n",
    "import os\n",
    "dataDir = Path('./data_mlm/perturbed_data')\n",
    "labelDir = Path('/mnt/c/Users/Phat Pham/Documents/THESIS/SRLPredictionEasel/MLM/data_mlm/process_folder/coNLL_tsv_json/modify_label_prepared_data')\n",
    "def create_data_perturbation(dataDir, labelDir, type_file):\n",
    "    train_data = []\n",
    "    dev_data = []\n",
    "    test_data = []\n",
    "    dataMaskedDir = dataDir / Path('masked_data_text')\n",
    "    \n",
    "    wrtDir = dataDir / Path(type_file)\n",
    "    # create directory if not exist\n",
    "    if not os.path.exists(wrtDir):\n",
    "        os.makedirs(wrtDir)\n",
    "        \n",
    "    for data_file, label_file in zip(os.listdir(dataMaskedDir), os.listdir(labelDir)):\n",
    "        with open(os.path.join(dataMaskedDir, data_file), 'r') as f, open(os.path.join(labelDir, label_file), 'r') as f1:\n",
    "            data = [json.loads(line) for line in f]  \n",
    "            data_label = [json.loads(line) for line in f1]\n",
    "            \n",
    "            \n",
    "            # check if origin uid is the same, then add label to data\n",
    "            # Create a dictionary from data_label for quick lookup\n",
    "            label_dict = {int(item['uid']): item['label'] for item in data_label}\n",
    "\n",
    "            # assign label from data_label if uid matches\n",
    "            for item in data:\n",
    "                uid = item['origin_uid']\n",
    "                \n",
    "                if uid in label_dict:\n",
    "                \n",
    "                    item['label'] = label_dict[uid]\n",
    "               \n",
    "        data_splited = split_train_dev_test(data, wrtDir, data_file, type_file)\n",
    "        train_data.extend(data_splited[0])\n",
    "        dev_data.extend(data_splited[1])\n",
    "        test_data.extend(data_splited[2])\n",
    "    \n",
    "    # write train data\n",
    "    with open(os.path.join(wrtDir, 'train.json') , 'w') as f:\n",
    "        for item in train_data:\n",
    "            f.write('{}\\n'.format(json.dumps(item)))\n",
    "    \n",
    "    # write dev data\n",
    "    with open(os.path.join(wrtDir, 'dev.json') , 'w') as f:\n",
    "        for item in dev_data:\n",
    "            f.write('{}\\n'.format(json.dumps(item)))\n",
    "            \n",
    "    # write test data\n",
    "    with open(os.path.join(wrtDir, 'test.json') , 'w') as f:\n",
    "        for item in test_data:\n",
    "            f.write('{}\\n'.format(json.dumps(item)))\n",
    "\n"
   ]
  },
  {
   "cell_type": "code",
   "execution_count": 54,
   "metadata": {},
   "outputs": [
    {
     "name": "stdout",
     "output_type": "stream",
     "text": [
      "Processing type file:  sum_neg_cos\n",
      "Processing type file:  avg_neg_cos\n",
      "Processing type file:  sum_pos_cos\n",
      "Processing type file:  avg_pos_cos\n",
      "Processing type file:  sum_neg_cos_module\n",
      "Processing type file:  avg_neg_cos_module\n",
      "Processing type file:  sum_pos_cos_module\n",
      "Processing type file:  avg_pos_cos_module\n"
     ]
    }
   ],
   "source": [
    "type_files = ['sum_neg_cos', 'avg_neg_cos', 'sum_pos_cos', 'avg_pos_cos', 'sum_neg_cos_module', 'avg_neg_cos_module', 'sum_pos_cos_module', 'avg_pos_cos_module']\n",
    "for type_file in type_files:\n",
    "    print('Processing type file: ', type_file)\n",
    "    create_data_perturbation(dataDir, labelDir, type_file)"
   ]
  },
  {
   "cell_type": "markdown",
   "metadata": {},
   "source": [
    "### training srl with pertubed data"
   ]
  },
  {
   "cell_type": "code",
   "execution_count": null,
   "metadata": {},
   "outputs": [],
   "source": [
    "!python ../train.py \\\n",
    "    --data_dir './data_mlm/perturbed_data/avg_neg_cos' \\\n",
    "    --task_file '../SRL/srl_perturbation.yml' \\\n",
    "    --out_dir './output_srl_perturb_data' \\\n",
    "    --epochs 10 \\\n",
    "    --train_batch_size 32 \\\n",
    "    --eval_batch_size 32 \\\n",
    "    --grad_accumulation_steps 1 \\\n",
    "    --log_per_updates 50 \\\n",
    "    --max_seq_len 85 \\\n",
    "    --eval_while_train \\\n",
    "    --test_while_train \\\n",
    "    --silent \\\n",
    "    "
   ]
  },
  {
   "cell_type": "markdown",
   "metadata": {},
   "source": [
    "### get data mask\n"
   ]
  },
  {
   "cell_type": "code",
   "execution_count": 8,
   "metadata": {},
   "outputs": [],
   "source": [
    "\n",
    "import numpy as np\n",
    "import sys\n",
    "\n",
    "import pandas as pd\n",
    "sys.path.append('../')\n",
    "from data_preparation import * \n",
    "from mlm_utils.pertured_dataset import PerturedDataset\n",
    "import torch.nn as nn\n",
    "import math\n",
    "import os\n",
    "import torch\n",
    "from utils.eval_metrics import seqeval_f1_score\n",
    "class DataMaker():\n",
    "    def __init__(self, data_file, eval_batch_size=32, max_seq_len=85, seed=42):\n",
    "        self.data_file = data_file\n",
    "        \n",
    "        self.eval_batch_size = eval_batch_size\n",
    "        self.max_seq_len = max_seq_len\n",
    "        self.seed = seed\n",
    "        self.device = torch.device(\"cuda:0\" if torch.cuda.is_available() else \"cpu\")\n",
    "        assert os.path.exists(self.data_file), \"prediction tsv file not present at {}\".format(self.data_file)\n",
    "        \n",
    "        self.dataset = PerturedDataset(self.data_file, self.device)\n",
    "        self.dataloader = self.dataset.generate_batches(self.dataset, self.eval_batch_size)\n",
    "       \n",
    "    def get_predictions(self, model):\n",
    "        model.network.eval()\n",
    "        \n",
    "        allPreds = []\n",
    "        allScores = []\n",
    "        allLogitsSoftmax = []\n",
    "        allLogitsRaw = []\n",
    "        allLabels = []\n",
    "        allOriginUIDs = []\n",
    "        for batch in tqdm(self.dataloader, total = len(self.dataloader)):\n",
    "            batch = tuple(t.to(self.device) if isinstance(t, torch.Tensor) else t for t in batch)\n",
    "\n",
    "            origin_uid, token_id, type_id, mask, label, pos_tag_id = batch\n",
    "            with torch.no_grad():\n",
    "                _, logits = model.network(token_id, type_id, mask, 0, 'conllsrl')\n",
    "\n",
    "               \n",
    "                outLogitsSoftmax = nn.functional.softmax(logits, dim = 2).data.cpu().numpy()\n",
    "                \n",
    "                outLogitsSigmoid = nn.functional.sigmoid(logits).data.cpu().numpy()\n",
    "                \n",
    "                predicted_sm = np.argmax(outLogitsSoftmax, axis = 2)\n",
    "                \n",
    "\n",
    "                # here in score, we only want to give out the score of the class of tag, which is maximum\n",
    "                predScore = np.max(outLogitsSigmoid, axis = 2).tolist() \n",
    "                \n",
    "                predicted_sm = predicted_sm.tolist()\n",
    "                \n",
    "                # get the attention masks, we need to discard the predictions made for extra padding\n",
    "                \n",
    "                predictedTags = []\n",
    "                predScoreTags = []\n",
    "                \n",
    "                if mask is not None:\n",
    "                    #shape of attention Masks (batchSize, maxSeqLen)\n",
    "                    actualLengths = mask.cpu().numpy().sum(axis = 1).tolist()\n",
    "                \n",
    "                    for i, (pred, sc) in enumerate(zip(predicted_sm, predScore)):\n",
    "                        predictedTags.append( pred[:actualLengths[i]] )\n",
    "                        predScoreTags.append( sc[:actualLengths[i]])\n",
    "        \n",
    "                else:\n",
    "                    predictedTags = predicted_sm\n",
    "                    predScoreTags = predScore\n",
    "                \n",
    "                allPreds.append(predictedTags)  \n",
    "                allScores.append(predScoreTags)  \n",
    "                allLogitsSoftmax.append(outLogitsSoftmax)\n",
    "                allLabels.append(label.tolist())\n",
    "                allLogitsRaw.append(logits.data.cpu().numpy())\n",
    "                allOriginUIDs.append(origin_uid)\n",
    "            \n",
    "        allOriginUIDs = [item for sublist in allOriginUIDs for item in sublist]\n",
    "        allPreds = [item for sublist in allPreds for item in sublist]\n",
    "        allScores = [item for sublist in allScores for item in sublist]\n",
    "        allLogitsSoftmax = [item for sublist in allLogitsSoftmax for item in sublist]\n",
    "        allLogitsRaw = [item for sublist in allLogitsRaw for item in sublist]\n",
    "        allLabels = [item for sublist in allLabels for item in sublist]\n",
    "\n",
    "        return allOriginUIDs, allPreds, allScores, allLogitsSoftmax, allLogitsRaw, allLabels\n",
    "\n",
    "  \n",
    "    \n",
    "    def evaluate(self, model, labMapRevN, wrtPredPath=None, wrtDir=None, returnPreds=True, hasTrueLabels=True, needMetrics=True):\n",
    "        allOriginUIDs, allPreds, allScores, allLogitsSoftmax, allLogitsRaw, allLabels = self.get_predictions(model)\n",
    "        \n",
    "        for j, (p, l) in enumerate(zip(allPreds, allLabels)):\n",
    "            allLabels[j] = l[:len(p)]\n",
    "            allPreds[j] = [labMapRevN[int(ele)] for ele in p]\n",
    "            allLabels[j] = [labMapRevN[int(ele)] for ele in allLabels[j]]\n",
    "        #allPreds[i] = [ [ labMapRev[int(p)] for p in pp ] for pp in allPreds[i] ]\n",
    "        #allLabels[i] = [ [labMapRev[int(l)] for l in ll] for ll in allLabels[i] ]\n",
    "\n",
    "        newPreds = []\n",
    "        newLabels = []\n",
    "        newScores = []\n",
    "        newLogitsSoftmax = []\n",
    "        for m, samp in enumerate(allLabels):\n",
    "            Preds = []\n",
    "            Labels = []\n",
    "            Scores = []\n",
    "            LogitsSm = []\n",
    "            for n, ele in enumerate(samp):\n",
    "                #print(ele)\n",
    "                if ele != '[CLS]' and ele != '[SEP]' and ele != 'X':\n",
    "                  \n",
    "                    Preds.append(allPreds[m][n])\n",
    "                    Labels.append(ele)\n",
    "                    Scores.append(allScores[m][n])\n",
    "                    LogitsSm.append(allLogitsSoftmax[m][n])\n",
    "                    \n",
    "            newPreds.append(Preds)\n",
    "            newLabels.append(Labels)\n",
    "            newScores.append(Scores)\n",
    "            newLogitsSoftmax.append(LogitsSm)\n",
    "        \n",
    "        allLabels = newLabels\n",
    "        allPreds = newPreds\n",
    "        allScores = newScores    \n",
    "        allLogitsSoftmax = newLogitsSoftmax        \n",
    "        \n",
    "        if needMetrics:\n",
    "        \n",
    "            print(\"**********Evaluation************\\n\")\n",
    "            \n",
    "            metricVal = seqeval_f1_score(allLabels, allPreds)\n",
    "            print(\"F1 Score: \", metricVal)\n",
    "        \n",
    "        # flatten allPreds, allScores\n",
    "        if wrtPredPath is not None and wrtDir is not None:\n",
    "            for i in range(len(allPreds)):\n",
    "                if allPreds[i] == []:\n",
    "                    continue\n",
    "                if hasTrueLabels:\n",
    "                    df = pd.DataFrame({\"uid\" : allOriginUIDs[i], \"prediction\" : allPreds[i], \"label\" : allLabels[i]})\n",
    "                    savePath = os.path.join(wrtDir, \"origin_{}\".format(wrtPredPath))\n",
    "                else:\n",
    "                    df = pd.DataFrame({\"uid\" : allOriginUIDs[i], \"prediction\" : allPreds[i]})\n",
    "                    savePath = os.path.join(wrtDir, \"masked_{}\".format(wrtPredPath))\n",
    "\n",
    "            df.to_csv(savePath, sep = \"\\t\", index = False)\n",
    "        \n",
    "        if returnPreds:\n",
    "            return allOriginUIDs, allPreds, allScores, allLogitsSoftmax, allLogitsRaw, allLabels    "
   ]
  },
  {
   "cell_type": "code",
   "execution_count": 18,
   "metadata": {},
   "outputs": [
    {
     "name": "stderr",
     "output_type": "stream",
     "text": [
      "  0%|          | 0/17 [00:00<?, ?it/s]"
     ]
    },
    {
     "name": "stdout",
     "output_type": "stream",
     "text": [
      "huggingface/tokenizers: The current process just got forked, after parallelism has already been used. Disabling parallelism to avoid deadlocks...\n",
      "To disable this warning, you can either:\n",
      "\t- Avoid using `tokenizers` before the fork if possible\n",
      "\t- Explicitly set the environment variable TOKENIZERS_PARALLELISM=(true | false)\n",
      "huggingface/tokenizers: The current process just got forked, after parallelism has already been used. Disabling parallelism to avoid deadlocks...\n",
      "To disable this warning, you can either:\n",
      "\t- Avoid using `tokenizers` before the fork if possible\n",
      "\t- Explicitly set the environment variable TOKENIZERS_PARALLELISM=(true | false)\n",
      "huggingface/tokenizers: The current process just got forked, after parallelism has already been used. Disabling parallelism to avoid deadlocks...\n",
      "To disable this warning, you can either:\n",
      "\t- Avoid using `tokenizers` before the fork if possible\n",
      "\t- Explicitly set the environment variable TOKENIZERS_PARALLELISM=(true | false)\n"
     ]
    },
    {
     "name": "stderr",
     "output_type": "stream",
     "text": [
      "100%|██████████| 17/17 [01:01<00:00,  3.62s/it]\n"
     ]
    }
   ],
   "source": [
    "# import os\n",
    "# from pathlib import Path\n",
    "# from data_maker import DataMaker\n",
    "\n",
    "dataMaker = DataMaker(\n",
    "    data_file= os.path.join(dataMaskedDir,'avg_neg_cos_decrease_2.json')\n",
    ")\n",
    "wrtPredPath = 'prediction_decrease_2_full.tsv'\n",
    "wrtDir = './mlm_prediction'\n",
    "labelMap = a[0]['task_params'].labelMap['conllsrl']\n",
    "labelMap = {v:k for k,v in labelMap.items()}\n",
    "\n",
    "resultwordMasked  = dataMaker.evaluate(model, labelMap, wrtPredPath=wrtPredPath, wrtDir=wrtDir, returnPreds=True, hasTrueLabels=False, needMetrics=False)\n",
    "resultwordMasked = {\n",
    "    'uid': resultwordMasked[0],\n",
    "    'pred': resultwordMasked[1],\n",
    "    'score': resultwordMasked[2],\n",
    "    'logitsSoftmax': resultwordMasked[3],\n",
    "    'logitsRaw': resultwordMasked[4],\n",
    "    'dummy_label': resultwordMasked[5] \n",
    "}"
   ]
  },
  {
   "cell_type": "code",
   "execution_count": 6,
   "metadata": {},
   "outputs": [],
   "source": [
    "labelMap = a[0]['task_params'].labelMap['conllsrl']\n",
    "labelMap = {v:k for k,v in labelMap.items()}\n"
   ]
  },
  {
   "cell_type": "code",
   "execution_count": 9,
   "metadata": {},
   "outputs": [
    {
     "name": "stderr",
     "output_type": "stream",
     "text": [
      "  0%|          | 0/8 [00:00<?, ?it/s]"
     ]
    },
    {
     "name": "stderr",
     "output_type": "stream",
     "text": [
      "100%|██████████| 8/8 [00:14<00:00,  1.80s/it]"
     ]
    },
    {
     "name": "stdout",
     "output_type": "stream",
     "text": [
      "**********Evaluation************\n",
      "\n",
      "F1 Score:  0.6805399325084365\n"
     ]
    },
    {
     "name": "stderr",
     "output_type": "stream",
     "text": [
      "\n",
      "/home/phatpham/anaconda3/envs/min_ds-env/lib/python3.8/site-packages/seqeval/metrics/sequence_labeling.py:171: UserWarning: X seems not to be NE tag.\n",
      "  warnings.warn('{} seems not to be NE tag.'.format(chunk))\n"
     ]
    }
   ],
   "source": [
    "dataOriginDir = Path('/mnt/c/Users/Phat Pham/Documents/THESIS/SRLPredictionEasel/data/coNLL_tsv/dmis-lab/biobert-base-cased-v1.2_prepared_data')\n",
    "dataMaker = DataMaker(\n",
    "    data_file= os.path.join(dataOriginDir,'ner_conll_testb_alter.json')\n",
    ")\n",
    "\n",
    "wrtPredPath = 'prediction_decrease_2_full.tsv'\n",
    "wrtDir = './mlm_prediction'\n",
    "resultwordOrigin  = dataMaker.evaluate(model, labelMap, wrtPredPath=wrtPredPath, wrtDir=wrtDir, returnPreds=True, hasTrueLabels=True, needMetrics=True)\n",
    "resultwordOrigin = {\n",
    "    'uid': resultwordOrigin[0],\n",
    "    'pred': resultwordOrigin[1],\n",
    "    'score': resultwordOrigin[2],\n",
    "    'logitsSoftmax': resultwordOrigin[3],\n",
    "    'logitsRaw': resultwordOrigin[4],\n",
    "    'label': resultwordOrigin[5]  \n",
    "}\n"
   ]
  },
  {
   "cell_type": "code",
   "execution_count": 20,
   "metadata": {},
   "outputs": [],
   "source": [
    "import numpy as np\n",
    "import torch\n",
    "\n",
    "def get_idx_arg_preds(preds_origin, preds_masked, label_origin=None): # label_origin: nhãn gold\n",
    "    list_idx_arg_change = []\n",
    " \n",
    "    assert len(preds_origin) == len(preds_masked)\n",
    "    for i in range(len(preds_masked)):\n",
    "        test = preds_origin[i].startswith('B-A') or preds_origin[i].startswith('I-A') or preds_masked[i].startswith('B-A') or preds_masked[i].startswith('I-A')\n",
    "        if label_origin:\n",
    "            assert len(preds_origin) == len(label_origin), 'Length of preds_origin and label_origin must be the same'\n",
    "            if test or label_origin[i].startswith('B-A') or label_origin[i].startswith('I-A'):\n",
    "                list_idx_arg_change.append(i)\n",
    "        else:\n",
    "            if test:\n",
    "                list_idx_arg_change.append(i)\n",
    "   \n",
    "    return list_idx_arg_change\n",
    "\n",
    "def calculateInfluenceScore(outLogitsSigmoid_original, outLogitsSigmoid_meddle, list_arg_change):\n",
    "    influence_score = []\n",
    "    weight = []\n",
    "    # assert len(outLogitsSigmoid_original) == len(outLogitsSigmoid_meddle) \n",
    "    for i in range(len(outLogitsSigmoid_original) if len(outLogitsSigmoid_original) < len(outLogitsSigmoid_meddle) else len(outLogitsSigmoid_meddle)):\n",
    "        if i not in list_arg_change:\n",
    "            continue\n",
    "        max_index_original = np.argmax(outLogitsSigmoid_original[i])\n",
    "        max_index_meddle = np.argmax(outLogitsSigmoid_meddle[i])\n",
    "        if max_index_original == max_index_meddle:\n",
    "            influence_score.append((outLogitsSigmoid_original[i][max_index_original] - outLogitsSigmoid_meddle[i][max_index_meddle]) / max(outLogitsSigmoid_original[i][max_index_original], outLogitsSigmoid_meddle[i][max_index_meddle]))\n",
    "            weight.append(1)\n",
    "        else:\n",
    "            influ_old_label = (outLogitsSigmoid_original[i][max_index_original] - outLogitsSigmoid_meddle[i][max_index_original]) / max(outLogitsSigmoid_original[i][max_index_original], outLogitsSigmoid_meddle[i][max_index_original])\n",
    "            influ_new_label = (outLogitsSigmoid_meddle[i][max_index_meddle] - outLogitsSigmoid_original[i][max_index_meddle]) / max(outLogitsSigmoid_original[i][max_index_meddle], outLogitsSigmoid_meddle[i][max_index_meddle])\n",
    "            influence_score.append(influ_old_label + influ_new_label)\n",
    "            weight.append(2)\n",
    "    return influence_score, weight"
   ]
  },
  {
   "cell_type": "code",
   "execution_count": 21,
   "metadata": {},
   "outputs": [
    {
     "name": "stdout",
     "output_type": "stream",
     "text": [
      "tensor(17) 17\n"
     ]
    }
   ],
   "source": [
    "print(resultwordMasked['uid'][11], resultwordOrigin['uid'][17])"
   ]
  },
  {
   "cell_type": "code",
   "execution_count": 22,
   "metadata": {},
   "outputs": [],
   "source": [
    "# from sklearn.metrics import f1_score\n",
    "# y_true = [item for sublist in resultwordOrigin['label'] for item in sublist]\n",
    "# y_pred = [item for sublist in resultwordOrigin['pred'] for item in sublist]\n",
    "# result_f1 = f1_score(y_true, y_pred, average='micro') \n",
    "# result_f1"
   ]
  },
  {
   "cell_type": "code",
   "execution_count": null,
   "metadata": {},
   "outputs": [],
   "source": [
    "import torch\n",
    "# for i in range(len(resultwordOrigin['logitsSoftmax'])):\n",
    "#     resultwordOrigin['logitsSoftmax'][i] = torch.tensor(resultwordOrigin['logitsSoftmax'][i])\n",
    "# for i in range(len(resultwordMasked['logitsSoftmax'])):\n",
    "#     resultwordMasked['logitsSoftmax'][i] = torch.tensor(resultwordMasked['logitsSoftmax'][i])\n",
    "    \n",
    "influenceScore, weight = calculateInfluenceScore(resultwordOrigin['logitsSoftmax'][17], resultwordMasked['logitsSoftmax'][11], get_idx_arg_preds(resultwordOrigin['pred'][17], resultwordMasked['pred'][11]))"
   ]
  },
  {
   "cell_type": "code",
   "execution_count": null,
   "metadata": {},
   "outputs": [
    {
     "data": {
      "text/plain": [
       "[1.9993527,\n",
       " 1.9817264,\n",
       " 1.9991751,\n",
       " 1.999907,\n",
       " 1.9999479,\n",
       " 1.9924685,\n",
       " 1.9999399,\n",
       " 1.9996614,\n",
       " 1.9999313]"
      ]
     },
     "execution_count": 26,
     "metadata": {},
     "output_type": "execute_result"
    }
   ],
   "source": [
    "influenceScore"
   ]
  },
  {
   "cell_type": "code",
   "execution_count": null,
   "metadata": {},
   "outputs": [
    {
     "name": "stdout",
     "output_type": "stream",
     "text": [
      "0.9984505706363254\n"
     ]
    }
   ],
   "source": [
    "print(sum(influenceScore) / sum(weight))"
   ]
  },
  {
   "cell_type": "code",
   "execution_count": null,
   "metadata": {},
   "outputs": [],
   "source": [
    "import numpy as np\n",
    "\n",
    "\n",
    "def relevance_score(prob_origin_, prob_masked_, labMap, label_gold, label_origin, label_masked):\n",
    "    relevance = []\n",
    "    weight = []\n",
    "    jud_space = get_idx_arg_preds(label_origin, label_masked, label_gold)\n",
    "    \n",
    "    for i in range(len(prob_origin_)):\n",
    "        if i not in jud_space:\n",
    "            continue\n",
    "        # print(i)\n",
    "        max_index_origin = np.argmax(prob_origin_[i])\n",
    "        max_index_masked = np.argmax(prob_masked_[i])\n",
    "        idx_label_gold = labMap[str(label_gold[i])]\n",
    "        \n",
    "        # idx_label_gold = label_gold[i]\n",
    "        if label_gold[i] == label_origin[i] and label_gold[i] == label_masked[i]:\n",
    "            score_increase_gold = (prob_origin_[i][idx_label_gold] - prob_masked_[i][idx_label_gold])/max(prob_origin_[i][idx_label_gold], prob_masked_[i][idx_label_gold])\n",
    "            relevance.append(score_increase_gold)\n",
    "            weight.append(1)\n",
    "            # print(score_increase_gold)\n",
    "        elif label_masked[i] != label_origin[i] and label_origin[i] == label_gold[i]:\n",
    "            score_increase_gold = (prob_origin_[i][idx_label_gold] - prob_masked_[i][idx_label_gold])/max(prob_origin_[i][idx_label_gold], prob_masked_[i][idx_label_gold])\n",
    "            score_decrease_mask = (prob_masked_[i][max_index_masked] - prob_origin_[i][max_index_masked])/max(prob_masked_[i][max_index_masked], prob_origin_[i][max_index_masked])\n",
    "            relevance.append((score_increase_gold + score_decrease_mask)/2)\n",
    "            weight.append(2)\n",
    "            # print(score_increase_gold, score_decrease_mask)\n",
    "        elif label_origin[i] != label_masked[i] and label_masked[i] == label_gold[i]:\n",
    "            score_increase_gold = (prob_origin_[i][idx_label_gold] - prob_masked_[i][idx_label_gold])/max(prob_origin_[i][idx_label_gold], prob_masked_[i][idx_label_gold])\n",
    "            score_decrease_origin = (prob_masked_[i][max_index_origin] - prob_origin_[i][max_index_origin])/max(prob_masked_[i][max_index_origin], prob_origin_[i][max_index_origin])\n",
    "            relevance.append((score_increase_gold + score_decrease_origin)/2)\n",
    "            weight.append(2)\n",
    "            # print(score_increase_gold, score_decrease_origin)\n",
    "        elif label_gold[i] != label_origin[i] and label_masked[i] != label_gold[i]:\n",
    "            score_increase_gold = (prob_origin_[i][idx_label_gold] - prob_masked_[i][idx_label_gold])/max(prob_origin_[i][idx_label_gold], prob_masked_[i][idx_label_gold])\n",
    "            score_decrease_mask = (prob_masked_[i][max_index_masked] - prob_origin_[i][max_index_masked])/max(prob_masked_[i][max_index_masked], prob_origin_[i][max_index_masked])\n",
    "            score_decrease_origin = (prob_masked_[i][max_index_origin] - prob_origin_[i][max_index_origin])/max(prob_masked_[i][max_index_origin], prob_origin_[i][max_index_origin])\n",
    "            relevance.append((score_increase_gold + score_decrease_mask + score_decrease_origin)/3)\n",
    "            weight.append(1)\n",
    "            # print(score_increase_gold, score_decrease_mask, score_decrease_origin)\n",
    "        \n",
    "        # print('------------------------')\n",
    "    return relevance, weight"
   ]
  },
  {
   "cell_type": "code",
   "execution_count": null,
   "metadata": {},
   "outputs": [],
   "source": [
    "labelMap = a[0]['task_params'].labelMap['conllsrl']"
   ]
  },
  {
   "cell_type": "code",
   "execution_count": null,
   "metadata": {},
   "outputs": [],
   "source": [
    "relevance_in_all_words, weights = relevance_score(resultwordOrigin['logitsSoftmax'][17], resultwordMasked['logitsSoftmax'][11], labelMap, resultwordOrigin['label'][17], resultwordOrigin['pred'][17], resultwordMasked['pred'][11])"
   ]
  },
  {
   "cell_type": "code",
   "execution_count": null,
   "metadata": {},
   "outputs": [
    {
     "data": {
      "text/plain": [
       "0.4354802332818508"
      ]
     },
     "execution_count": 53,
     "metadata": {},
     "output_type": "execute_result"
    }
   ],
   "source": [
    "sum(relevance_in_all_words) / sum(weights)"
   ]
  },
  {
   "cell_type": "code",
   "execution_count": null,
   "metadata": {},
   "outputs": [],
   "source": [
    "def competence_score(origin, masked):\n",
    "    result = []\n",
    "    jump_count = 0\n",
    "    for i in range(len(origin['uid'])):\n",
    "        for j in range(jump_count, len(masked['uid'])):\n",
    "            if int(origin['uid'][i]) == int(masked['uid'][j]):\n",
    "                print(i, j)\n",
    "                influenceScore, weight_influ = calculateInfluenceScore(origin['logitsSoftmax'][i], masked['logitsSoftmax'][j], get_idx_arg_preds(origin['pred'][i], masked['pred'][j]))\n",
    "                relevance_in_all_words, weight_relevance = relevance_score(origin['logitsSoftmax'][i], masked['logitsSoftmax'][j],labelMap, origin['label'][i], origin['pred'][i], masked['pred'][j])\n",
    "                result.append(\n",
    "                    {\n",
    "                        'uid': origin['uid'][i],\n",
    "                        'influence': sum(influenceScore) / sum(weight_influ),\n",
    "                        'relevance': sum(relevance_in_all_words) / sum(weight_relevance)\n",
    "                    }\n",
    "                )\n",
    "            else:\n",
    "                jump_count = j\n",
    "                break\n",
    "        \n",
    "    return result"
   ]
  },
  {
   "cell_type": "code",
   "execution_count": null,
   "metadata": {},
   "outputs": [],
   "source": []
  },
  {
   "cell_type": "code",
   "execution_count": null,
   "metadata": {},
   "outputs": [],
   "source": [
    "competence = competence_score(resultwordOrigin, resultwordMasked)\n",
    "competence"
   ]
  },
  {
   "cell_type": "code",
   "execution_count": null,
   "metadata": {},
   "outputs": [
    {
     "name": "stdout",
     "output_type": "stream",
     "text": [
      "Spearman correlation coefficient: 0.4214106130634676\n",
      "p-value: 2.3245450509031783e-11\n"
     ]
    }
   ],
   "source": [
    "from scipy.stats import spearmanr, permutation_test\n",
    "\n",
    "influence_values = [item['influence'] for item in competence]\n",
    "relevance_values = [item['relevance'] for item in competence]\n",
    "\n",
    "# Calculate Spearman correlation coefficient\n",
    "correlation_coefficient, p_value = spearmanr(influence_values, relevance_values)\n",
    "\n",
    "\n",
    "print(\"Spearman correlation coefficient:\", correlation_coefficient)\n",
    "print(\"p-value:\", p_value) # 0.0000517314356670977"
   ]
  },
  {
   "cell_type": "code",
   "execution_count": null,
   "metadata": {},
   "outputs": [
    {
     "data": {
      "image/png": "[encoded data removed]",
      "text/plain": [
       "<Figure size 640x480 with 1 Axes>"
      ]
     },
     "metadata": {},
     "output_type": "display_data"
    }
   ],
   "source": [
    "# visualize the influence and relevance score\n",
    "import matplotlib.pyplot as plt\n",
    "\n",
    "\n",
    "influence = [item['influence'] for item in competence]\n",
    "relevance = [item['relevance'] for item in competence]\n",
    "\n",
    "# line chart\n",
    "plt.plot(influence, label='influence')\n",
    "plt.plot(relevance, label='relevance')\n",
    "plt.legend()\n",
    "plt.show()"
   ]
  },
  {
   "cell_type": "code",
   "execution_count": null,
   "metadata": {},
   "outputs": [],
   "source": []
  }
 ],
 "metadata": {
  "kernelspec": {
   "display_name": "min_ds-env",
   "language": "python",
   "name": "python3"
  },
  "language_info": {
   "codemirror_mode": {
    "name": "ipython",
    "version": 3
   },
   "file_extension": ".py",
   "mimetype": "text/x-python",
   "name": "python",
   "nbconvert_exporter": "python",
   "pygments_lexer": "ipython3",
   "version": "3.8.8"
  }
 },
 "nbformat": 4,
 "nbformat_minor": 2
}
