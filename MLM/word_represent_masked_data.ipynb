{
 "cells": [
  {
   "cell_type": "code",
   "execution_count": null,
   "metadata": {},
   "outputs": [],
   "source": [
    "# 1. Tạo masked word và lưu giống data cũ\n",
    "# 2. Lấy ra vector logit \n",
    "# 3. lấy được index của chỗ arg bị thay đổi của dự đoán sau khi masked data \n",
    "# 4. Tính inf "
   ]
  }
 ],
 "metadata": {
  "language_info": {
   "name": "python"
  }
 },
 "nbformat": 4,
 "nbformat_minor": 2
}
