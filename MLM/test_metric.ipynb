{
 "cells": [
  {
   "cell_type": "markdown",
   "metadata": {},
   "source": [
    "### test get replace word"
   ]
  },
  {
   "cell_type": "code",
   "execution_count": 23,
   "metadata": {},
   "outputs": [
    {
     "name": "stdout",
     "output_type": "stream",
     "text": [
      "   val_col word_col  val_col word_col  val_col word_col\n",
      "0        1        a        2        d        3        g\n",
      "1        4        b        2        e        1        h\n",
      "2        3        c        5        f        2        i\n",
      "  word_col1 word_col2 word_col3\n",
      "0         a         d         g\n",
      "1         b         e         h\n",
      "2         c         f         i\n"
     ]
    },
    {
     "data": {
      "text/plain": [
       "0    a\n",
       "1    h\n",
       "2    i\n",
       "dtype: object"
      ]
     },
     "execution_count": 23,
     "metadata": {},
     "output_type": "execute_result"
    }
   ],
   "source": [
    "import pandas as pd\n",
    "\n",
    "# Creating sample DataFrames\n",
    "data1 = {'val_col': [1, 4, 3], 'word_col': ['a', 'b', 'c']}\n",
    "data2 = {'val_col': [2, 2, 5], 'word_col': ['d', 'e', 'f']}\n",
    "data3 = {'val_col': [3, 1, 2], 'word_col': ['g', 'h', 'i']}\n",
    "\n",
    "df1 = pd.DataFrame(data1)\n",
    "df2 = pd.DataFrame(data2)\n",
    "df3 = pd.DataFrame(data3)\n",
    "\n",
    "# Concatenating the DataFrames\n",
    "concatenated_df = pd.concat([df1, df2, df3], axis=1)\n",
    "print(concatenated_df)\n",
    "# Selecting the `val_col` columns\n",
    "val_cols = concatenated_df.filter(like='val_col')\n",
    "val_cols.columns = ['val_col1', 'val_col2', 'val_col3']\n",
    "\n",
    "# Selecting the `word_col` columns\n",
    "word_cols = concatenated_df.filter(like='word_col')\n",
    "word_cols.columns = ['word_col1', 'word_col2', 'word_col3']\n",
    "print(word_cols)\n",
    "\n",
    "# instead of return column names, return column indices\n",
    "min_val_indices = val_cols.columns.get_indexer(val_cols.idxmin(axis=1))\n",
    "\n",
    "selected_words = word_cols.apply(lambda row: row.iloc[min_val_indices[row.name]], axis=1)\n",
    "selected_words\n",
    "\n"
   ]
  },
  {
   "cell_type": "markdown",
   "metadata": {},
   "source": [
    "### test using pandas df"
   ]
  },
  {
   "cell_type": "code",
   "execution_count": null,
   "metadata": {},
   "outputs": [],
   "source": [
    "import numpy as np\n",
    "import pandas as pd\n",
    "\n",
    "def cosine_similarity(vec1, vec2):\n",
    "    dot_product = np.dot(vec1, vec2)\n",
    "    norm_a = np.linalg.norm(vec1)\n",
    "    norm_b = np.linalg.norm(vec2)\n",
    "    return dot_product / (norm_a * norm_b)\n",
    "\n",
    "def compute_cosine_similarities(dfA, col1, dfB, col2):\n",
    "    similarities = pd.DataFrame(index=dfA.index, columns=dfB.index)\n",
    "    \n",
    "    for i in dfA.index:\n",
    "        for j in dfB.index:\n",
    "            vec1 = dfA.at[i, col1]\n",
    "            vec2 = dfB.at[j, col2]\n",
    "            similarities.at[i, j] = cosine_similarity(vec1, vec2)\n",
    "    # Convert to numeric type\n",
    "    similarities = similarities.apply(pd.to_numeric)\n",
    "    \n",
    "    return similarities\n",
    "\n",
    "def find_min_values_in_cols(similarity_matrix):\n",
    "    min_values = similarity_matrix.min(axis=1)\n",
    "    min_indices = similarity_matrix.idxmin(axis=1)\n",
    "    return min_values, min_indices\n",
    "\n",
    "# Example usage\n",
    "dataA = {\n",
    "    'col1': [\n",
    "        np.array([10, 2, 3]),\n",
    "        np.array([4, 5, 6]),\n",
    "        np.array([7, 8, 9]),\n",
    "        np.array([7, 8, 9])\n",
    "    ]\n",
    "}\n",
    "\n",
    "dataB = {\n",
    "    'col2': [\n",
    "        np.array([1, 0, 0]),\n",
    "        np.array([0, 1, 0]),\n",
    "        np.array([5, 1, 1])\n",
    "    ]\n",
    "}\n",
    "\n",
    "dfA = pd.DataFrame(dataA)\n",
    "print(dfA)\n",
    "dfB = pd.DataFrame(dataB)\n",
    "print(dfB)\n",
    "similarity_matrix = compute_cosine_similarities(dfA, 'col1', dfB, 'col2')\n",
    "print(similarity_matrix)\n",
    "min_values, min_index = find_min_values_in_cols(similarity_matrix)\n",
    "print(min_values)\n",
    "print(min_index)\n",
    "\n",
    "# retriave the value of dataframeA at index min_index\n",
    "dfB.loc[min_index]"
   ]
  },
  {
   "cell_type": "markdown",
   "metadata": {},
   "source": [
    "### "
   ]
  }
 ],
 "metadata": {
  "kernelspec": {
   "display_name": "min_ds-env",
   "language": "python",
   "name": "python3"
  },
  "language_info": {
   "codemirror_mode": {
    "name": "ipython",
    "version": 3
   },
   "file_extension": ".py",
   "mimetype": "text/x-python",
   "name": "python",
   "nbconvert_exporter": "python",
   "pygments_lexer": "ipython3",
   "version": "3.8.8"
  }
 },
 "nbformat": 4,
 "nbformat_minor": 2
}
