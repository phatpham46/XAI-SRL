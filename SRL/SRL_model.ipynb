{
 "cells": [
  {
   "cell_type": "code",
   "execution_count": null,
   "metadata": {},
   "outputs": [],
   "source": [
    "!python ../data_transformations.py --transform_file 'transform_file_conll.yml'"
   ]
  },
  {
   "cell_type": "code",
   "execution_count": null,
   "metadata": {},
   "outputs": [],
   "source": [
    "# !python ../data_preparation.py --task_file tasks_file_SRL.yml --data_dir ../data/coNLL_tsv --max_seq_len 50\n",
    "!python ../data_preparation.py --task_file tasks_file_SRL.yml --data_dir \"../MLM/data_mlm/process_folder/coNLL_tsv_json\" --max_seq_len 85\n",
    "# !python ../data_preparation.py --task_file tasks_file_SRL.yml --data_dir ../MLM/data_mlm/raw_folder/coNLL_tsv_v2 --max_seq_len 85\n"
   ]
  },
  {
   "cell_type": "code",
   "execution_count": null,
   "metadata": {},
   "outputs": [],
   "source": [
    "!python ../train.py \\\n",
    "    --data_dir '../data/coNLL_tsv/dmis-lab/biobert-base-cased-v1.2_prepared_data' \\\n",
    "    --task_file 'tasks_file_SRL.yml' \\\n",
    "    --out_dir '../output/ ' \\\n",
    "    --epochs 10 \\\n",
    "    --train_batch_size 32 \\\n",
    "    --eval_batch_size 32 \\\n",
    "    --grad_accumulation_steps 1 \\\n",
    "    --log_per_updates 50 \\\n",
    "    --max_seq_len 50 \\\n",
    "    --eval_while_train \\\n",
    "    --test_while_train \\\n",
    "    --silent \\\n",
    "    # --load_saved_model '/mnt/c/Users/Phat Pham/Documents/THESIS/SRLPredictionEasel/output/multi_task_model_9_13050.pt'\n",
    "    "
   ]
  },
  {
   "cell_type": "code",
   "execution_count": null,
   "metadata": {},
   "outputs": [],
   "source": [
    "!python /kaggle/working/SRLPredictionEasel/cal_brier_score.py \\\n",
    "        --data_dir /kaggle/input/srl-data/biobert-base-cased-v1.2_prepared_data-20240522/biobert-base-cased-v1.2_prepared_data/ \\\n",
    "        --task_file /kaggle/input/task-file/tasks_file_SRL.yml \\\n",
    "        --load_saved_mode /kaggle/input/finetunedsrl/pytorch/finetunesrl/1/multi_task_model_9_13050.pt \\\n",
    "        --silent "
   ]
  },
  {
   "cell_type": "code",
   "execution_count": null,
   "metadata": {},
   "outputs": [],
   "source": [
    "# run embedding from original biobert (cha duoi terminal)\n",
    "!python embedding.py --data_dir ./data/coNLL_tsv/bert-base-uncased_prepared_data --transform_file word_represent/embedding.yml"
   ]
  },
  {
   "cell_type": "code",
   "execution_count": null,
   "metadata": {},
   "outputs": [],
   "source": [
    "!python embedding.py --data_dir ./data/coNLL_tsv/dmis-lab/biobert-base-cased-v1.2_prepared_data --wrt_dir test"
   ]
  }
 ],
 "metadata": {
  "kernelspec": {
   "display_name": "Python 3",
   "language": "python",
   "name": "python3"
  },
  "language_info": {
   "codemirror_mode": {
    "name": "ipython",
    "version": 3
   },
   "file_extension": ".py",
   "mimetype": "text/x-python",
   "name": "python",
   "nbconvert_exporter": "python",
   "pygments_lexer": "ipython3",
   "version": "3.8.8"
  },
  "orig_nbformat": 4
 },
 "nbformat": 4,
 "nbformat_minor": 2
}
